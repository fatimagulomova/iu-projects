{
 "cells": [
  {
   "cell_type": "markdown",
   "id": "0f3c9948",
   "metadata": {
    "papermill": {
     "duration": 0.005942,
     "end_time": "2023-09-09T15:10:01.685422",
     "exception": false,
     "start_time": "2023-09-09T15:10:01.679480",
     "status": "completed"
    },
    "tags": []
   },
   "source": [
    "# Notebook Imports"
   ]
  },
  {
   "cell_type": "code",
   "execution_count": 1,
   "id": "ef3f3321",
   "metadata": {
    "execution": {
     "iopub.execute_input": "2023-09-09T15:10:01.698313Z",
     "iopub.status.busy": "2023-09-09T15:10:01.697030Z",
     "iopub.status.idle": "2023-09-09T15:10:04.652503Z",
     "shell.execute_reply": "2023-09-09T15:10:04.650973Z"
    },
    "papermill": {
     "duration": 2.964942,
     "end_time": "2023-09-09T15:10:04.655662",
     "exception": false,
     "start_time": "2023-09-09T15:10:01.690720",
     "status": "completed"
    },
    "tags": []
   },
   "outputs": [],
   "source": [
    "import os\n",
    "import pandas as pd\n",
    "import numpy as np\n",
    "from datetime import date\n",
    "import seaborn as sns\n",
    "from scipy import stats\n",
    "\n",
    "import matplotlib.pyplot as plt\n",
    "import warnings\n",
    "\n",
    "from sklearn.preprocessing import LabelEncoder\n",
    "from sklearn.decomposition import PCA\n",
    "from sklearn.preprocessing import StandardScaler\n",
    "\n",
    "from sklearn.cluster import KMeans\n",
    "from yellowbrick.cluster import KElbowVisualizer\n",
    "from sklearn.metrics import silhouette_score, davies_bouldin_score, calinski_harabasz_score\n",
    "from sklearn.feature_selection import VarianceThreshold\n",
    "from sklearn.manifold import TSNE\n",
    "\n",
    "warnings.filterwarnings('ignore')"
   ]
  },
  {
   "cell_type": "markdown",
   "id": "86358946",
   "metadata": {
    "papermill": {
     "duration": 0.004673,
     "end_time": "2023-09-09T15:10:04.665614",
     "exception": false,
     "start_time": "2023-09-09T15:10:04.660941",
     "status": "completed"
    },
    "tags": []
   },
   "source": [
    "# Constants"
   ]
  },
  {
   "cell_type": "code",
   "execution_count": 2,
   "id": "170f7150",
   "metadata": {
    "execution": {
     "iopub.execute_input": "2023-09-09T15:10:04.677328Z",
     "iopub.status.busy": "2023-09-09T15:10:04.676807Z",
     "iopub.status.idle": "2023-09-09T15:10:04.682416Z",
     "shell.execute_reply": "2023-09-09T15:10:04.680635Z"
    },
    "papermill": {
     "duration": 0.014135,
     "end_time": "2023-09-09T15:10:04.684647",
     "exception": false,
     "start_time": "2023-09-09T15:10:04.670512",
     "status": "completed"
    },
    "tags": []
   },
   "outputs": [],
   "source": [
    "FILE = '/kaggle/input/data-science-for-good/Dept_49-00035/49-00035_Incidents_2016.csv'"
   ]
  },
  {
   "cell_type": "markdown",
   "id": "43c6df6a",
   "metadata": {
    "papermill": {
     "duration": 0.005184,
     "end_time": "2023-09-09T15:10:04.695121",
     "exception": false,
     "start_time": "2023-09-09T15:10:04.689937",
     "status": "completed"
    },
    "tags": []
   },
   "source": [
    "# Load Data"
   ]
  },
  {
   "cell_type": "code",
   "execution_count": 3,
   "id": "46a23f8d",
   "metadata": {
    "execution": {
     "iopub.execute_input": "2023-09-09T15:10:04.706721Z",
     "iopub.status.busy": "2023-09-09T15:10:04.706331Z",
     "iopub.status.idle": "2023-09-09T15:10:04.788387Z",
     "shell.execute_reply": "2023-09-09T15:10:04.787468Z"
    },
    "papermill": {
     "duration": 0.090411,
     "end_time": "2023-09-09T15:10:04.790511",
     "exception": false,
     "start_time": "2023-09-09T15:10:04.700100",
     "status": "completed"
    },
    "tags": []
   },
   "outputs": [
    {
     "data": {
      "text/html": [
       "<div>\n",
       "<style scoped>\n",
       "    .dataframe tbody tr th:only-of-type {\n",
       "        vertical-align: middle;\n",
       "    }\n",
       "\n",
       "    .dataframe tbody tr th {\n",
       "        vertical-align: top;\n",
       "    }\n",
       "\n",
       "    .dataframe thead th {\n",
       "        text-align: right;\n",
       "    }\n",
       "</style>\n",
       "<table border=\"1\" class=\"dataframe\">\n",
       "  <thead>\n",
       "    <tr style=\"text-align: right;\">\n",
       "      <th></th>\n",
       "      <th>CRIME_TYPE</th>\n",
       "      <th>INCIDENT_DATE</th>\n",
       "      <th>INCIDENT_UNIQUE_IDENTIFIER</th>\n",
       "      <th>INCIDENT_REASON</th>\n",
       "      <th>LOCATION_DISTRICT</th>\n",
       "      <th>LOCATION_FULL_STREET_ADDRESS_OR_INTERSECTION</th>\n",
       "      <th>LOCATION_CITY</th>\n",
       "      <th>LOCATION_STATE</th>\n",
       "    </tr>\n",
       "  </thead>\n",
       "  <tbody>\n",
       "    <tr>\n",
       "      <th>0</th>\n",
       "      <td>DOMESTIC VIOLENCE</td>\n",
       "      <td>12/6/16 16:12</td>\n",
       "      <td>16-064496</td>\n",
       "      <td>THREAT CRIME:INT:TERRORIZE</td>\n",
       "      <td>04X</td>\n",
       "      <td>1700 MARTIN LUTHER KING JR W</td>\n",
       "      <td>Oakland</td>\n",
       "      <td>CA</td>\n",
       "    </tr>\n",
       "    <tr>\n",
       "      <th>1</th>\n",
       "      <td>STOLEN VEHICLE</td>\n",
       "      <td>12/6/16 7:20</td>\n",
       "      <td>16-064497</td>\n",
       "      <td>VEHICLE THEFT - AUTO</td>\n",
       "      <td>27X</td>\n",
       "      <td>1600 HIGH ST</td>\n",
       "      <td>Oakland</td>\n",
       "      <td>CA</td>\n",
       "    </tr>\n",
       "    <tr>\n",
       "      <th>2</th>\n",
       "      <td>FELONY ASSAULT</td>\n",
       "      <td>12/6/16 19:00</td>\n",
       "      <td>16-064499</td>\n",
       "      <td>OBSTRUCT/RESIST/ETC PUBLIC/PEACE OFFICER/EMERG...</td>\n",
       "      <td>08X</td>\n",
       "      <td>2800 TELEGRAPH AV</td>\n",
       "      <td>Oakland</td>\n",
       "      <td>CA</td>\n",
       "    </tr>\n",
       "    <tr>\n",
       "      <th>3</th>\n",
       "      <td>NARCOTICS</td>\n",
       "      <td>12/6/16 19:20</td>\n",
       "      <td>16-064501</td>\n",
       "      <td>POSSESS CONTROLLED SUBSTANCE PARAPHERNALIA</td>\n",
       "      <td>07X</td>\n",
       "      <td>34TH ST &amp; LINDEN ST</td>\n",
       "      <td>Oakland</td>\n",
       "      <td>CA</td>\n",
       "    </tr>\n",
       "    <tr>\n",
       "      <th>4</th>\n",
       "      <td>DISORDERLY CONDUCT</td>\n",
       "      <td>12/6/16 18:48</td>\n",
       "      <td>16-064505</td>\n",
       "      <td>DISORDERLY CONDUCT - ALCOHOL</td>\n",
       "      <td>04X</td>\n",
       "      <td>2100 SAN PABLO AV</td>\n",
       "      <td>Oakland</td>\n",
       "      <td>CA</td>\n",
       "    </tr>\n",
       "  </tbody>\n",
       "</table>\n",
       "</div>"
      ],
      "text/plain": [
       "           CRIME_TYPE  INCIDENT_DATE INCIDENT_UNIQUE_IDENTIFIER  \\\n",
       "0   DOMESTIC VIOLENCE  12/6/16 16:12                  16-064496   \n",
       "1      STOLEN VEHICLE   12/6/16 7:20                  16-064497   \n",
       "2      FELONY ASSAULT  12/6/16 19:00                  16-064499   \n",
       "3           NARCOTICS  12/6/16 19:20                  16-064501   \n",
       "4  DISORDERLY CONDUCT  12/6/16 18:48                  16-064505   \n",
       "\n",
       "                                     INCIDENT_REASON LOCATION_DISTRICT  \\\n",
       "0                         THREAT CRIME:INT:TERRORIZE               04X   \n",
       "1                               VEHICLE THEFT - AUTO               27X   \n",
       "2  OBSTRUCT/RESIST/ETC PUBLIC/PEACE OFFICER/EMERG...               08X   \n",
       "3         POSSESS CONTROLLED SUBSTANCE PARAPHERNALIA               07X   \n",
       "4                       DISORDERLY CONDUCT - ALCOHOL               04X   \n",
       "\n",
       "  LOCATION_FULL_STREET_ADDRESS_OR_INTERSECTION LOCATION_CITY LOCATION_STATE  \n",
       "0                 1700 MARTIN LUTHER KING JR W       Oakland             CA  \n",
       "1                                 1600 HIGH ST       Oakland             CA  \n",
       "2                            2800 TELEGRAPH AV       Oakland             CA  \n",
       "3                          34TH ST & LINDEN ST       Oakland             CA  \n",
       "4                            2100 SAN PABLO AV       Oakland             CA  "
      ]
     },
     "execution_count": 3,
     "metadata": {},
     "output_type": "execute_result"
    }
   ],
   "source": [
    "data = pd.read_csv(FILE, low_memory=False)\n",
    "df = pd.DataFrame(data)\n",
    "\n",
    "df.drop([0], axis=0, inplace=True)\n",
    "df.reset_index(drop=True, inplace=True)\n",
    "\n",
    "df.head()"
   ]
  },
  {
   "cell_type": "markdown",
   "id": "886a3b83",
   "metadata": {
    "papermill": {
     "duration": 0.004798,
     "end_time": "2023-09-09T15:10:04.800910",
     "exception": false,
     "start_time": "2023-09-09T15:10:04.796112",
     "status": "completed"
    },
    "tags": []
   },
   "source": [
    "# Step 1: Data Exploration and Preprocessing"
   ]
  },
  {
   "cell_type": "code",
   "execution_count": 4,
   "id": "8e0cc089",
   "metadata": {
    "execution": {
     "iopub.execute_input": "2023-09-09T15:10:04.813023Z",
     "iopub.status.busy": "2023-09-09T15:10:04.812663Z",
     "iopub.status.idle": "2023-09-09T15:10:04.822913Z",
     "shell.execute_reply": "2023-09-09T15:10:04.821651Z"
    },
    "papermill": {
     "duration": 0.019301,
     "end_time": "2023-09-09T15:10:04.825294",
     "exception": false,
     "start_time": "2023-09-09T15:10:04.805993",
     "status": "completed"
    },
    "tags": []
   },
   "outputs": [
    {
     "name": "stdout",
     "output_type": "stream",
     "text": [
      "\n",
      "The shape of the data: (10769, 8)\n",
      "\n",
      "The types of the data: \n",
      "CRIME_TYPE                                      object\n",
      "INCIDENT_DATE                                   object\n",
      "INCIDENT_UNIQUE_IDENTIFIER                      object\n",
      "INCIDENT_REASON                                 object\n",
      "LOCATION_DISTRICT                               object\n",
      "LOCATION_FULL_STREET_ADDRESS_OR_INTERSECTION    object\n",
      "LOCATION_CITY                                   object\n",
      "LOCATION_STATE                                  object\n",
      "dtype: object\n",
      "\n",
      "The empty row in the data: \n",
      "CRIME_TYPE                                      709\n",
      "INCIDENT_DATE                                     2\n",
      "INCIDENT_UNIQUE_IDENTIFIER                        0\n",
      "INCIDENT_REASON                                   0\n",
      "LOCATION_DISTRICT                               197\n",
      "LOCATION_FULL_STREET_ADDRESS_OR_INTERSECTION      0\n",
      "LOCATION_CITY                                     0\n",
      "LOCATION_STATE                                    0\n",
      "dtype: int64\n"
     ]
    }
   ],
   "source": [
    "print(f\"\\nThe shape of the data: {df.shape}\\n\")\n",
    "print(f\"The types of the data: \\n{df.dtypes}\\n\")\n",
    "print(f\"The empty row in the data: \\n{df.isnull().sum()}\")"
   ]
  },
  {
   "cell_type": "markdown",
   "id": "741ff74e",
   "metadata": {
    "papermill": {
     "duration": 0.005129,
     "end_time": "2023-09-09T15:10:04.836020",
     "exception": false,
     "start_time": "2023-09-09T15:10:04.830891",
     "status": "completed"
    },
    "tags": []
   },
   "source": [
    "### Handling missing values in the dataframe"
   ]
  },
  {
   "cell_type": "code",
   "execution_count": 5,
   "id": "4ff4fc31",
   "metadata": {
    "execution": {
     "iopub.execute_input": "2023-09-09T15:10:04.848673Z",
     "iopub.status.busy": "2023-09-09T15:10:04.848290Z",
     "iopub.status.idle": "2023-09-09T15:10:05.801996Z",
     "shell.execute_reply": "2023-09-09T15:10:05.800965Z"
    },
    "papermill": {
     "duration": 0.963019,
     "end_time": "2023-09-09T15:10:05.804294",
     "exception": false,
     "start_time": "2023-09-09T15:10:04.841275",
     "status": "completed"
    },
    "tags": []
   },
   "outputs": [],
   "source": [
    "# Extracting dates\n",
    "\n",
    "df['INCIDENT_DATE'] = pd.to_datetime(df.INCIDENT_DATE, format=\"mixed\")\n",
    "df[\"INCIDENT_YEAR\"] = df[\"INCIDENT_DATE\"].dt.strftime('%Y')\n",
    "df[\"INCIDENT_MONTH\"] = df[\"INCIDENT_DATE\"].dt.strftime('%m')\n",
    "df[\"INCIDENT_WEEKDAY\"] = df[\"INCIDENT_DATE\"].dt.strftime('%w')\n",
    "df[\"INCIDENT_TIME\"] = df[\"INCIDENT_DATE\"].dt.strftime('%X')\n",
    "df['INCIDENT_DATE'] = df['INCIDENT_DATE'].astype(str)\n",
    "df[\"INCIDENT_DATE\"] = df[\"INCIDENT_DATE\"].str.split(\" \").str[0].str.split(\"-\").str[2]  # Corrected date splitting"
   ]
  },
  {
   "cell_type": "code",
   "execution_count": 6,
   "id": "fe1a62b3",
   "metadata": {
    "execution": {
     "iopub.execute_input": "2023-09-09T15:10:05.816915Z",
     "iopub.status.busy": "2023-09-09T15:10:05.816543Z",
     "iopub.status.idle": "2023-09-09T15:10:05.831528Z",
     "shell.execute_reply": "2023-09-09T15:10:05.830213Z"
    },
    "papermill": {
     "duration": 0.023991,
     "end_time": "2023-09-09T15:10:05.833832",
     "exception": false,
     "start_time": "2023-09-09T15:10:05.809841",
     "status": "completed"
    },
    "tags": []
   },
   "outputs": [
    {
     "data": {
      "text/html": [
       "<div>\n",
       "<style scoped>\n",
       "    .dataframe tbody tr th:only-of-type {\n",
       "        vertical-align: middle;\n",
       "    }\n",
       "\n",
       "    .dataframe tbody tr th {\n",
       "        vertical-align: top;\n",
       "    }\n",
       "\n",
       "    .dataframe thead th {\n",
       "        text-align: right;\n",
       "    }\n",
       "</style>\n",
       "<table border=\"1\" class=\"dataframe\">\n",
       "  <thead>\n",
       "    <tr style=\"text-align: right;\">\n",
       "      <th></th>\n",
       "      <th>CRIME_TYPE</th>\n",
       "      <th>INCIDENT_DATE</th>\n",
       "      <th>INCIDENT_UNIQUE_IDENTIFIER</th>\n",
       "      <th>INCIDENT_REASON</th>\n",
       "      <th>LOCATION_DISTRICT</th>\n",
       "      <th>LOCATION_FULL_STREET_ADDRESS_OR_INTERSECTION</th>\n",
       "      <th>LOCATION_CITY</th>\n",
       "      <th>LOCATION_STATE</th>\n",
       "      <th>INCIDENT_YEAR</th>\n",
       "      <th>INCIDENT_MONTH</th>\n",
       "      <th>INCIDENT_WEEKDAY</th>\n",
       "      <th>INCIDENT_TIME</th>\n",
       "    </tr>\n",
       "  </thead>\n",
       "  <tbody>\n",
       "    <tr>\n",
       "      <th>0</th>\n",
       "      <td>DOMESTIC VIOLENCE</td>\n",
       "      <td>06</td>\n",
       "      <td>16-064496</td>\n",
       "      <td>THREAT CRIME:INT:TERRORIZE</td>\n",
       "      <td>04X</td>\n",
       "      <td>1700 MARTIN LUTHER KING JR W</td>\n",
       "      <td>Oakland</td>\n",
       "      <td>CA</td>\n",
       "      <td>2016</td>\n",
       "      <td>12</td>\n",
       "      <td>2</td>\n",
       "      <td>16:12:00</td>\n",
       "    </tr>\n",
       "    <tr>\n",
       "      <th>1</th>\n",
       "      <td>STOLEN VEHICLE</td>\n",
       "      <td>06</td>\n",
       "      <td>16-064497</td>\n",
       "      <td>VEHICLE THEFT - AUTO</td>\n",
       "      <td>27X</td>\n",
       "      <td>1600 HIGH ST</td>\n",
       "      <td>Oakland</td>\n",
       "      <td>CA</td>\n",
       "      <td>2016</td>\n",
       "      <td>12</td>\n",
       "      <td>2</td>\n",
       "      <td>07:20:00</td>\n",
       "    </tr>\n",
       "    <tr>\n",
       "      <th>2</th>\n",
       "      <td>FELONY ASSAULT</td>\n",
       "      <td>06</td>\n",
       "      <td>16-064499</td>\n",
       "      <td>OBSTRUCT/RESIST/ETC PUBLIC/PEACE OFFICER/EMERG...</td>\n",
       "      <td>08X</td>\n",
       "      <td>2800 TELEGRAPH AV</td>\n",
       "      <td>Oakland</td>\n",
       "      <td>CA</td>\n",
       "      <td>2016</td>\n",
       "      <td>12</td>\n",
       "      <td>2</td>\n",
       "      <td>19:00:00</td>\n",
       "    </tr>\n",
       "    <tr>\n",
       "      <th>3</th>\n",
       "      <td>NARCOTICS</td>\n",
       "      <td>06</td>\n",
       "      <td>16-064501</td>\n",
       "      <td>POSSESS CONTROLLED SUBSTANCE PARAPHERNALIA</td>\n",
       "      <td>07X</td>\n",
       "      <td>34TH ST &amp; LINDEN ST</td>\n",
       "      <td>Oakland</td>\n",
       "      <td>CA</td>\n",
       "      <td>2016</td>\n",
       "      <td>12</td>\n",
       "      <td>2</td>\n",
       "      <td>19:20:00</td>\n",
       "    </tr>\n",
       "    <tr>\n",
       "      <th>4</th>\n",
       "      <td>DISORDERLY CONDUCT</td>\n",
       "      <td>06</td>\n",
       "      <td>16-064505</td>\n",
       "      <td>DISORDERLY CONDUCT - ALCOHOL</td>\n",
       "      <td>04X</td>\n",
       "      <td>2100 SAN PABLO AV</td>\n",
       "      <td>Oakland</td>\n",
       "      <td>CA</td>\n",
       "      <td>2016</td>\n",
       "      <td>12</td>\n",
       "      <td>2</td>\n",
       "      <td>18:48:00</td>\n",
       "    </tr>\n",
       "  </tbody>\n",
       "</table>\n",
       "</div>"
      ],
      "text/plain": [
       "           CRIME_TYPE INCIDENT_DATE INCIDENT_UNIQUE_IDENTIFIER  \\\n",
       "0   DOMESTIC VIOLENCE            06                  16-064496   \n",
       "1      STOLEN VEHICLE            06                  16-064497   \n",
       "2      FELONY ASSAULT            06                  16-064499   \n",
       "3           NARCOTICS            06                  16-064501   \n",
       "4  DISORDERLY CONDUCT            06                  16-064505   \n",
       "\n",
       "                                     INCIDENT_REASON LOCATION_DISTRICT  \\\n",
       "0                         THREAT CRIME:INT:TERRORIZE               04X   \n",
       "1                               VEHICLE THEFT - AUTO               27X   \n",
       "2  OBSTRUCT/RESIST/ETC PUBLIC/PEACE OFFICER/EMERG...               08X   \n",
       "3         POSSESS CONTROLLED SUBSTANCE PARAPHERNALIA               07X   \n",
       "4                       DISORDERLY CONDUCT - ALCOHOL               04X   \n",
       "\n",
       "  LOCATION_FULL_STREET_ADDRESS_OR_INTERSECTION LOCATION_CITY LOCATION_STATE  \\\n",
       "0                 1700 MARTIN LUTHER KING JR W       Oakland             CA   \n",
       "1                                 1600 HIGH ST       Oakland             CA   \n",
       "2                            2800 TELEGRAPH AV       Oakland             CA   \n",
       "3                          34TH ST & LINDEN ST       Oakland             CA   \n",
       "4                            2100 SAN PABLO AV       Oakland             CA   \n",
       "\n",
       "  INCIDENT_YEAR INCIDENT_MONTH INCIDENT_WEEKDAY INCIDENT_TIME  \n",
       "0          2016             12                2      16:12:00  \n",
       "1          2016             12                2      07:20:00  \n",
       "2          2016             12                2      19:00:00  \n",
       "3          2016             12                2      19:20:00  \n",
       "4          2016             12                2      18:48:00  "
      ]
     },
     "execution_count": 6,
     "metadata": {},
     "output_type": "execute_result"
    }
   ],
   "source": [
    "df.head()"
   ]
  },
  {
   "cell_type": "code",
   "execution_count": 7,
   "id": "0d088373",
   "metadata": {
    "execution": {
     "iopub.execute_input": "2023-09-09T15:10:05.846899Z",
     "iopub.status.busy": "2023-09-09T15:10:05.846503Z",
     "iopub.status.idle": "2023-09-09T15:10:05.869320Z",
     "shell.execute_reply": "2023-09-09T15:10:05.867378Z"
    },
    "papermill": {
     "duration": 0.032298,
     "end_time": "2023-09-09T15:10:05.871984",
     "exception": false,
     "start_time": "2023-09-09T15:10:05.839686",
     "status": "completed"
    },
    "tags": []
   },
   "outputs": [],
   "source": [
    "df['INCIDENT_YEAR'].replace(to_replace=np.nan, value=0, inplace=True)\n",
    "df['INCIDENT_YEAR'] = df['INCIDENT_YEAR'].astype(int)\n",
    "replace = df[(df['INCIDENT_YEAR'] < 2016) | (df['INCIDENT_YEAR'] > 2017)]['INCIDENT_YEAR'].tolist()\n",
    "value = round(df[(df['INCIDENT_YEAR'] >= 2016) | (df['INCIDENT_YEAR'] <= 2017)]['INCIDENT_YEAR'].mean())\n",
    "df['INCIDENT_YEAR'].replace(to_replace=replace, value=value, inplace=True)"
   ]
  },
  {
   "cell_type": "code",
   "execution_count": 8,
   "id": "ca6b4b12",
   "metadata": {
    "execution": {
     "iopub.execute_input": "2023-09-09T15:10:05.885659Z",
     "iopub.status.busy": "2023-09-09T15:10:05.885204Z",
     "iopub.status.idle": "2023-09-09T15:10:05.904532Z",
     "shell.execute_reply": "2023-09-09T15:10:05.903327Z"
    },
    "papermill": {
     "duration": 0.029368,
     "end_time": "2023-09-09T15:10:05.907275",
     "exception": false,
     "start_time": "2023-09-09T15:10:05.877907",
     "status": "completed"
    },
    "tags": []
   },
   "outputs": [],
   "source": [
    "for feature in df.columns:\n",
    "    df[feature].replace(to_replace=np.nan, value=\"UNKNOWN\", inplace=True) "
   ]
  },
  {
   "cell_type": "code",
   "execution_count": 9,
   "id": "c10de333",
   "metadata": {
    "execution": {
     "iopub.execute_input": "2023-09-09T15:10:05.920806Z",
     "iopub.status.busy": "2023-09-09T15:10:05.920381Z",
     "iopub.status.idle": "2023-09-09T15:10:05.933228Z",
     "shell.execute_reply": "2023-09-09T15:10:05.931429Z"
    },
    "papermill": {
     "duration": 0.022743,
     "end_time": "2023-09-09T15:10:05.936125",
     "exception": false,
     "start_time": "2023-09-09T15:10:05.913382",
     "status": "completed"
    },
    "tags": []
   },
   "outputs": [
    {
     "name": "stdout",
     "output_type": "stream",
     "text": [
      "The empty row in the data: \n",
      "CRIME_TYPE                                      0\n",
      "INCIDENT_DATE                                   0\n",
      "INCIDENT_UNIQUE_IDENTIFIER                      0\n",
      "INCIDENT_REASON                                 0\n",
      "LOCATION_DISTRICT                               0\n",
      "LOCATION_FULL_STREET_ADDRESS_OR_INTERSECTION    0\n",
      "LOCATION_CITY                                   0\n",
      "LOCATION_STATE                                  0\n",
      "INCIDENT_YEAR                                   0\n",
      "INCIDENT_MONTH                                  0\n",
      "INCIDENT_WEEKDAY                                0\n",
      "INCIDENT_TIME                                   0\n",
      "dtype: int64\n"
     ]
    }
   ],
   "source": [
    "print(f\"The empty row in the data: \\n{df.isnull().sum()}\")"
   ]
  },
  {
   "cell_type": "code",
   "execution_count": 10,
   "id": "960cc326",
   "metadata": {
    "execution": {
     "iopub.execute_input": "2023-09-09T15:10:05.949480Z",
     "iopub.status.busy": "2023-09-09T15:10:05.949127Z",
     "iopub.status.idle": "2023-09-09T15:10:05.958774Z",
     "shell.execute_reply": "2023-09-09T15:10:05.957024Z"
    },
    "papermill": {
     "duration": 0.019547,
     "end_time": "2023-09-09T15:10:05.961442",
     "exception": false,
     "start_time": "2023-09-09T15:10:05.941895",
     "status": "completed"
    },
    "tags": []
   },
   "outputs": [
    {
     "data": {
      "text/plain": [
       "(10769, 12)"
      ]
     },
     "execution_count": 10,
     "metadata": {},
     "output_type": "execute_result"
    }
   ],
   "source": [
    "df.shape"
   ]
  },
  {
   "cell_type": "code",
   "execution_count": 11,
   "id": "0438bc5c",
   "metadata": {
    "execution": {
     "iopub.execute_input": "2023-09-09T15:10:05.975546Z",
     "iopub.status.busy": "2023-09-09T15:10:05.975149Z",
     "iopub.status.idle": "2023-09-09T15:10:05.987909Z",
     "shell.execute_reply": "2023-09-09T15:10:05.986846Z"
    },
    "papermill": {
     "duration": 0.022304,
     "end_time": "2023-09-09T15:10:05.990155",
     "exception": false,
     "start_time": "2023-09-09T15:10:05.967851",
     "status": "completed"
    },
    "tags": []
   },
   "outputs": [
    {
     "data": {
      "text/plain": [
       "CRIME_TYPE\n",
       "BURG - AUTO                           2052\n",
       "STOLEN VEHICLE                        1683\n",
       "VANDALISM                              877\n",
       "PETTY THEFT                            853\n",
       "MISDEMEANOR ASSAULT                    780\n",
       "UNKNOWN                                709\n",
       "DOMESTIC VIOLENCE                      674\n",
       "ROBBERY                                654\n",
       "BURG - RESIDENTIAL                     489\n",
       "FELONY ASSAULT                         284\n",
       "GRAND THEFT                            270\n",
       "NARCOTICS                              215\n",
       "RECOVERED O/S STOLEN                   195\n",
       "DISORDERLY CONDUCT                     164\n",
       "FRAUD                                  149\n",
       "BURG - COMMERCIAL                      145\n",
       "WEAPONS                                 91\n",
       "PROSTITUTION                            77\n",
       "OTHER                                   71\n",
       "THREATS                                 70\n",
       "DUI                                     62\n",
       "RECOVERED VEHICLE - OAKLAND STOLEN      35\n",
       "ARSON                                   29\n",
       "HOMICIDE                                25\n",
       "BURG - OTHER                            24\n",
       "DRUNKENNESS                             22\n",
       "STOLEN AND RECOVERED VEHICLE            16\n",
       "TOWED VEHICLE                           12\n",
       "FORGERY & COUNTERFEITING                11\n",
       "POSSESSION - STOLEN PROPERTY             7\n",
       "MISCELLANEOUS TRAFFIC CRIME              7\n",
       "INCIDENT TYPE                            7\n",
       "FELONY WARRANT                           2\n",
       "BRANDISHING                              2\n",
       "CHILD ABUSE                              2\n",
       "CURFEW & LOITERING                       1\n",
       "OTHER SEX OFFENSES                       1\n",
       "MISSING                                  1\n",
       "MISDEMEANOR WARRANT                      1\n",
       "Name: count, dtype: int64"
      ]
     },
     "execution_count": 11,
     "metadata": {},
     "output_type": "execute_result"
    }
   ],
   "source": [
    "df['CRIME_TYPE'].value_counts()"
   ]
  },
  {
   "cell_type": "code",
   "execution_count": null,
   "id": "85052569",
   "metadata": {
    "papermill": {
     "duration": 0.005733,
     "end_time": "2023-09-09T15:10:06.002045",
     "exception": false,
     "start_time": "2023-09-09T15:10:05.996312",
     "status": "completed"
    },
    "tags": []
   },
   "outputs": [],
   "source": []
  }
 ],
 "kernelspec": {
  "display_name": "Python 3",
  "language": "python",
  "name": "python3"
 },
 "language_info": {
  "codemirror_mode": {
   "name": "ipython",
   "version": 3
  },
  "file_extension": ".py",
  "mimetype": "text/x-python",
  "name": "python",
  "nbconvert_exporter": "python",
  "pygments_lexer": "ipython3",
  "version": "3.6.4"
 },
 "metadata": {
  "kernelspec": {
   "display_name": "Python 3",
   "language": "python",
   "name": "python3"
  },
  "language_info": {
   "codemirror_mode": {
    "name": "ipython",
    "version": 3
   },
   "file_extension": ".py",
   "mimetype": "text/x-python",
   "name": "python",
   "nbconvert_exporter": "python",
   "pygments_lexer": "ipython3",
   "version": "3.10.12"
  },
  "papermill": {
   "default_parameters": {},
   "duration": 8.049009,
   "end_time": "2023-09-09T15:10:06.628970",
   "environment_variables": {},
   "exception": null,
   "input_path": "__notebook__.ipynb",
   "output_path": "__notebook__.ipynb",
   "parameters": {},
   "start_time": "2023-09-09T15:09:58.579961",
   "version": "2.4.0"
  }
 },
 "nbformat": 4,
 "nbformat_minor": 5
}
