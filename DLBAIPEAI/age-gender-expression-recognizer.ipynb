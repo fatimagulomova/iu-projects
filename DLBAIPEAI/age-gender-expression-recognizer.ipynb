{
 "cells": [
  {
   "cell_type": "markdown",
   "id": "885ec3d6",
   "metadata": {
    "papermill": {
     "duration": 0.006153,
     "end_time": "2025-01-20T06:03:54.104477",
     "exception": false,
     "start_time": "2025-01-20T06:03:54.098324",
     "status": "completed"
    },
    "tags": []
   },
   "source": [
    "# Age, Gender & Expression Recognizer"
   ]
  },
  {
   "cell_type": "markdown",
   "id": "5c073099",
   "metadata": {
    "papermill": {
     "duration": 0.004968,
     "end_time": "2025-01-20T06:03:54.114900",
     "exception": false,
     "start_time": "2025-01-20T06:03:54.109932",
     "status": "completed"
    },
    "tags": []
   },
   "source": [
    "## 1. Setup and Preparation"
   ]
  },
  {
   "cell_type": "markdown",
   "id": "35f7ba71",
   "metadata": {
    "papermill": {
     "duration": 0.004927,
     "end_time": "2025-01-20T06:03:54.124984",
     "exception": false,
     "start_time": "2025-01-20T06:03:54.120057",
     "status": "completed"
    },
    "tags": []
   },
   "source": [
    "### 1.1 Import Libraries and Setting Up Device-agnostic code"
   ]
  },
  {
   "cell_type": "code",
   "execution_count": 1,
   "id": "687ebf1d",
   "metadata": {
    "execution": {
     "iopub.execute_input": "2025-01-20T06:03:54.136330Z",
     "iopub.status.busy": "2025-01-20T06:03:54.136042Z",
     "iopub.status.idle": "2025-01-20T06:04:00.899144Z",
     "shell.execute_reply": "2025-01-20T06:04:00.898280Z"
    },
    "papermill": {
     "duration": 6.770543,
     "end_time": "2025-01-20T06:04:00.900648",
     "exception": false,
     "start_time": "2025-01-20T06:03:54.130105",
     "status": "completed"
    },
    "tags": []
   },
   "outputs": [
    {
     "data": {
      "text/plain": [
       "'2.4.1+cu121'"
      ]
     },
     "execution_count": 1,
     "metadata": {},
     "output_type": "execute_result"
    }
   ],
   "source": [
    "import torch\n",
    "import pandas as pd\n",
    "\n",
    "from torch import nn\n",
    "from pathlib import Path\n",
    "from PIL import Image\n",
    "import matplotlib.pyplot as plt\n",
    "from sklearn.model_selection import train_test_split\n",
    "from torchvision import transforms\n",
    "\n",
    "torch.__version__"
   ]
  },
  {
   "cell_type": "code",
   "execution_count": 2,
   "id": "ebffe2e9",
   "metadata": {
    "execution": {
     "iopub.execute_input": "2025-01-20T06:04:00.913616Z",
     "iopub.status.busy": "2025-01-20T06:04:00.913119Z",
     "iopub.status.idle": "2025-01-20T06:04:00.984266Z",
     "shell.execute_reply": "2025-01-20T06:04:00.983492Z"
    },
    "papermill": {
     "duration": 0.078944,
     "end_time": "2025-01-20T06:04:00.985648",
     "exception": false,
     "start_time": "2025-01-20T06:04:00.906704",
     "status": "completed"
    },
    "tags": []
   },
   "outputs": [
    {
     "data": {
      "text/plain": [
       "'cuda'"
      ]
     },
     "execution_count": 2,
     "metadata": {},
     "output_type": "execute_result"
    }
   ],
   "source": [
    "# Setting device-agnostic code\n",
    "device = 'cuda' if torch.cuda.is_available() else 'cpu'\n",
    "device"
   ]
  },
  {
   "cell_type": "markdown",
   "id": "6cd62c84",
   "metadata": {
    "papermill": {
     "duration": 0.005373,
     "end_time": "2025-01-20T06:04:00.996996",
     "exception": false,
     "start_time": "2025-01-20T06:04:00.991623",
     "status": "completed"
    },
    "tags": []
   },
   "source": [
    "### 1.2 Configuration"
   ]
  },
  {
   "cell_type": "code",
   "execution_count": 3,
   "id": "14dbc72b",
   "metadata": {
    "execution": {
     "iopub.execute_input": "2025-01-20T06:04:01.009615Z",
     "iopub.status.busy": "2025-01-20T06:04:01.009266Z",
     "iopub.status.idle": "2025-01-20T06:04:01.012979Z",
     "shell.execute_reply": "2025-01-20T06:04:01.012267Z"
    },
    "papermill": {
     "duration": 0.011218,
     "end_time": "2025-01-20T06:04:01.014215",
     "exception": false,
     "start_time": "2025-01-20T06:04:01.002997",
     "status": "completed"
    },
    "tags": []
   },
   "outputs": [],
   "source": [
    "data_path = Path('/kaggle/input/')\n",
    "\n",
    "AGE_FILE_PATH = data_path / 'facial-age'\n",
    "EMOTION_FILE_PATH = data_path / 'facial-emotion-expressions'\n",
    "GENDER_FILE_PATH = data_path / 'gender-recognizer'"
   ]
  },
  {
   "cell_type": "code",
   "execution_count": 4,
   "id": "d9f96451",
   "metadata": {
    "execution": {
     "iopub.execute_input": "2025-01-20T06:04:01.025938Z",
     "iopub.status.busy": "2025-01-20T06:04:01.025700Z",
     "iopub.status.idle": "2025-01-20T06:04:01.030132Z",
     "shell.execute_reply": "2025-01-20T06:04:01.029327Z"
    },
    "papermill": {
     "duration": 0.011566,
     "end_time": "2025-01-20T06:04:01.031321",
     "exception": false,
     "start_time": "2025-01-20T06:04:01.019755",
     "status": "completed"
    },
    "tags": []
   },
   "outputs": [
    {
     "data": {
      "text/plain": [
       "(PosixPath('/kaggle/input/facial-age'),\n",
       " PosixPath('/kaggle/input/facial-emotion-expressions'),\n",
       " PosixPath('/kaggle/input/gender-recognizer'))"
      ]
     },
     "execution_count": 4,
     "metadata": {},
     "output_type": "execute_result"
    }
   ],
   "source": [
    "AGE_FILE_PATH, EMOTION_FILE_PATH, GENDER_FILE_PATH"
   ]
  },
  {
   "cell_type": "markdown",
   "id": "4d680774",
   "metadata": {
    "papermill": {
     "duration": 0.005282,
     "end_time": "2025-01-20T06:04:01.042145",
     "exception": false,
     "start_time": "2025-01-20T06:04:01.036863",
     "status": "completed"
    },
    "tags": []
   },
   "source": [
    "### 1.3 Load Datasets"
   ]
  },
  {
   "cell_type": "code",
   "execution_count": 5,
   "id": "db5c3005",
   "metadata": {
    "execution": {
     "iopub.execute_input": "2025-01-20T06:04:01.054292Z",
     "iopub.status.busy": "2025-01-20T06:04:01.054025Z",
     "iopub.status.idle": "2025-01-20T06:04:01.057653Z",
     "shell.execute_reply": "2025-01-20T06:04:01.056979Z"
    },
    "papermill": {
     "duration": 0.010974,
     "end_time": "2025-01-20T06:04:01.058949",
     "exception": false,
     "start_time": "2025-01-20T06:04:01.047975",
     "status": "completed"
    },
    "tags": []
   },
   "outputs": [],
   "source": [
    "import os\n",
    "\n",
    "def walk_throuhg_dir(dir_path):\n",
    "    for dirpath, dirnames, filenames in os.walk(dir_path):\n",
    "        print(f'There are {len(dirnames)} directories and {len(filenames)} images in {dirpath}')"
   ]
  },
  {
   "cell_type": "code",
   "execution_count": 6,
   "id": "1793fa77",
   "metadata": {
    "collapsed": true,
    "execution": {
     "iopub.execute_input": "2025-01-20T06:04:01.070629Z",
     "iopub.status.busy": "2025-01-20T06:04:01.070360Z",
     "iopub.status.idle": "2025-01-20T06:04:18.295468Z",
     "shell.execute_reply": "2025-01-20T06:04:18.294495Z"
    },
    "jupyter": {
     "outputs_hidden": true
    },
    "papermill": {
     "duration": 17.232436,
     "end_time": "2025-01-20T06:04:18.296912",
     "exception": false,
     "start_time": "2025-01-20T06:04:01.064476",
     "status": "completed"
    },
    "tags": []
   },
   "outputs": [
    {
     "name": "stdout",
     "output_type": "stream",
     "text": [
      "There are 1 directories and 0 images in /kaggle/input/facial-age\n",
      "There are 100 directories and 0 images in /kaggle/input/facial-age/face_age\n",
      "There are 0 directories and 60 images in /kaggle/input/facial-age/face_age/057\n",
      "There are 0 directories and 22 images in /kaggle/input/facial-age/face_age/086\n",
      "There are 0 directories and 50 images in /kaggle/input/facial-age/face_age/061\n",
      "There are 0 directories and 64 images in /kaggle/input/facial-age/face_age/048\n",
      "There are 0 directories and 133 images in /kaggle/input/facial-age/face_age/053\n",
      "There are 0 directories and 62 images in /kaggle/input/facial-age/face_age/051\n",
      "There are 0 directories and 3 images in /kaggle/input/facial-age/face_age/095\n",
      "There are 0 directories and 181 images in /kaggle/input/facial-age/face_age/018\n",
      "There are 0 directories and 27 images in /kaggle/input/facial-age/face_age/044\n",
      "There are 0 directories and 212 images in /kaggle/input/facial-age/face_age/016\n",
      "There are 0 directories and 126 images in /kaggle/input/facial-age/face_age/007\n",
      "There are 0 directories and 159 images in /kaggle/input/facial-age/face_age/009\n",
      "There are 0 directories and 106 images in /kaggle/input/facial-age/face_age/012\n",
      "There are 0 directories and 150 images in /kaggle/input/facial-age/face_age/029\n",
      "There are 0 directories and 156 images in /kaggle/input/facial-age/face_age/025\n",
      "There are 0 directories and 30 images in /kaggle/input/facial-age/face_age/078\n",
      "There are 0 directories and 1112 images in /kaggle/input/facial-age/face_age/001\n",
      "There are 0 directories and 132 images in /kaggle/input/facial-age/face_age/056\n",
      "There are 0 directories and 114 images in /kaggle/input/facial-age/face_age/006\n",
      "There are 0 directories and 84 images in /kaggle/input/facial-age/face_age/042\n",
      "There are 0 directories and 29 images in /kaggle/input/facial-age/face_age/082\n",
      "There are 0 directories and 52 images in /kaggle/input/facial-age/face_age/055\n",
      "There are 0 directories and 35 images in /kaggle/input/facial-age/face_age/076\n",
      "There are 0 directories and 1 images in /kaggle/input/facial-age/face_age/091\n",
      "There are 0 directories and 126 images in /kaggle/input/facial-age/face_age/027\n",
      "There are 99 directories and 0 images in /kaggle/input/facial-age/face_age/face_age\n",
      "There are 0 directories and 60 images in /kaggle/input/facial-age/face_age/face_age/057\n",
      "There are 0 directories and 22 images in /kaggle/input/facial-age/face_age/face_age/086\n",
      "There are 0 directories and 50 images in /kaggle/input/facial-age/face_age/face_age/061\n",
      "There are 0 directories and 64 images in /kaggle/input/facial-age/face_age/face_age/048\n",
      "There are 0 directories and 133 images in /kaggle/input/facial-age/face_age/face_age/053\n",
      "There are 0 directories and 62 images in /kaggle/input/facial-age/face_age/face_age/051\n",
      "There are 0 directories and 3 images in /kaggle/input/facial-age/face_age/face_age/095\n",
      "There are 0 directories and 181 images in /kaggle/input/facial-age/face_age/face_age/018\n",
      "There are 0 directories and 27 images in /kaggle/input/facial-age/face_age/face_age/044\n",
      "There are 0 directories and 212 images in /kaggle/input/facial-age/face_age/face_age/016\n",
      "There are 0 directories and 126 images in /kaggle/input/facial-age/face_age/face_age/007\n",
      "There are 0 directories and 159 images in /kaggle/input/facial-age/face_age/face_age/009\n",
      "There are 0 directories and 106 images in /kaggle/input/facial-age/face_age/face_age/012\n",
      "There are 0 directories and 150 images in /kaggle/input/facial-age/face_age/face_age/029\n",
      "There are 0 directories and 156 images in /kaggle/input/facial-age/face_age/face_age/025\n",
      "There are 0 directories and 30 images in /kaggle/input/facial-age/face_age/face_age/078\n",
      "There are 0 directories and 1112 images in /kaggle/input/facial-age/face_age/face_age/001\n",
      "There are 0 directories and 132 images in /kaggle/input/facial-age/face_age/face_age/056\n",
      "There are 0 directories and 114 images in /kaggle/input/facial-age/face_age/face_age/006\n",
      "There are 0 directories and 84 images in /kaggle/input/facial-age/face_age/face_age/042\n",
      "There are 0 directories and 29 images in /kaggle/input/facial-age/face_age/face_age/082\n",
      "There are 0 directories and 52 images in /kaggle/input/facial-age/face_age/face_age/055\n",
      "There are 0 directories and 35 images in /kaggle/input/facial-age/face_age/face_age/076\n",
      "There are 0 directories and 1 images in /kaggle/input/facial-age/face_age/face_age/091\n",
      "There are 0 directories and 126 images in /kaggle/input/facial-age/face_age/face_age/027\n",
      "There are 0 directories and 71 images in /kaggle/input/facial-age/face_age/face_age/080\n",
      "There are 0 directories and 56 images in /kaggle/input/facial-age/face_age/face_age/041\n",
      "There are 0 directories and 112 images in /kaggle/input/facial-age/face_age/face_age/036\n",
      "There are 0 directories and 53 images in /kaggle/input/facial-age/face_age/face_age/070\n",
      "There are 0 directories and 22 images in /kaggle/input/facial-age/face_age/face_age/071\n",
      "There are 0 directories and 121 images in /kaggle/input/facial-age/face_age/face_age/035\n",
      "There are 0 directories and 279 images in /kaggle/input/facial-age/face_age/face_age/026\n",
      "There are 0 directories and 113 images in /kaggle/input/facial-age/face_age/face_age/065\n",
      "There are 0 directories and 76 images in /kaggle/input/facial-age/face_age/face_age/062\n",
      "There are 0 directories and 11 images in /kaggle/input/facial-age/face_age/face_age/084\n",
      "There are 0 directories and 1 images in /kaggle/input/facial-age/face_age/face_age/101\n",
      "There are 0 directories and 87 images in /kaggle/input/facial-age/face_age/face_age/034\n",
      "There are 0 directories and 96 images in /kaggle/input/facial-age/face_age/face_age/058\n",
      "There are 0 directories and 137 images in /kaggle/input/facial-age/face_age/face_age/060\n",
      "There are 0 directories and 58 images in /kaggle/input/facial-age/face_age/face_age/068\n",
      "There are 0 directories and 87 images in /kaggle/input/facial-age/face_age/face_age/075\n",
      "There are 0 directories and 46 images in /kaggle/input/facial-age/face_age/face_age/033\n",
      "There are 0 directories and 99 images in /kaggle/input/facial-age/face_age/face_age/049\n",
      "There are 0 directories and 92 images in /kaggle/input/facial-age/face_age/face_age/023\n",
      "There are 0 directories and 103 images in /kaggle/input/facial-age/face_age/face_age/020\n",
      "There are 0 directories and 75 images in /kaggle/input/facial-age/face_age/face_age/013\n",
      "There are 0 directories and 2 images in /kaggle/input/facial-age/face_age/face_age/099\n",
      "There are 0 directories and 105 images in /kaggle/input/facial-age/face_age/face_age/050\n",
      "There are 0 directories and 16 images in /kaggle/input/facial-age/face_age/face_age/096\n",
      "There are 0 directories and 133 images in /kaggle/input/facial-age/face_age/face_age/052\n",
      "There are 0 directories and 31 images in /kaggle/input/facial-age/face_age/face_age/073\n",
      "There are 0 directories and 236 images in /kaggle/input/facial-age/face_age/face_age/008\n",
      "There are 0 directories and 54 images in /kaggle/input/facial-age/face_age/face_age/066\n",
      "There are 0 directories and 475 images in /kaggle/input/facial-age/face_age/face_age/002\n",
      "There are 0 directories and 47 images in /kaggle/input/facial-age/face_age/face_age/067\n",
      "There are 0 directories and 139 images in /kaggle/input/facial-age/face_age/face_age/022\n",
      "There are 0 directories and 52 images in /kaggle/input/facial-age/face_age/face_age/043\n",
      "There are 0 directories and 106 images in /kaggle/input/facial-age/face_age/face_age/054\n",
      "There are 0 directories and 10 images in /kaggle/input/facial-age/face_age/face_age/081\n",
      "There are 0 directories and 70 images in /kaggle/input/facial-age/face_age/face_age/047\n",
      "There are 0 directories and 63 images in /kaggle/input/facial-age/face_age/face_age/011\n",
      "There are 0 directories and 260 images in /kaggle/input/facial-age/face_age/face_age/004\n",
      "There are 0 directories and 4 images in /kaggle/input/facial-age/face_age/face_age/087\n",
      "There are 0 directories and 70 images in /kaggle/input/facial-age/face_age/face_age/072\n",
      "There are 0 directories and 136 images in /kaggle/input/facial-age/face_age/face_age/021\n",
      "There are 0 directories and 143 images in /kaggle/input/facial-age/face_age/face_age/015\n",
      "There are 0 directories and 59 images in /kaggle/input/facial-age/face_age/face_age/059\n",
      "There are 0 directories and 137 images in /kaggle/input/facial-age/face_age/face_age/014\n",
      "There are 0 directories and 136 images in /kaggle/input/facial-age/face_age/face_age/039\n",
      "There are 0 directories and 85 images in /kaggle/input/facial-age/face_age/face_age/040\n",
      "There are 0 directories and 55 images in /kaggle/input/facial-age/face_age/face_age/090\n",
      "There are 0 directories and 29 images in /kaggle/input/facial-age/face_age/face_age/064\n",
      "There are 0 directories and 47 images in /kaggle/input/facial-age/face_age/face_age/063\n",
      "There are 0 directories and 97 images in /kaggle/input/facial-age/face_age/face_age/031\n",
      "There are 0 directories and 13 images in /kaggle/input/facial-age/face_age/face_age/092\n",
      "There are 0 directories and 103 images in /kaggle/input/facial-age/face_age/face_age/017\n",
      "There are 0 directories and 284 images in /kaggle/input/facial-age/face_age/face_age/003\n",
      "There are 0 directories and 7 images in /kaggle/input/facial-age/face_age/face_age/083\n",
      "There are 0 directories and 58 images in /kaggle/input/facial-age/face_age/face_age/019\n",
      "There are 0 directories and 191 images in /kaggle/input/facial-age/face_age/face_age/024\n",
      "There are 0 directories and 45 images in /kaggle/input/facial-age/face_age/face_age/069\n",
      "There are 0 directories and 3 images in /kaggle/input/facial-age/face_age/face_age/093\n",
      "There are 0 directories and 16 images in /kaggle/input/facial-age/face_age/face_age/089\n",
      "There are 0 directories and 94 images in /kaggle/input/facial-age/face_age/face_age/037\n",
      "There are 0 directories and 180 images in /kaggle/input/facial-age/face_age/face_age/005\n",
      "There are 0 directories and 2 images in /kaggle/input/facial-age/face_age/face_age/100\n",
      "There are 0 directories and 2 images in /kaggle/input/facial-age/face_age/face_age/110\n",
      "There are 0 directories and 61 images in /kaggle/input/facial-age/face_age/face_age/046\n",
      "There are 0 directories and 77 images in /kaggle/input/facial-age/face_age/face_age/045\n",
      "There are 0 directories and 140 images in /kaggle/input/facial-age/face_age/face_age/010\n",
      "There are 0 directories and 17 images in /kaggle/input/facial-age/face_age/face_age/088\n",
      "There are 0 directories and 19 images in /kaggle/input/facial-age/face_age/face_age/077\n",
      "There are 0 directories and 145 images in /kaggle/input/facial-age/face_age/face_age/028\n",
      "There are 0 directories and 91 images in /kaggle/input/facial-age/face_age/face_age/038\n",
      "There are 0 directories and 16 images in /kaggle/input/facial-age/face_age/face_age/074\n",
      "There are 0 directories and 16 images in /kaggle/input/facial-age/face_age/face_age/079\n",
      "There are 0 directories and 141 images in /kaggle/input/facial-age/face_age/face_age/032\n",
      "There are 0 directories and 109 images in /kaggle/input/facial-age/face_age/face_age/030\n",
      "There are 0 directories and 130 images in /kaggle/input/facial-age/face_age/face_age/085\n",
      "There are 0 directories and 71 images in /kaggle/input/facial-age/face_age/080\n",
      "There are 0 directories and 56 images in /kaggle/input/facial-age/face_age/041\n",
      "There are 0 directories and 112 images in /kaggle/input/facial-age/face_age/036\n",
      "There are 0 directories and 53 images in /kaggle/input/facial-age/face_age/070\n",
      "There are 0 directories and 22 images in /kaggle/input/facial-age/face_age/071\n",
      "There are 0 directories and 121 images in /kaggle/input/facial-age/face_age/035\n",
      "There are 0 directories and 279 images in /kaggle/input/facial-age/face_age/026\n",
      "There are 0 directories and 113 images in /kaggle/input/facial-age/face_age/065\n",
      "There are 0 directories and 76 images in /kaggle/input/facial-age/face_age/062\n",
      "There are 0 directories and 11 images in /kaggle/input/facial-age/face_age/084\n",
      "There are 0 directories and 1 images in /kaggle/input/facial-age/face_age/101\n",
      "There are 0 directories and 87 images in /kaggle/input/facial-age/face_age/034\n",
      "There are 0 directories and 96 images in /kaggle/input/facial-age/face_age/058\n",
      "There are 0 directories and 137 images in /kaggle/input/facial-age/face_age/060\n",
      "There are 0 directories and 58 images in /kaggle/input/facial-age/face_age/068\n",
      "There are 0 directories and 87 images in /kaggle/input/facial-age/face_age/075\n",
      "There are 0 directories and 46 images in /kaggle/input/facial-age/face_age/033\n",
      "There are 0 directories and 99 images in /kaggle/input/facial-age/face_age/049\n",
      "There are 0 directories and 92 images in /kaggle/input/facial-age/face_age/023\n",
      "There are 0 directories and 103 images in /kaggle/input/facial-age/face_age/020\n",
      "There are 0 directories and 75 images in /kaggle/input/facial-age/face_age/013\n",
      "There are 0 directories and 2 images in /kaggle/input/facial-age/face_age/099\n",
      "There are 0 directories and 105 images in /kaggle/input/facial-age/face_age/050\n",
      "There are 0 directories and 16 images in /kaggle/input/facial-age/face_age/096\n",
      "There are 0 directories and 133 images in /kaggle/input/facial-age/face_age/052\n",
      "There are 0 directories and 31 images in /kaggle/input/facial-age/face_age/073\n",
      "There are 0 directories and 236 images in /kaggle/input/facial-age/face_age/008\n",
      "There are 0 directories and 54 images in /kaggle/input/facial-age/face_age/066\n",
      "There are 0 directories and 475 images in /kaggle/input/facial-age/face_age/002\n",
      "There are 0 directories and 47 images in /kaggle/input/facial-age/face_age/067\n",
      "There are 0 directories and 139 images in /kaggle/input/facial-age/face_age/022\n",
      "There are 0 directories and 52 images in /kaggle/input/facial-age/face_age/043\n",
      "There are 0 directories and 106 images in /kaggle/input/facial-age/face_age/054\n",
      "There are 0 directories and 10 images in /kaggle/input/facial-age/face_age/081\n",
      "There are 0 directories and 70 images in /kaggle/input/facial-age/face_age/047\n",
      "There are 0 directories and 63 images in /kaggle/input/facial-age/face_age/011\n",
      "There are 0 directories and 260 images in /kaggle/input/facial-age/face_age/004\n",
      "There are 0 directories and 4 images in /kaggle/input/facial-age/face_age/087\n",
      "There are 0 directories and 70 images in /kaggle/input/facial-age/face_age/072\n",
      "There are 0 directories and 136 images in /kaggle/input/facial-age/face_age/021\n",
      "There are 0 directories and 143 images in /kaggle/input/facial-age/face_age/015\n",
      "There are 0 directories and 59 images in /kaggle/input/facial-age/face_age/059\n",
      "There are 0 directories and 137 images in /kaggle/input/facial-age/face_age/014\n",
      "There are 0 directories and 136 images in /kaggle/input/facial-age/face_age/039\n",
      "There are 0 directories and 85 images in /kaggle/input/facial-age/face_age/040\n",
      "There are 0 directories and 55 images in /kaggle/input/facial-age/face_age/090\n",
      "There are 0 directories and 29 images in /kaggle/input/facial-age/face_age/064\n",
      "There are 0 directories and 47 images in /kaggle/input/facial-age/face_age/063\n",
      "There are 0 directories and 97 images in /kaggle/input/facial-age/face_age/031\n",
      "There are 0 directories and 13 images in /kaggle/input/facial-age/face_age/092\n",
      "There are 0 directories and 103 images in /kaggle/input/facial-age/face_age/017\n",
      "There are 0 directories and 284 images in /kaggle/input/facial-age/face_age/003\n",
      "There are 0 directories and 7 images in /kaggle/input/facial-age/face_age/083\n",
      "There are 0 directories and 58 images in /kaggle/input/facial-age/face_age/019\n",
      "There are 0 directories and 191 images in /kaggle/input/facial-age/face_age/024\n",
      "There are 0 directories and 45 images in /kaggle/input/facial-age/face_age/069\n",
      "There are 0 directories and 3 images in /kaggle/input/facial-age/face_age/093\n",
      "There are 0 directories and 16 images in /kaggle/input/facial-age/face_age/089\n",
      "There are 0 directories and 94 images in /kaggle/input/facial-age/face_age/037\n",
      "There are 0 directories and 180 images in /kaggle/input/facial-age/face_age/005\n",
      "There are 0 directories and 2 images in /kaggle/input/facial-age/face_age/100\n",
      "There are 0 directories and 2 images in /kaggle/input/facial-age/face_age/110\n",
      "There are 0 directories and 61 images in /kaggle/input/facial-age/face_age/046\n",
      "There are 0 directories and 77 images in /kaggle/input/facial-age/face_age/045\n",
      "There are 0 directories and 140 images in /kaggle/input/facial-age/face_age/010\n",
      "There are 0 directories and 17 images in /kaggle/input/facial-age/face_age/088\n",
      "There are 0 directories and 19 images in /kaggle/input/facial-age/face_age/077\n",
      "There are 0 directories and 145 images in /kaggle/input/facial-age/face_age/028\n",
      "There are 0 directories and 91 images in /kaggle/input/facial-age/face_age/038\n",
      "There are 0 directories and 16 images in /kaggle/input/facial-age/face_age/074\n",
      "There are 0 directories and 16 images in /kaggle/input/facial-age/face_age/079\n",
      "There are 0 directories and 141 images in /kaggle/input/facial-age/face_age/032\n",
      "There are 0 directories and 109 images in /kaggle/input/facial-age/face_age/030\n",
      "There are 0 directories and 130 images in /kaggle/input/facial-age/face_age/085\n"
     ]
    }
   ],
   "source": [
    "walk_throuhg_dir(AGE_FILE_PATH)"
   ]
  },
  {
   "cell_type": "code",
   "execution_count": 7,
   "id": "a3555057",
   "metadata": {
    "collapsed": true,
    "execution": {
     "iopub.execute_input": "2025-01-20T06:04:18.315467Z",
     "iopub.status.busy": "2025-01-20T06:04:18.315148Z",
     "iopub.status.idle": "2025-01-20T06:05:06.851918Z",
     "shell.execute_reply": "2025-01-20T06:05:06.850842Z"
    },
    "jupyter": {
     "outputs_hidden": true
    },
    "papermill": {
     "duration": 48.547311,
     "end_time": "2025-01-20T06:05:06.853281",
     "exception": false,
     "start_time": "2025-01-20T06:04:18.305970",
     "status": "completed"
    },
    "tags": []
   },
   "outputs": [
    {
     "name": "stdout",
     "output_type": "stream",
     "text": [
      "There are 1 directories and 0 images in /kaggle/input/facial-emotion-expressions\n",
      "There are 3 directories and 0 images in /kaggle/input/facial-emotion-expressions/images\n",
      "There are 7 directories and 0 images in /kaggle/input/facial-emotion-expressions/images/validation\n",
      "There are 0 directories and 797 images in /kaggle/input/facial-emotion-expressions/images/validation/surprise\n",
      "There are 0 directories and 1018 images in /kaggle/input/facial-emotion-expressions/images/validation/fear\n",
      "There are 0 directories and 960 images in /kaggle/input/facial-emotion-expressions/images/validation/angry\n",
      "There are 0 directories and 1216 images in /kaggle/input/facial-emotion-expressions/images/validation/neutral\n",
      "There are 0 directories and 1139 images in /kaggle/input/facial-emotion-expressions/images/validation/sad\n",
      "There are 0 directories and 111 images in /kaggle/input/facial-emotion-expressions/images/validation/disgust\n",
      "There are 0 directories and 1825 images in /kaggle/input/facial-emotion-expressions/images/validation/happy\n",
      "There are 2 directories and 0 images in /kaggle/input/facial-emotion-expressions/images/images\n",
      "There are 7 directories and 0 images in /kaggle/input/facial-emotion-expressions/images/images/validation\n",
      "There are 0 directories and 797 images in /kaggle/input/facial-emotion-expressions/images/images/validation/surprise\n",
      "There are 0 directories and 1018 images in /kaggle/input/facial-emotion-expressions/images/images/validation/fear\n",
      "There are 0 directories and 960 images in /kaggle/input/facial-emotion-expressions/images/images/validation/angry\n",
      "There are 0 directories and 1216 images in /kaggle/input/facial-emotion-expressions/images/images/validation/neutral\n",
      "There are 0 directories and 1139 images in /kaggle/input/facial-emotion-expressions/images/images/validation/sad\n",
      "There are 0 directories and 111 images in /kaggle/input/facial-emotion-expressions/images/images/validation/disgust\n",
      "There are 0 directories and 1825 images in /kaggle/input/facial-emotion-expressions/images/images/validation/happy\n",
      "There are 7 directories and 0 images in /kaggle/input/facial-emotion-expressions/images/images/train\n",
      "There are 0 directories and 3205 images in /kaggle/input/facial-emotion-expressions/images/images/train/surprise\n",
      "There are 0 directories and 4103 images in /kaggle/input/facial-emotion-expressions/images/images/train/fear\n",
      "There are 0 directories and 3993 images in /kaggle/input/facial-emotion-expressions/images/images/train/angry\n",
      "There are 0 directories and 4982 images in /kaggle/input/facial-emotion-expressions/images/images/train/neutral\n",
      "There are 0 directories and 4938 images in /kaggle/input/facial-emotion-expressions/images/images/train/sad\n",
      "There are 0 directories and 436 images in /kaggle/input/facial-emotion-expressions/images/images/train/disgust\n",
      "There are 0 directories and 7164 images in /kaggle/input/facial-emotion-expressions/images/images/train/happy\n",
      "There are 7 directories and 0 images in /kaggle/input/facial-emotion-expressions/images/train\n",
      "There are 0 directories and 3205 images in /kaggle/input/facial-emotion-expressions/images/train/surprise\n",
      "There are 0 directories and 4103 images in /kaggle/input/facial-emotion-expressions/images/train/fear\n",
      "There are 0 directories and 3993 images in /kaggle/input/facial-emotion-expressions/images/train/angry\n",
      "There are 0 directories and 4982 images in /kaggle/input/facial-emotion-expressions/images/train/neutral\n",
      "There are 0 directories and 4938 images in /kaggle/input/facial-emotion-expressions/images/train/sad\n",
      "There are 0 directories and 436 images in /kaggle/input/facial-emotion-expressions/images/train/disgust\n",
      "There are 0 directories and 7164 images in /kaggle/input/facial-emotion-expressions/images/train/happy\n"
     ]
    }
   ],
   "source": [
    "walk_throuhg_dir(EMOTION_FILE_PATH)"
   ]
  },
  {
   "cell_type": "code",
   "execution_count": 8,
   "id": "948467d9",
   "metadata": {
    "collapsed": true,
    "execution": {
     "iopub.execute_input": "2025-01-20T06:05:06.873311Z",
     "iopub.status.busy": "2025-01-20T06:05:06.873049Z",
     "iopub.status.idle": "2025-01-20T06:05:08.994152Z",
     "shell.execute_reply": "2025-01-20T06:05:08.993148Z"
    },
    "jupyter": {
     "outputs_hidden": true
    },
    "papermill": {
     "duration": 2.13245,
     "end_time": "2025-01-20T06:05:08.995484",
     "exception": false,
     "start_time": "2025-01-20T06:05:06.863034",
     "status": "completed"
    },
    "tags": []
   },
   "outputs": [
    {
     "name": "stdout",
     "output_type": "stream",
     "text": [
      "There are 1 directories and 0 images in /kaggle/input/gender-recognizer\n",
      "There are 2 directories and 0 images in /kaggle/input/gender-recognizer/dataset\n",
      "There are 0 directories and 646 images in /kaggle/input/gender-recognizer/dataset/MEN\n",
      "There are 1 directories and 646 images in /kaggle/input/gender-recognizer/dataset/WOMAN\n",
      "There are 0 directories and 646 images in /kaggle/input/gender-recognizer/dataset/WOMAN/MEN\n"
     ]
    }
   ],
   "source": [
    "walk_throuhg_dir(GENDER_FILE_PATH)"
   ]
  },
  {
   "cell_type": "markdown",
   "id": "689a15ca",
   "metadata": {
    "papermill": {
     "duration": 0.009056,
     "end_time": "2025-01-20T06:05:09.014596",
     "exception": false,
     "start_time": "2025-01-20T06:05:09.005540",
     "status": "completed"
    },
    "tags": []
   },
   "source": [
    "## 2. Data Preprocessing"
   ]
  },
  {
   "cell_type": "markdown",
   "id": "4db72ac3",
   "metadata": {
    "papermill": {
     "duration": 0.009105,
     "end_time": "2025-01-20T06:05:09.032919",
     "exception": false,
     "start_time": "2025-01-20T06:05:09.023814",
     "status": "completed"
    },
    "tags": []
   },
   "source": [
    "### Age Dataset"
   ]
  },
  {
   "cell_type": "code",
   "execution_count": 9,
   "id": "1c90bd93",
   "metadata": {
    "execution": {
     "iopub.execute_input": "2025-01-20T06:05:09.052316Z",
     "iopub.status.busy": "2025-01-20T06:05:09.052019Z",
     "iopub.status.idle": "2025-01-20T06:05:16.381668Z",
     "shell.execute_reply": "2025-01-20T06:05:16.380798Z"
    },
    "papermill": {
     "duration": 7.340982,
     "end_time": "2025-01-20T06:05:16.383076",
     "exception": false,
     "start_time": "2025-01-20T06:05:09.042094",
     "status": "completed"
    },
    "tags": []
   },
   "outputs": [
    {
     "data": {
      "text/html": [
       "<div>\n",
       "<style scoped>\n",
       "    .dataframe tbody tr th:only-of-type {\n",
       "        vertical-align: middle;\n",
       "    }\n",
       "\n",
       "    .dataframe tbody tr th {\n",
       "        vertical-align: top;\n",
       "    }\n",
       "\n",
       "    .dataframe thead th {\n",
       "        text-align: right;\n",
       "    }\n",
       "</style>\n",
       "<table border=\"1\" class=\"dataframe\">\n",
       "  <thead>\n",
       "    <tr style=\"text-align: right;\">\n",
       "      <th></th>\n",
       "      <th>file_path</th>\n",
       "      <th>file_name</th>\n",
       "      <th>label</th>\n",
       "    </tr>\n",
       "  </thead>\n",
       "  <tbody>\n",
       "    <tr>\n",
       "      <th>0</th>\n",
       "      <td>/kaggle/input/facial-age/face_age/057/6802.png</td>\n",
       "      <td>6802.png</td>\n",
       "      <td>057</td>\n",
       "    </tr>\n",
       "    <tr>\n",
       "      <th>1</th>\n",
       "      <td>/kaggle/input/facial-age/face_age/057/3702.png</td>\n",
       "      <td>3702.png</td>\n",
       "      <td>057</td>\n",
       "    </tr>\n",
       "    <tr>\n",
       "      <th>2</th>\n",
       "      <td>/kaggle/input/facial-age/face_age/057/8810.png</td>\n",
       "      <td>8810.png</td>\n",
       "      <td>057</td>\n",
       "    </tr>\n",
       "    <tr>\n",
       "      <th>3</th>\n",
       "      <td>/kaggle/input/facial-age/face_age/057/6759.png</td>\n",
       "      <td>6759.png</td>\n",
       "      <td>057</td>\n",
       "    </tr>\n",
       "    <tr>\n",
       "      <th>4</th>\n",
       "      <td>/kaggle/input/facial-age/face_age/057/1846.png</td>\n",
       "      <td>1846.png</td>\n",
       "      <td>057</td>\n",
       "    </tr>\n",
       "  </tbody>\n",
       "</table>\n",
       "</div>"
      ],
      "text/plain": [
       "                                        file_path file_name label\n",
       "0  /kaggle/input/facial-age/face_age/057/6802.png  6802.png   057\n",
       "1  /kaggle/input/facial-age/face_age/057/3702.png  3702.png   057\n",
       "2  /kaggle/input/facial-age/face_age/057/8810.png  8810.png   057\n",
       "3  /kaggle/input/facial-age/face_age/057/6759.png  6759.png   057\n",
       "4  /kaggle/input/facial-age/face_age/057/1846.png  1846.png   057"
      ]
     },
     "execution_count": 9,
     "metadata": {},
     "output_type": "execute_result"
    }
   ],
   "source": [
    "# List all file paths in the directory\n",
    "paths = [path for path in AGE_FILE_PATH.rglob('*/*.png')]\n",
    "\n",
    "# Create the DataFrame with relevant columns\n",
    "age_df = pd.DataFrame({\n",
    "    'file_path': paths,\n",
    "    'file_name': [path.name for path in paths],  # Extract file name\n",
    "    'label': [path.parts[-2] for path in paths]  # Extract folder name as label\n",
    "})\n",
    "age_df.head()"
   ]
  },
  {
   "cell_type": "code",
   "execution_count": 10,
   "id": "6a2a53bc",
   "metadata": {
    "execution": {
     "iopub.execute_input": "2025-01-20T06:05:16.403677Z",
     "iopub.status.busy": "2025-01-20T06:05:16.403325Z",
     "iopub.status.idle": "2025-01-20T06:05:16.407851Z",
     "shell.execute_reply": "2025-01-20T06:05:16.407204Z"
    },
    "papermill": {
     "duration": 0.0159,
     "end_time": "2025-01-20T06:05:16.408967",
     "exception": false,
     "start_time": "2025-01-20T06:05:16.393067",
     "status": "completed"
    },
    "tags": []
   },
   "outputs": [
    {
     "data": {
      "text/plain": [
       "(19556, 3)"
      ]
     },
     "execution_count": 10,
     "metadata": {},
     "output_type": "execute_result"
    }
   ],
   "source": [
    "age_df.shape"
   ]
  },
  {
   "cell_type": "code",
   "execution_count": 11,
   "id": "7b732b86",
   "metadata": {
    "execution": {
     "iopub.execute_input": "2025-01-20T06:05:16.429048Z",
     "iopub.status.busy": "2025-01-20T06:05:16.428801Z",
     "iopub.status.idle": "2025-01-20T06:05:16.449270Z",
     "shell.execute_reply": "2025-01-20T06:05:16.448340Z"
    },
    "papermill": {
     "duration": 0.031883,
     "end_time": "2025-01-20T06:05:16.450679",
     "exception": false,
     "start_time": "2025-01-20T06:05:16.418796",
     "status": "completed"
    },
    "tags": []
   },
   "outputs": [
    {
     "name": "stdout",
     "output_type": "stream",
     "text": [
      "9778\n"
     ]
    }
   ],
   "source": [
    "# Droping duplicated values\n",
    "print(age_df.duplicated(['file_name', 'label']).sum())\n",
    "age_df.drop_duplicates(['file_name', 'label'], inplace=True)"
   ]
  },
  {
   "cell_type": "code",
   "execution_count": 12,
   "id": "a61ce828",
   "metadata": {
    "execution": {
     "iopub.execute_input": "2025-01-20T06:05:16.471126Z",
     "iopub.status.busy": "2025-01-20T06:05:16.470849Z",
     "iopub.status.idle": "2025-01-20T06:05:16.475309Z",
     "shell.execute_reply": "2025-01-20T06:05:16.474661Z"
    },
    "papermill": {
     "duration": 0.016042,
     "end_time": "2025-01-20T06:05:16.476569",
     "exception": false,
     "start_time": "2025-01-20T06:05:16.460527",
     "status": "completed"
    },
    "tags": []
   },
   "outputs": [
    {
     "data": {
      "text/plain": [
       "(9778, 3)"
      ]
     },
     "execution_count": 12,
     "metadata": {},
     "output_type": "execute_result"
    }
   ],
   "source": [
    "age_df.shape"
   ]
  },
  {
   "cell_type": "code",
   "execution_count": 13,
   "id": "a3127e3e",
   "metadata": {
    "execution": {
     "iopub.execute_input": "2025-01-20T06:05:16.496720Z",
     "iopub.status.busy": "2025-01-20T06:05:16.496419Z",
     "iopub.status.idle": "2025-01-20T06:05:16.509137Z",
     "shell.execute_reply": "2025-01-20T06:05:16.508469Z"
    },
    "papermill": {
     "duration": 0.02404,
     "end_time": "2025-01-20T06:05:16.510295",
     "exception": false,
     "start_time": "2025-01-20T06:05:16.486255",
     "status": "completed"
    },
    "tags": []
   },
   "outputs": [
    {
     "data": {
      "text/plain": [
       "label\n",
       "001    1112\n",
       "002     475\n",
       "003     284\n",
       "026     279\n",
       "004     260\n",
       "       ... \n",
       "099       2\n",
       "110       2\n",
       "100       2\n",
       "101       1\n",
       "091       1\n",
       "Name: count, Length: 99, dtype: int64"
      ]
     },
     "execution_count": 13,
     "metadata": {},
     "output_type": "execute_result"
    }
   ],
   "source": [
    "# Count the number of images for each label\n",
    "age_df['label'].value_counts()"
   ]
  },
  {
   "cell_type": "code",
   "execution_count": 14,
   "id": "f44ff0d7",
   "metadata": {
    "execution": {
     "iopub.execute_input": "2025-01-20T06:05:16.532278Z",
     "iopub.status.busy": "2025-01-20T06:05:16.532002Z",
     "iopub.status.idle": "2025-01-20T06:05:16.547799Z",
     "shell.execute_reply": "2025-01-20T06:05:16.546937Z"
    },
    "papermill": {
     "duration": 0.028378,
     "end_time": "2025-01-20T06:05:16.549181",
     "exception": false,
     "start_time": "2025-01-20T06:05:16.520803",
     "status": "completed"
    },
    "tags": []
   },
   "outputs": [
    {
     "data": {
      "text/html": [
       "<div>\n",
       "<style scoped>\n",
       "    .dataframe tbody tr th:only-of-type {\n",
       "        vertical-align: middle;\n",
       "    }\n",
       "\n",
       "    .dataframe tbody tr th {\n",
       "        vertical-align: top;\n",
       "    }\n",
       "\n",
       "    .dataframe thead th {\n",
       "        text-align: right;\n",
       "    }\n",
       "</style>\n",
       "<table border=\"1\" class=\"dataframe\">\n",
       "  <thead>\n",
       "    <tr style=\"text-align: right;\">\n",
       "      <th></th>\n",
       "      <th>file_path</th>\n",
       "      <th>file_name</th>\n",
       "      <th>label</th>\n",
       "      <th>age_category</th>\n",
       "    </tr>\n",
       "  </thead>\n",
       "  <tbody>\n",
       "    <tr>\n",
       "      <th>0</th>\n",
       "      <td>/kaggle/input/facial-age/face_age/057/6802.png</td>\n",
       "      <td>6802.png</td>\n",
       "      <td>057</td>\n",
       "      <td>Elderly</td>\n",
       "    </tr>\n",
       "    <tr>\n",
       "      <th>1</th>\n",
       "      <td>/kaggle/input/facial-age/face_age/057/3702.png</td>\n",
       "      <td>3702.png</td>\n",
       "      <td>057</td>\n",
       "      <td>Elderly</td>\n",
       "    </tr>\n",
       "    <tr>\n",
       "      <th>2</th>\n",
       "      <td>/kaggle/input/facial-age/face_age/057/8810.png</td>\n",
       "      <td>8810.png</td>\n",
       "      <td>057</td>\n",
       "      <td>Elderly</td>\n",
       "    </tr>\n",
       "    <tr>\n",
       "      <th>3</th>\n",
       "      <td>/kaggle/input/facial-age/face_age/057/6759.png</td>\n",
       "      <td>6759.png</td>\n",
       "      <td>057</td>\n",
       "      <td>Elderly</td>\n",
       "    </tr>\n",
       "    <tr>\n",
       "      <th>4</th>\n",
       "      <td>/kaggle/input/facial-age/face_age/057/1846.png</td>\n",
       "      <td>1846.png</td>\n",
       "      <td>057</td>\n",
       "      <td>Elderly</td>\n",
       "    </tr>\n",
       "  </tbody>\n",
       "</table>\n",
       "</div>"
      ],
      "text/plain": [
       "                                        file_path file_name label age_category\n",
       "0  /kaggle/input/facial-age/face_age/057/6802.png  6802.png   057      Elderly\n",
       "1  /kaggle/input/facial-age/face_age/057/3702.png  3702.png   057      Elderly\n",
       "2  /kaggle/input/facial-age/face_age/057/8810.png  8810.png   057      Elderly\n",
       "3  /kaggle/input/facial-age/face_age/057/6759.png  6759.png   057      Elderly\n",
       "4  /kaggle/input/facial-age/face_age/057/1846.png  1846.png   057      Elderly"
      ]
     },
     "execution_count": 14,
     "metadata": {},
     "output_type": "execute_result"
    }
   ],
   "source": [
    "# Define bins and labels\n",
    "age_bins = [0, 3, 12, 19, 28, 55, 70]\n",
    "age_labels = ['Baby', 'Child', 'Teen', 'Young Adult', 'Adult', 'Elderly']\n",
    "\n",
    "# Assign age categories based on bins\n",
    "age_df['age_category'] = pd.cut(age_df['label'].astype(int), bins=age_bins, labels=age_labels, right=False)\n",
    "age_df.head()"
   ]
  },
  {
   "cell_type": "code",
   "execution_count": 15,
   "id": "75921655",
   "metadata": {
    "execution": {
     "iopub.execute_input": "2025-01-20T06:05:16.569942Z",
     "iopub.status.busy": "2025-01-20T06:05:16.569680Z",
     "iopub.status.idle": "2025-01-20T06:05:16.576842Z",
     "shell.execute_reply": "2025-01-20T06:05:16.575938Z"
    },
    "papermill": {
     "duration": 0.018908,
     "end_time": "2025-01-20T06:05:16.578084",
     "exception": false,
     "start_time": "2025-01-20T06:05:16.559176",
     "status": "completed"
    },
    "tags": []
   },
   "outputs": [
    {
     "data": {
      "text/plain": [
       "age_category\n",
       "Adult          2543\n",
       "Baby           1587\n",
       "Child          1562\n",
       "Young Adult    1280\n",
       "Elderly        1055\n",
       "Teen            957\n",
       "Name: count, dtype: int64"
      ]
     },
     "execution_count": 15,
     "metadata": {},
     "output_type": "execute_result"
    }
   ],
   "source": [
    "age_df['age_category'].value_counts()"
   ]
  },
  {
   "cell_type": "code",
   "execution_count": 16,
   "id": "8165f5db",
   "metadata": {
    "execution": {
     "iopub.execute_input": "2025-01-20T06:05:16.598569Z",
     "iopub.status.busy": "2025-01-20T06:05:16.598275Z",
     "iopub.status.idle": "2025-01-20T06:05:16.609642Z",
     "shell.execute_reply": "2025-01-20T06:05:16.608790Z"
    },
    "papermill": {
     "duration": 0.023062,
     "end_time": "2025-01-20T06:05:16.611011",
     "exception": false,
     "start_time": "2025-01-20T06:05:16.587949",
     "status": "completed"
    },
    "tags": []
   },
   "outputs": [
    {
     "name": "stdout",
     "output_type": "stream",
     "text": [
      "(9778, 3)\n"
     ]
    },
    {
     "data": {
      "text/html": [
       "<div>\n",
       "<style scoped>\n",
       "    .dataframe tbody tr th:only-of-type {\n",
       "        vertical-align: middle;\n",
       "    }\n",
       "\n",
       "    .dataframe tbody tr th {\n",
       "        vertical-align: top;\n",
       "    }\n",
       "\n",
       "    .dataframe thead th {\n",
       "        text-align: right;\n",
       "    }\n",
       "</style>\n",
       "<table border=\"1\" class=\"dataframe\">\n",
       "  <thead>\n",
       "    <tr style=\"text-align: right;\">\n",
       "      <th></th>\n",
       "      <th>file_path</th>\n",
       "      <th>file_name</th>\n",
       "      <th>age_category</th>\n",
       "    </tr>\n",
       "  </thead>\n",
       "  <tbody>\n",
       "    <tr>\n",
       "      <th>0</th>\n",
       "      <td>/kaggle/input/facial-age/face_age/057/6802.png</td>\n",
       "      <td>6802.png</td>\n",
       "      <td>Elderly</td>\n",
       "    </tr>\n",
       "    <tr>\n",
       "      <th>1</th>\n",
       "      <td>/kaggle/input/facial-age/face_age/057/3702.png</td>\n",
       "      <td>3702.png</td>\n",
       "      <td>Elderly</td>\n",
       "    </tr>\n",
       "    <tr>\n",
       "      <th>2</th>\n",
       "      <td>/kaggle/input/facial-age/face_age/057/8810.png</td>\n",
       "      <td>8810.png</td>\n",
       "      <td>Elderly</td>\n",
       "    </tr>\n",
       "    <tr>\n",
       "      <th>3</th>\n",
       "      <td>/kaggle/input/facial-age/face_age/057/6759.png</td>\n",
       "      <td>6759.png</td>\n",
       "      <td>Elderly</td>\n",
       "    </tr>\n",
       "    <tr>\n",
       "      <th>4</th>\n",
       "      <td>/kaggle/input/facial-age/face_age/057/1846.png</td>\n",
       "      <td>1846.png</td>\n",
       "      <td>Elderly</td>\n",
       "    </tr>\n",
       "  </tbody>\n",
       "</table>\n",
       "</div>"
      ],
      "text/plain": [
       "                                        file_path file_name age_category\n",
       "0  /kaggle/input/facial-age/face_age/057/6802.png  6802.png      Elderly\n",
       "1  /kaggle/input/facial-age/face_age/057/3702.png  3702.png      Elderly\n",
       "2  /kaggle/input/facial-age/face_age/057/8810.png  8810.png      Elderly\n",
       "3  /kaggle/input/facial-age/face_age/057/6759.png  6759.png      Elderly\n",
       "4  /kaggle/input/facial-age/face_age/057/1846.png  1846.png      Elderly"
      ]
     },
     "execution_count": 16,
     "metadata": {},
     "output_type": "execute_result"
    }
   ],
   "source": [
    "age_df.drop('label', axis=1, inplace=True)\n",
    "print(age_df.shape)\n",
    "age_df.head()"
   ]
  },
  {
   "cell_type": "code",
   "execution_count": 17,
   "id": "0c2f1161",
   "metadata": {
    "execution": {
     "iopub.execute_input": "2025-01-20T06:05:16.633100Z",
     "iopub.status.busy": "2025-01-20T06:05:16.632794Z",
     "iopub.status.idle": "2025-01-20T06:05:16.647078Z",
     "shell.execute_reply": "2025-01-20T06:05:16.646146Z"
    },
    "papermill": {
     "duration": 0.026674,
     "end_time": "2025-01-20T06:05:16.648459",
     "exception": false,
     "start_time": "2025-01-20T06:05:16.621785",
     "status": "completed"
    },
    "tags": []
   },
   "outputs": [
    {
     "data": {
      "text/html": [
       "<div>\n",
       "<style scoped>\n",
       "    .dataframe tbody tr th:only-of-type {\n",
       "        vertical-align: middle;\n",
       "    }\n",
       "\n",
       "    .dataframe tbody tr th {\n",
       "        vertical-align: top;\n",
       "    }\n",
       "\n",
       "    .dataframe thead th {\n",
       "        text-align: right;\n",
       "    }\n",
       "</style>\n",
       "<table border=\"1\" class=\"dataframe\">\n",
       "  <thead>\n",
       "    <tr style=\"text-align: right;\">\n",
       "      <th></th>\n",
       "      <th>file_path</th>\n",
       "      <th>file_name</th>\n",
       "      <th>age_category</th>\n",
       "    </tr>\n",
       "  </thead>\n",
       "  <tbody>\n",
       "    <tr>\n",
       "      <th>4177</th>\n",
       "      <td>/kaggle/input/facial-age/face_age/034/1091.png</td>\n",
       "      <td>1091.png</td>\n",
       "      <td>Adult</td>\n",
       "    </tr>\n",
       "    <tr>\n",
       "      <th>9711</th>\n",
       "      <td>/kaggle/input/facial-age/face_age/085/4642.png</td>\n",
       "      <td>4642.png</td>\n",
       "      <td>NaN</td>\n",
       "    </tr>\n",
       "    <tr>\n",
       "      <th>4815</th>\n",
       "      <td>/kaggle/input/facial-age/face_age/023/8456.png</td>\n",
       "      <td>8456.png</td>\n",
       "      <td>Young Adult</td>\n",
       "    </tr>\n",
       "    <tr>\n",
       "      <th>8546</th>\n",
       "      <td>/kaggle/input/facial-age/face_age/037/3144.png</td>\n",
       "      <td>3144.png</td>\n",
       "      <td>Adult</td>\n",
       "    </tr>\n",
       "    <tr>\n",
       "      <th>1396</th>\n",
       "      <td>/kaggle/input/facial-age/face_age/025/6093.png</td>\n",
       "      <td>6093.png</td>\n",
       "      <td>Young Adult</td>\n",
       "    </tr>\n",
       "  </tbody>\n",
       "</table>\n",
       "</div>"
      ],
      "text/plain": [
       "                                           file_path file_name age_category\n",
       "4177  /kaggle/input/facial-age/face_age/034/1091.png  1091.png        Adult\n",
       "9711  /kaggle/input/facial-age/face_age/085/4642.png  4642.png          NaN\n",
       "4815  /kaggle/input/facial-age/face_age/023/8456.png  8456.png  Young Adult\n",
       "8546  /kaggle/input/facial-age/face_age/037/3144.png  3144.png        Adult\n",
       "1396  /kaggle/input/facial-age/face_age/025/6093.png  6093.png  Young Adult"
      ]
     },
     "execution_count": 17,
     "metadata": {},
     "output_type": "execute_result"
    }
   ],
   "source": [
    "train_age_data, test_age_data = train_test_split(age_df, shuffle=True, test_size=0.1)\n",
    "train_age_data, val_age_data = train_test_split(train_age_data, shuffle=True, test_size=0.2)\n",
    "train_age_data.head()"
   ]
  },
  {
   "cell_type": "code",
   "execution_count": 18,
   "id": "5f0416ab",
   "metadata": {
    "execution": {
     "iopub.execute_input": "2025-01-20T06:05:16.671031Z",
     "iopub.status.busy": "2025-01-20T06:05:16.670722Z",
     "iopub.status.idle": "2025-01-20T06:05:16.679259Z",
     "shell.execute_reply": "2025-01-20T06:05:16.678416Z"
    },
    "papermill": {
     "duration": 0.021527,
     "end_time": "2025-01-20T06:05:16.680627",
     "exception": false,
     "start_time": "2025-01-20T06:05:16.659100",
     "status": "completed"
    },
    "tags": []
   },
   "outputs": [
    {
     "data": {
      "text/html": [
       "<div>\n",
       "<style scoped>\n",
       "    .dataframe tbody tr th:only-of-type {\n",
       "        vertical-align: middle;\n",
       "    }\n",
       "\n",
       "    .dataframe tbody tr th {\n",
       "        vertical-align: top;\n",
       "    }\n",
       "\n",
       "    .dataframe thead th {\n",
       "        text-align: right;\n",
       "    }\n",
       "</style>\n",
       "<table border=\"1\" class=\"dataframe\">\n",
       "  <thead>\n",
       "    <tr style=\"text-align: right;\">\n",
       "      <th></th>\n",
       "      <th>file_path</th>\n",
       "      <th>file_name</th>\n",
       "      <th>age_category</th>\n",
       "    </tr>\n",
       "  </thead>\n",
       "  <tbody>\n",
       "    <tr>\n",
       "      <th>1609</th>\n",
       "      <td>/kaggle/input/facial-age/face_age/001/9261.png</td>\n",
       "      <td>9261.png</td>\n",
       "      <td>Baby</td>\n",
       "    </tr>\n",
       "    <tr>\n",
       "      <th>1227</th>\n",
       "      <td>/kaggle/input/facial-age/face_age/029/8016.png</td>\n",
       "      <td>8016.png</td>\n",
       "      <td>Adult</td>\n",
       "    </tr>\n",
       "    <tr>\n",
       "      <th>4382</th>\n",
       "      <td>/kaggle/input/facial-age/face_age/060/4165.png</td>\n",
       "      <td>4165.png</td>\n",
       "      <td>Elderly</td>\n",
       "    </tr>\n",
       "    <tr>\n",
       "      <th>8972</th>\n",
       "      <td>/kaggle/input/facial-age/face_age/010/605.png</td>\n",
       "      <td>605.png</td>\n",
       "      <td>Child</td>\n",
       "    </tr>\n",
       "    <tr>\n",
       "      <th>8425</th>\n",
       "      <td>/kaggle/input/facial-age/face_age/024/5966.png</td>\n",
       "      <td>5966.png</td>\n",
       "      <td>Young Adult</td>\n",
       "    </tr>\n",
       "  </tbody>\n",
       "</table>\n",
       "</div>"
      ],
      "text/plain": [
       "                                           file_path file_name age_category\n",
       "1609  /kaggle/input/facial-age/face_age/001/9261.png  9261.png         Baby\n",
       "1227  /kaggle/input/facial-age/face_age/029/8016.png  8016.png        Adult\n",
       "4382  /kaggle/input/facial-age/face_age/060/4165.png  4165.png      Elderly\n",
       "8972   /kaggle/input/facial-age/face_age/010/605.png   605.png        Child\n",
       "8425  /kaggle/input/facial-age/face_age/024/5966.png  5966.png  Young Adult"
      ]
     },
     "execution_count": 18,
     "metadata": {},
     "output_type": "execute_result"
    }
   ],
   "source": [
    "test_age_data.head()"
   ]
  },
  {
   "cell_type": "code",
   "execution_count": 19,
   "id": "419840b1",
   "metadata": {
    "execution": {
     "iopub.execute_input": "2025-01-20T06:05:16.704468Z",
     "iopub.status.busy": "2025-01-20T06:05:16.704140Z",
     "iopub.status.idle": "2025-01-20T06:05:16.712808Z",
     "shell.execute_reply": "2025-01-20T06:05:16.712046Z"
    },
    "papermill": {
     "duration": 0.021343,
     "end_time": "2025-01-20T06:05:16.714124",
     "exception": false,
     "start_time": "2025-01-20T06:05:16.692781",
     "status": "completed"
    },
    "tags": []
   },
   "outputs": [
    {
     "data": {
      "text/html": [
       "<div>\n",
       "<style scoped>\n",
       "    .dataframe tbody tr th:only-of-type {\n",
       "        vertical-align: middle;\n",
       "    }\n",
       "\n",
       "    .dataframe tbody tr th {\n",
       "        vertical-align: top;\n",
       "    }\n",
       "\n",
       "    .dataframe thead th {\n",
       "        text-align: right;\n",
       "    }\n",
       "</style>\n",
       "<table border=\"1\" class=\"dataframe\">\n",
       "  <thead>\n",
       "    <tr style=\"text-align: right;\">\n",
       "      <th></th>\n",
       "      <th>file_path</th>\n",
       "      <th>file_name</th>\n",
       "      <th>age_category</th>\n",
       "    </tr>\n",
       "  </thead>\n",
       "  <tbody>\n",
       "    <tr>\n",
       "      <th>8992</th>\n",
       "      <td>/kaggle/input/facial-age/face_age/010/2467.png</td>\n",
       "      <td>2467.png</td>\n",
       "      <td>Child</td>\n",
       "    </tr>\n",
       "    <tr>\n",
       "      <th>5977</th>\n",
       "      <td>/kaggle/input/facial-age/face_age/002/1845.png</td>\n",
       "      <td>1845.png</td>\n",
       "      <td>Baby</td>\n",
       "    </tr>\n",
       "    <tr>\n",
       "      <th>2613</th>\n",
       "      <td>/kaggle/input/facial-age/face_age/001/5596.png</td>\n",
       "      <td>5596.png</td>\n",
       "      <td>Baby</td>\n",
       "    </tr>\n",
       "    <tr>\n",
       "      <th>685</th>\n",
       "      <td>/kaggle/input/facial-age/face_age/016/5410.png</td>\n",
       "      <td>5410.png</td>\n",
       "      <td>Teen</td>\n",
       "    </tr>\n",
       "    <tr>\n",
       "      <th>9722</th>\n",
       "      <td>/kaggle/input/facial-age/face_age/085/4061.png</td>\n",
       "      <td>4061.png</td>\n",
       "      <td>NaN</td>\n",
       "    </tr>\n",
       "  </tbody>\n",
       "</table>\n",
       "</div>"
      ],
      "text/plain": [
       "                                           file_path file_name age_category\n",
       "8992  /kaggle/input/facial-age/face_age/010/2467.png  2467.png        Child\n",
       "5977  /kaggle/input/facial-age/face_age/002/1845.png  1845.png         Baby\n",
       "2613  /kaggle/input/facial-age/face_age/001/5596.png  5596.png         Baby\n",
       "685   /kaggle/input/facial-age/face_age/016/5410.png  5410.png         Teen\n",
       "9722  /kaggle/input/facial-age/face_age/085/4061.png  4061.png          NaN"
      ]
     },
     "execution_count": 19,
     "metadata": {},
     "output_type": "execute_result"
    }
   ],
   "source": [
    "val_age_data.head()"
   ]
  },
  {
   "cell_type": "code",
   "execution_count": 20,
   "id": "22ac95f7",
   "metadata": {
    "execution": {
     "iopub.execute_input": "2025-01-20T06:05:16.737489Z",
     "iopub.status.busy": "2025-01-20T06:05:16.737156Z",
     "iopub.status.idle": "2025-01-20T06:05:16.742074Z",
     "shell.execute_reply": "2025-01-20T06:05:16.741361Z"
    },
    "papermill": {
     "duration": 0.017791,
     "end_time": "2025-01-20T06:05:16.743343",
     "exception": false,
     "start_time": "2025-01-20T06:05:16.725552",
     "status": "completed"
    },
    "tags": []
   },
   "outputs": [
    {
     "data": {
      "text/plain": [
       "((7040, 3), (1760, 3), (978, 3))"
      ]
     },
     "execution_count": 20,
     "metadata": {},
     "output_type": "execute_result"
    }
   ],
   "source": [
    "train_age_data.shape, val_age_data.shape, test_age_data.shape"
   ]
  },
  {
   "cell_type": "code",
   "execution_count": 21,
   "id": "509c067f",
   "metadata": {
    "execution": {
     "iopub.execute_input": "2025-01-20T06:05:16.767025Z",
     "iopub.status.busy": "2025-01-20T06:05:16.766693Z",
     "iopub.status.idle": "2025-01-20T06:05:16.771857Z",
     "shell.execute_reply": "2025-01-20T06:05:16.770992Z"
    },
    "papermill": {
     "duration": 0.018425,
     "end_time": "2025-01-20T06:05:16.773176",
     "exception": false,
     "start_time": "2025-01-20T06:05:16.754751",
     "status": "completed"
    },
    "tags": []
   },
   "outputs": [
    {
     "data": {
      "text/plain": [
       "{'Baby': 0, 'Child': 1, 'Teen': 2, 'Young Adult': 3, 'Adult': 4, 'Elderly': 5}"
      ]
     },
     "execution_count": 21,
     "metadata": {},
     "output_type": "execute_result"
    }
   ],
   "source": [
    "age_idx = {label:i for i, label in enumerate(age_labels)}\n",
    "age_idx"
   ]
  },
  {
   "cell_type": "markdown",
   "id": "722262e0",
   "metadata": {
    "papermill": {
     "duration": 0.01052,
     "end_time": "2025-01-20T06:05:16.795227",
     "exception": false,
     "start_time": "2025-01-20T06:05:16.784707",
     "status": "completed"
    },
    "tags": []
   },
   "source": [
    "### Data Transformation"
   ]
  },
  {
   "cell_type": "code",
   "execution_count": 22,
   "id": "d843ec65",
   "metadata": {
    "execution": {
     "iopub.execute_input": "2025-01-20T06:05:16.819325Z",
     "iopub.status.busy": "2025-01-20T06:05:16.819027Z",
     "iopub.status.idle": "2025-01-20T06:05:16.823212Z",
     "shell.execute_reply": "2025-01-20T06:05:16.822564Z"
    },
    "papermill": {
     "duration": 0.018397,
     "end_time": "2025-01-20T06:05:16.824511",
     "exception": false,
     "start_time": "2025-01-20T06:05:16.806114",
     "status": "completed"
    },
    "tags": []
   },
   "outputs": [],
   "source": [
    "# Define the transformation pipeline\n",
    "train_transforms_trivial = transforms.Compose([\n",
    "    transforms.Resize(size=(224, 224)),  # Resize to 224x224\n",
    "    transforms.TrivialAugmentWide(num_magnitude_bins=31),  # Apply TrivialAugmentWide\n",
    "    transforms.ToTensor()  # Convert to tensor\n",
    "])\n",
    "\n",
    "test_transforms = transforms.Compose([\n",
    "    transforms.Resize(size=(224, 224)),  # Resize to 224x224\n",
    "    transforms.ToTensor()  # Convert to tensor\n",
    "])"
   ]
  },
  {
   "cell_type": "code",
   "execution_count": 23,
   "id": "05cab287",
   "metadata": {
    "execution": {
     "iopub.execute_input": "2025-01-20T06:05:16.846928Z",
     "iopub.status.busy": "2025-01-20T06:05:16.846637Z",
     "iopub.status.idle": "2025-01-20T06:06:06.508943Z",
     "shell.execute_reply": "2025-01-20T06:06:06.507838Z"
    },
    "papermill": {
     "duration": 49.675125,
     "end_time": "2025-01-20T06:06:06.510263",
     "exception": false,
     "start_time": "2025-01-20T06:05:16.835138",
     "status": "completed"
    },
    "tags": []
   },
   "outputs": [
    {
     "name": "stderr",
     "output_type": "stream",
     "text": [
      "Processing images: 100%|██████████| 7040/7040 [00:47<00:00, 147.14it/s]\n"
     ]
    },
    {
     "name": "stdout",
     "output_type": "stream",
     "text": [
      "Processed 7040 images with shape: torch.Size([7040, 3, 224, 224])\n"
     ]
    }
   ],
   "source": [
    "from tqdm import tqdm\n",
    "\n",
    "def convert_image_into_tensor(file_path, transform):\n",
    "    # Apply transformation to all images and store tensors\n",
    "    image_tensors = []\n",
    "    \n",
    "    for file_path in tqdm(file_path, desc=\"Processing images\"):\n",
    "        # Open image, ensure RGB mode, and apply transformations\n",
    "        image = Image.open(file_path).convert('RGB')\n",
    "        tensor = transform(image)\n",
    "        image_tensors.append(tensor)\n",
    "    \n",
    "    # Stack tensors into a single tensor for batch processing\n",
    "    image_tensors = torch.stack(image_tensors)  # Shape: (N, 3, 64, 64)\n",
    "    return image_tensors\n",
    "\n",
    "train_image_tensors = convert_image_into_tensor(file_path=train_age_data['file_path'], transform=train_transforms_trivial)\n",
    "print(f\"Processed {len(train_image_tensors)} images with shape: {train_image_tensors.shape}\")"
   ]
  },
  {
   "cell_type": "code",
   "execution_count": 24,
   "id": "b34481e2",
   "metadata": {
    "execution": {
     "iopub.execute_input": "2025-01-20T06:06:06.571338Z",
     "iopub.status.busy": "2025-01-20T06:06:06.571055Z",
     "iopub.status.idle": "2025-01-20T06:06:18.494576Z",
     "shell.execute_reply": "2025-01-20T06:06:18.493660Z"
    },
    "papermill": {
     "duration": 11.955055,
     "end_time": "2025-01-20T06:06:18.495962",
     "exception": false,
     "start_time": "2025-01-20T06:06:06.540907",
     "status": "completed"
    },
    "tags": []
   },
   "outputs": [
    {
     "name": "stderr",
     "output_type": "stream",
     "text": [
      "Processing images: 100%|██████████| 1760/1760 [00:11<00:00, 149.01it/s]\n"
     ]
    },
    {
     "name": "stdout",
     "output_type": "stream",
     "text": [
      "Processed 1760 images with shape: torch.Size([1760, 3, 224, 224])\n"
     ]
    }
   ],
   "source": [
    "val_image_tensors = convert_image_into_tensor(file_path=val_age_data['file_path'], transform=train_transforms_trivial)\n",
    "print(f\"Processed {len(val_image_tensors)} images with shape: {val_image_tensors.shape}\")"
   ]
  },
  {
   "cell_type": "code",
   "execution_count": 25,
   "id": "1ce03a20",
   "metadata": {
    "execution": {
     "iopub.execute_input": "2025-01-20T06:06:18.566476Z",
     "iopub.status.busy": "2025-01-20T06:06:18.566173Z",
     "iopub.status.idle": "2025-01-20T06:06:25.199892Z",
     "shell.execute_reply": "2025-01-20T06:06:25.198773Z"
    },
    "papermill": {
     "duration": 6.670282,
     "end_time": "2025-01-20T06:06:25.201411",
     "exception": false,
     "start_time": "2025-01-20T06:06:18.531129",
     "status": "completed"
    },
    "tags": []
   },
   "outputs": [
    {
     "name": "stderr",
     "output_type": "stream",
     "text": [
      "Processing images: 100%|██████████| 978/978 [00:06<00:00, 148.98it/s]\n"
     ]
    },
    {
     "name": "stdout",
     "output_type": "stream",
     "text": [
      "Processed 978 images with shape: torch.Size([978, 3, 224, 224])\n"
     ]
    }
   ],
   "source": [
    "test_image_tensors = convert_image_into_tensor(file_path=test_age_data['file_path'], transform=train_transforms_trivial)\n",
    "print(f\"Processed {len(test_image_tensors)} images with shape: {test_image_tensors.shape}\")"
   ]
  },
  {
   "cell_type": "code",
   "execution_count": 26,
   "id": "5c6c6e99",
   "metadata": {
    "execution": {
     "iopub.execute_input": "2025-01-20T06:06:25.282238Z",
     "iopub.status.busy": "2025-01-20T06:06:25.281929Z",
     "iopub.status.idle": "2025-01-20T06:06:25.288878Z",
     "shell.execute_reply": "2025-01-20T06:06:25.288108Z"
    },
    "papermill": {
     "duration": 0.047817,
     "end_time": "2025-01-20T06:06:25.290166",
     "exception": false,
     "start_time": "2025-01-20T06:06:25.242349",
     "status": "completed"
    },
    "tags": []
   },
   "outputs": [
    {
     "data": {
      "text/plain": [
       "torch.Size([3, 224, 224])"
      ]
     },
     "execution_count": 26,
     "metadata": {},
     "output_type": "execute_result"
    }
   ],
   "source": [
    "train_image_tensors[0].shape"
   ]
  },
  {
   "cell_type": "code",
   "execution_count": 27,
   "id": "c6191a31",
   "metadata": {
    "execution": {
     "iopub.execute_input": "2025-01-20T06:06:25.369145Z",
     "iopub.status.busy": "2025-01-20T06:06:25.368843Z",
     "iopub.status.idle": "2025-01-20T06:06:25.617459Z",
     "shell.execute_reply": "2025-01-20T06:06:25.616529Z"
    },
    "papermill": {
     "duration": 0.290661,
     "end_time": "2025-01-20T06:06:25.619969",
     "exception": false,
     "start_time": "2025-01-20T06:06:25.329308",
     "status": "completed"
    },
    "tags": []
   },
   "outputs": [
    {
     "data": {
      "text/plain": [
       "<matplotlib.image.AxesImage at 0x7fb7b4b9fe50>"
      ]
     },
     "execution_count": 27,
     "metadata": {},
     "output_type": "execute_result"
    },
    {
     "data": {
      "image/png": "[encoded data removed]",
      "text/plain": [
       "<Figure size 640x480 with 1 Axes>"
      ]
     },
     "metadata": {},
     "output_type": "display_data"
    }
   ],
   "source": [
    "plt.imshow(train_image_tensors[150].permute(1, 2, 0))"
   ]
  },
  {
   "cell_type": "code",
   "execution_count": null,
   "id": "c471efff",
   "metadata": {
    "papermill": {
     "duration": 0.040026,
     "end_time": "2025-01-20T06:06:25.759586",
     "exception": false,
     "start_time": "2025-01-20T06:06:25.719560",
     "status": "completed"
    },
    "tags": []
   },
   "outputs": [],
   "source": []
  },
  {
   "cell_type": "code",
   "execution_count": null,
   "id": "d3ed3d6e",
   "metadata": {
    "papermill": {
     "duration": 0.040247,
     "end_time": "2025-01-20T06:06:25.840483",
     "exception": false,
     "start_time": "2025-01-20T06:06:25.800236",
     "status": "completed"
    },
    "tags": []
   },
   "outputs": [],
   "source": []
  }
 ],
 "metadata": {
  "kaggle": {
   "accelerator": "gpu",
   "dataSources": [
    {
     "datasetId": 110215,
     "sourceId": 263465,
     "sourceType": "datasetVersion"
    },
    {
     "datasetId": 2876250,
     "sourceId": 4959552,
     "sourceType": "datasetVersion"
    },
    {
     "datasetId": 5328253,
     "sourceId": 8899631,
     "sourceType": "datasetVersion"
    }
   ],
   "dockerImageVersionId": 30822,
   "isGpuEnabled": true,
   "isInternetEnabled": true,
   "language": "python",
   "sourceType": "notebook"
  },
  "kernelspec": {
   "display_name": "Python 3",
   "language": "python",
   "name": "python3"
  },
  "language_info": {
   "codemirror_mode": {
    "name": "ipython",
    "version": 3
   },
   "file_extension": ".py",
   "mimetype": "text/x-python",
   "name": "python",
   "nbconvert_exporter": "python",
   "pygments_lexer": "ipython3",
   "version": "3.10.12"
  },
  "papermill": {
   "default_parameters": {},
   "duration": 156.92869,
   "end_time": "2025-01-20T06:06:28.719051",
   "environment_variables": {},
   "exception": null,
   "input_path": "__notebook__.ipynb",
   "output_path": "__notebook__.ipynb",
   "parameters": {},
   "start_time": "2025-01-20T06:03:51.790361",
   "version": "2.6.0"
  }
 },
 "nbformat": 4,
 "nbformat_minor": 5
}
