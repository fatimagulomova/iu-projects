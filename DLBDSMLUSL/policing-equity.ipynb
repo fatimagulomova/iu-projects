{
 "cells": [
  {
   "cell_type": "markdown",
   "id": "7f88f3a3",
   "metadata": {
    "papermill": {
     "duration": 0.011913,
     "end_time": "2023-10-27T18:19:45.206527",
     "exception": false,
     "start_time": "2023-10-27T18:19:45.194614",
     "status": "completed"
    },
    "tags": []
   },
   "source": [
    "# Policing Equity\n",
    "\n",
    "![Policing Equity](https://gelaw.co.za/wp-content/uploads/law-wallpapers-hd-1080p-1920x1080-desktop-02.jpg)"
   ]
  },
  {
   "cell_type": "markdown",
   "id": "f59d41f9",
   "metadata": {
    "papermill": {
     "duration": 0.01096,
     "end_time": "2023-10-27T18:19:45.229185",
     "exception": false,
     "start_time": "2023-10-27T18:19:45.218225",
     "status": "completed"
    },
    "tags": []
   },
   "source": [
    "# Notebook Imports"
   ]
  },
  {
   "cell_type": "code",
   "execution_count": 1,
   "id": "121b48e0",
   "metadata": {
    "execution": {
     "iopub.execute_input": "2023-10-27T18:19:45.253595Z",
     "iopub.status.busy": "2023-10-27T18:19:45.253288Z",
     "iopub.status.idle": "2023-10-27T18:19:55.643031Z",
     "shell.execute_reply": "2023-10-27T18:19:55.641943Z"
    },
    "papermill": {
     "duration": 10.404864,
     "end_time": "2023-10-27T18:19:55.645265",
     "exception": false,
     "start_time": "2023-10-27T18:19:45.240401",
     "status": "completed"
    },
    "tags": []
   },
   "outputs": [
    {
     "name": "stdout",
     "output_type": "stream",
     "text": [
      "Collecting prince\r\n",
      "  Downloading prince-0.13.0-py3-none-any.whl (415 kB)\r\n",
      "\u001b[2K     \u001b[90m━━━━━━━━━━━━━━━━━━━━━━━━━━━━━━━━━━━━━━━\u001b[0m \u001b[32m415.6/415.6 kB\u001b[0m \u001b[31m9.6 MB/s\u001b[0m eta \u001b[36m0:00:00\u001b[0m\r\n",
      "\u001b[?25hRequirement already satisfied: altair<6.0.0,>=4.2.2 in /opt/conda/lib/python3.10/site-packages (from prince) (5.1.1)\r\n",
      "Requirement already satisfied: pandas<3.0.0,>=1.4.1 in /opt/conda/lib/python3.10/site-packages (from prince) (2.0.3)\r\n",
      "Requirement already satisfied: scikit-learn<2.0.0,>=1.0.2 in /opt/conda/lib/python3.10/site-packages (from prince) (1.2.2)\r\n",
      "Requirement already satisfied: jinja2 in /opt/conda/lib/python3.10/site-packages (from altair<6.0.0,>=4.2.2->prince) (3.1.2)\r\n",
      "Requirement already satisfied: jsonschema>=3.0 in /opt/conda/lib/python3.10/site-packages (from altair<6.0.0,>=4.2.2->prince) (4.17.3)\r\n",
      "Requirement already satisfied: numpy in /opt/conda/lib/python3.10/site-packages (from altair<6.0.0,>=4.2.2->prince) (1.23.5)\r\n",
      "Requirement already satisfied: packaging in /opt/conda/lib/python3.10/site-packages (from altair<6.0.0,>=4.2.2->prince) (21.3)\r\n",
      "Requirement already satisfied: toolz in /opt/conda/lib/python3.10/site-packages (from altair<6.0.0,>=4.2.2->prince) (0.12.0)\r\n",
      "Requirement already satisfied: typing-extensions>=4.0.1 in /opt/conda/lib/python3.10/site-packages (from altair<6.0.0,>=4.2.2->prince) (4.6.3)\r\n",
      "Requirement already satisfied: python-dateutil>=2.8.2 in /opt/conda/lib/python3.10/site-packages (from pandas<3.0.0,>=1.4.1->prince) (2.8.2)\r\n",
      "Requirement already satisfied: pytz>=2020.1 in /opt/conda/lib/python3.10/site-packages (from pandas<3.0.0,>=1.4.1->prince) (2023.3)\r\n",
      "Requirement already satisfied: tzdata>=2022.1 in /opt/conda/lib/python3.10/site-packages (from pandas<3.0.0,>=1.4.1->prince) (2023.3)\r\n",
      "Requirement already satisfied: scipy>=1.3.2 in /opt/conda/lib/python3.10/site-packages (from scikit-learn<2.0.0,>=1.0.2->prince) (1.11.2)\r\n",
      "Requirement already satisfied: joblib>=1.1.1 in /opt/conda/lib/python3.10/site-packages (from scikit-learn<2.0.0,>=1.0.2->prince) (1.3.2)\r\n",
      "Requirement already satisfied: threadpoolctl>=2.0.0 in /opt/conda/lib/python3.10/site-packages (from scikit-learn<2.0.0,>=1.0.2->prince) (3.1.0)\r\n",
      "Requirement already satisfied: attrs>=17.4.0 in /opt/conda/lib/python3.10/site-packages (from jsonschema>=3.0->altair<6.0.0,>=4.2.2->prince) (23.1.0)\r\n",
      "Requirement already satisfied: pyrsistent!=0.17.0,!=0.17.1,!=0.17.2,>=0.14.0 in /opt/conda/lib/python3.10/site-packages (from jsonschema>=3.0->altair<6.0.0,>=4.2.2->prince) (0.19.3)\r\n",
      "Requirement already satisfied: six>=1.5 in /opt/conda/lib/python3.10/site-packages (from python-dateutil>=2.8.2->pandas<3.0.0,>=1.4.1->prince) (1.16.0)\r\n",
      "Requirement already satisfied: MarkupSafe>=2.0 in /opt/conda/lib/python3.10/site-packages (from jinja2->altair<6.0.0,>=4.2.2->prince) (2.1.3)\r\n",
      "Requirement already satisfied: pyparsing!=3.0.5,>=2.0.2 in /opt/conda/lib/python3.10/site-packages (from packaging->altair<6.0.0,>=4.2.2->prince) (3.0.9)\r\n",
      "Installing collected packages: prince\r\n",
      "Successfully installed prince-0.13.0\r\n"
     ]
    }
   ],
   "source": [
    "!pip install prince"
   ]
  },
  {
   "cell_type": "code",
   "execution_count": 2,
   "id": "2f1732db",
   "metadata": {
    "execution": {
     "iopub.execute_input": "2023-10-27T18:19:55.670950Z",
     "iopub.status.busy": "2023-10-27T18:19:55.670621Z",
     "iopub.status.idle": "2023-10-27T18:20:04.731638Z",
     "shell.execute_reply": "2023-10-27T18:20:04.730659Z"
    },
    "papermill": {
     "duration": 9.07643,
     "end_time": "2023-10-27T18:20:04.733968",
     "exception": false,
     "start_time": "2023-10-27T18:19:55.657538",
     "status": "completed"
    },
    "tags": []
   },
   "outputs": [
    {
     "name": "stdout",
     "output_type": "stream",
     "text": [
      "Requirement already satisfied: scikit-learn in /opt/conda/lib/python3.10/site-packages (1.2.2)\r\n",
      "Requirement already satisfied: numpy>=1.17.3 in /opt/conda/lib/python3.10/site-packages (from scikit-learn) (1.23.5)\r\n",
      "Requirement already satisfied: scipy>=1.3.2 in /opt/conda/lib/python3.10/site-packages (from scikit-learn) (1.11.2)\r\n",
      "Requirement already satisfied: joblib>=1.1.1 in /opt/conda/lib/python3.10/site-packages (from scikit-learn) (1.3.2)\r\n",
      "Requirement already satisfied: threadpoolctl>=2.0.0 in /opt/conda/lib/python3.10/site-packages (from scikit-learn) (3.1.0)\r\n"
     ]
    }
   ],
   "source": [
    "!pip install scikit-learn"
   ]
  },
  {
   "cell_type": "code",
   "execution_count": 3,
   "id": "7ecd9bdc",
   "metadata": {
    "execution": {
     "iopub.execute_input": "2023-10-27T18:20:04.759788Z",
     "iopub.status.busy": "2023-10-27T18:20:04.759507Z",
     "iopub.status.idle": "2023-10-27T18:20:29.541334Z",
     "shell.execute_reply": "2023-10-27T18:20:29.540375Z"
    },
    "papermill": {
     "duration": 24.797321,
     "end_time": "2023-10-27T18:20:29.543577",
     "exception": false,
     "start_time": "2023-10-27T18:20:04.746256",
     "status": "completed"
    },
    "tags": []
   },
   "outputs": [
    {
     "name": "stderr",
     "output_type": "stream",
     "text": [
      "/opt/conda/lib/python3.10/site-packages/umap/distances.py:1063: NumbaDeprecationWarning: \u001b[1mThe 'nopython' keyword argument was not supplied to the 'numba.jit' decorator. The implicit default value for this argument is currently False, but it will be changed to True in Numba 0.59.0. See https://numba.readthedocs.io/en/stable/reference/deprecation.html#deprecation-of-object-mode-fall-back-behaviour-when-using-jit for details.\u001b[0m\n",
      "  @numba.jit()\n",
      "/opt/conda/lib/python3.10/site-packages/umap/distances.py:1071: NumbaDeprecationWarning: \u001b[1mThe 'nopython' keyword argument was not supplied to the 'numba.jit' decorator. The implicit default value for this argument is currently False, but it will be changed to True in Numba 0.59.0. See https://numba.readthedocs.io/en/stable/reference/deprecation.html#deprecation-of-object-mode-fall-back-behaviour-when-using-jit for details.\u001b[0m\n",
      "  @numba.jit()\n",
      "/opt/conda/lib/python3.10/site-packages/umap/distances.py:1086: NumbaDeprecationWarning: \u001b[1mThe 'nopython' keyword argument was not supplied to the 'numba.jit' decorator. The implicit default value for this argument is currently False, but it will be changed to True in Numba 0.59.0. See https://numba.readthedocs.io/en/stable/reference/deprecation.html#deprecation-of-object-mode-fall-back-behaviour-when-using-jit for details.\u001b[0m\n",
      "  @numba.jit()\n",
      "/opt/conda/lib/python3.10/site-packages/umap/umap_.py:660: NumbaDeprecationWarning: \u001b[1mThe 'nopython' keyword argument was not supplied to the 'numba.jit' decorator. The implicit default value for this argument is currently False, but it will be changed to True in Numba 0.59.0. See https://numba.readthedocs.io/en/stable/reference/deprecation.html#deprecation-of-object-mode-fall-back-behaviour-when-using-jit for details.\u001b[0m\n",
      "  @numba.jit()\n"
     ]
    }
   ],
   "source": [
    "import os\n",
    "import pandas as pd\n",
    "import numpy as np\n",
    "from datetime import date\n",
    "import seaborn as sns\n",
    "from scipy import stats\n",
    "from umap import UMAP\n",
    "import re\n",
    "\n",
    "import matplotlib.pyplot as plt\n",
    "import warnings\n",
    "from prince import MCA\n",
    "from sklearn.impute import SimpleImputer\n",
    "\n",
    "from sklearn.preprocessing import LabelEncoder\n",
    "from sklearn.decomposition import PCA\n",
    "from sklearn.preprocessing import StandardScaler\n",
    "\n",
    "from sklearn.cluster import KMeans\n",
    "from yellowbrick.cluster import KElbowVisualizer\n",
    "from sklearn.metrics import silhouette_score, davies_bouldin_score, calinski_harabasz_score\n",
    "from sklearn.feature_selection import VarianceThreshold\n",
    "from sklearn.manifold import TSNE\n",
    "\n",
    "warnings.filterwarnings('ignore')"
   ]
  },
  {
   "cell_type": "markdown",
   "id": "4f81c7ec",
   "metadata": {
    "papermill": {
     "duration": 0.012501,
     "end_time": "2023-10-27T18:20:29.568926",
     "exception": false,
     "start_time": "2023-10-27T18:20:29.556425",
     "status": "completed"
    },
    "tags": []
   },
   "source": [
    "# Constants"
   ]
  },
  {
   "cell_type": "code",
   "execution_count": 4,
   "id": "11876ade",
   "metadata": {
    "execution": {
     "iopub.execute_input": "2023-10-27T18:20:29.596047Z",
     "iopub.status.busy": "2023-10-27T18:20:29.595138Z",
     "iopub.status.idle": "2023-10-27T18:20:29.600462Z",
     "shell.execute_reply": "2023-10-27T18:20:29.599173Z"
    },
    "papermill": {
     "duration": 0.02156,
     "end_time": "2023-10-27T18:20:29.602897",
     "exception": false,
     "start_time": "2023-10-27T18:20:29.581337",
     "status": "completed"
    },
    "tags": []
   },
   "outputs": [],
   "source": [
    "FILE = '/kaggle/input/data-science-for-good/Dept_49-00035/49-00035_Incidents_2016.csv'"
   ]
  },
  {
   "cell_type": "markdown",
   "id": "b2e9919a",
   "metadata": {
    "papermill": {
     "duration": 0.014097,
     "end_time": "2023-10-27T18:20:29.630493",
     "exception": false,
     "start_time": "2023-10-27T18:20:29.616396",
     "status": "completed"
    },
    "tags": []
   },
   "source": [
    "# Step 1: Data Exploration and Preprocessing"
   ]
  },
  {
   "cell_type": "markdown",
   "id": "7563503c",
   "metadata": {
    "papermill": {
     "duration": 0.012823,
     "end_time": "2023-10-27T18:20:29.656380",
     "exception": false,
     "start_time": "2023-10-27T18:20:29.643557",
     "status": "completed"
    },
    "tags": []
   },
   "source": [
    "### Load Data"
   ]
  },
  {
   "cell_type": "code",
   "execution_count": 5,
   "id": "a016d77f",
   "metadata": {
    "execution": {
     "iopub.execute_input": "2023-10-27T18:20:29.683750Z",
     "iopub.status.busy": "2023-10-27T18:20:29.683392Z",
     "iopub.status.idle": "2023-10-27T18:20:29.768600Z",
     "shell.execute_reply": "2023-10-27T18:20:29.767292Z"
    },
    "papermill": {
     "duration": 0.101483,
     "end_time": "2023-10-27T18:20:29.770840",
     "exception": false,
     "start_time": "2023-10-27T18:20:29.669357",
     "status": "completed"
    },
    "tags": []
   },
   "outputs": [
    {
     "data": {
      "text/html": [
       "<div>\n",
       "<style scoped>\n",
       "    .dataframe tbody tr th:only-of-type {\n",
       "        vertical-align: middle;\n",
       "    }\n",
       "\n",
       "    .dataframe tbody tr th {\n",
       "        vertical-align: top;\n",
       "    }\n",
       "\n",
       "    .dataframe thead th {\n",
       "        text-align: right;\n",
       "    }\n",
       "</style>\n",
       "<table border=\"1\" class=\"dataframe\">\n",
       "  <thead>\n",
       "    <tr style=\"text-align: right;\">\n",
       "      <th></th>\n",
       "      <th>CRIME_TYPE</th>\n",
       "      <th>INCIDENT_DATE</th>\n",
       "      <th>INCIDENT_UNIQUE_IDENTIFIER</th>\n",
       "      <th>INCIDENT_REASON</th>\n",
       "      <th>LOCATION_DISTRICT</th>\n",
       "      <th>LOCATION_FULL_STREET_ADDRESS_OR_INTERSECTION</th>\n",
       "      <th>LOCATION_CITY</th>\n",
       "      <th>LOCATION_STATE</th>\n",
       "    </tr>\n",
       "  </thead>\n",
       "  <tbody>\n",
       "    <tr>\n",
       "      <th>0</th>\n",
       "      <td>DOMESTIC VIOLENCE</td>\n",
       "      <td>12/6/16 16:12</td>\n",
       "      <td>16-064496</td>\n",
       "      <td>THREAT CRIME:INT:TERRORIZE</td>\n",
       "      <td>04X</td>\n",
       "      <td>1700 MARTIN LUTHER KING JR W</td>\n",
       "      <td>Oakland</td>\n",
       "      <td>CA</td>\n",
       "    </tr>\n",
       "    <tr>\n",
       "      <th>1</th>\n",
       "      <td>STOLEN VEHICLE</td>\n",
       "      <td>12/6/16 7:20</td>\n",
       "      <td>16-064497</td>\n",
       "      <td>VEHICLE THEFT - AUTO</td>\n",
       "      <td>27X</td>\n",
       "      <td>1600 HIGH ST</td>\n",
       "      <td>Oakland</td>\n",
       "      <td>CA</td>\n",
       "    </tr>\n",
       "    <tr>\n",
       "      <th>2</th>\n",
       "      <td>FELONY ASSAULT</td>\n",
       "      <td>12/6/16 19:00</td>\n",
       "      <td>16-064499</td>\n",
       "      <td>OBSTRUCT/RESIST/ETC PUBLIC/PEACE OFFICER/EMERG...</td>\n",
       "      <td>08X</td>\n",
       "      <td>2800 TELEGRAPH AV</td>\n",
       "      <td>Oakland</td>\n",
       "      <td>CA</td>\n",
       "    </tr>\n",
       "    <tr>\n",
       "      <th>3</th>\n",
       "      <td>NARCOTICS</td>\n",
       "      <td>12/6/16 19:20</td>\n",
       "      <td>16-064501</td>\n",
       "      <td>POSSESS CONTROLLED SUBSTANCE PARAPHERNALIA</td>\n",
       "      <td>07X</td>\n",
       "      <td>34TH ST &amp; LINDEN ST</td>\n",
       "      <td>Oakland</td>\n",
       "      <td>CA</td>\n",
       "    </tr>\n",
       "    <tr>\n",
       "      <th>4</th>\n",
       "      <td>DISORDERLY CONDUCT</td>\n",
       "      <td>12/6/16 18:48</td>\n",
       "      <td>16-064505</td>\n",
       "      <td>DISORDERLY CONDUCT - ALCOHOL</td>\n",
       "      <td>04X</td>\n",
       "      <td>2100 SAN PABLO AV</td>\n",
       "      <td>Oakland</td>\n",
       "      <td>CA</td>\n",
       "    </tr>\n",
       "  </tbody>\n",
       "</table>\n",
       "</div>"
      ],
      "text/plain": [
       "           CRIME_TYPE  INCIDENT_DATE INCIDENT_UNIQUE_IDENTIFIER  \\\n",
       "0   DOMESTIC VIOLENCE  12/6/16 16:12                  16-064496   \n",
       "1      STOLEN VEHICLE   12/6/16 7:20                  16-064497   \n",
       "2      FELONY ASSAULT  12/6/16 19:00                  16-064499   \n",
       "3           NARCOTICS  12/6/16 19:20                  16-064501   \n",
       "4  DISORDERLY CONDUCT  12/6/16 18:48                  16-064505   \n",
       "\n",
       "                                     INCIDENT_REASON LOCATION_DISTRICT  \\\n",
       "0                         THREAT CRIME:INT:TERRORIZE               04X   \n",
       "1                               VEHICLE THEFT - AUTO               27X   \n",
       "2  OBSTRUCT/RESIST/ETC PUBLIC/PEACE OFFICER/EMERG...               08X   \n",
       "3         POSSESS CONTROLLED SUBSTANCE PARAPHERNALIA               07X   \n",
       "4                       DISORDERLY CONDUCT - ALCOHOL               04X   \n",
       "\n",
       "  LOCATION_FULL_STREET_ADDRESS_OR_INTERSECTION LOCATION_CITY LOCATION_STATE  \n",
       "0                 1700 MARTIN LUTHER KING JR W       Oakland             CA  \n",
       "1                                 1600 HIGH ST       Oakland             CA  \n",
       "2                            2800 TELEGRAPH AV       Oakland             CA  \n",
       "3                          34TH ST & LINDEN ST       Oakland             CA  \n",
       "4                            2100 SAN PABLO AV       Oakland             CA  "
      ]
     },
     "execution_count": 5,
     "metadata": {},
     "output_type": "execute_result"
    }
   ],
   "source": [
    "data = pd.read_csv(FILE, low_memory=False)\n",
    "df = pd.DataFrame(data)\n",
    "\n",
    "df.drop([0], axis=0, inplace=True)\n",
    "df.reset_index(drop=True, inplace=True)\n",
    "\n",
    "df.head()"
   ]
  },
  {
   "cell_type": "markdown",
   "id": "b54207f1",
   "metadata": {
    "papermill": {
     "duration": 0.013866,
     "end_time": "2023-10-27T18:20:29.798202",
     "exception": false,
     "start_time": "2023-10-27T18:20:29.784336",
     "status": "completed"
    },
    "tags": []
   },
   "source": [
    "### Data Exploration"
   ]
  },
  {
   "cell_type": "code",
   "execution_count": 6,
   "id": "0d02a6d8",
   "metadata": {
    "execution": {
     "iopub.execute_input": "2023-10-27T18:20:29.879061Z",
     "iopub.status.busy": "2023-10-27T18:20:29.878133Z",
     "iopub.status.idle": "2023-10-27T18:20:29.906021Z",
     "shell.execute_reply": "2023-10-27T18:20:29.903902Z"
    },
    "papermill": {
     "duration": 0.044757,
     "end_time": "2023-10-27T18:20:29.907805",
     "exception": false,
     "start_time": "2023-10-27T18:20:29.863048",
     "status": "completed"
    },
    "tags": []
   },
   "outputs": [
    {
     "name": "stdout",
     "output_type": "stream",
     "text": [
      "<class 'pandas.core.frame.DataFrame'>\n",
      "RangeIndex: 10769 entries, 0 to 10768\n",
      "Data columns (total 8 columns):\n",
      " #   Column                                        Non-Null Count  Dtype \n",
      "---  ------                                        --------------  ----- \n",
      " 0   CRIME_TYPE                                    10060 non-null  object\n",
      " 1   INCIDENT_DATE                                 10767 non-null  object\n",
      " 2   INCIDENT_UNIQUE_IDENTIFIER                    10769 non-null  object\n",
      " 3   INCIDENT_REASON                               10769 non-null  object\n",
      " 4   LOCATION_DISTRICT                             10572 non-null  object\n",
      " 5   LOCATION_FULL_STREET_ADDRESS_OR_INTERSECTION  10769 non-null  object\n",
      " 6   LOCATION_CITY                                 10769 non-null  object\n",
      " 7   LOCATION_STATE                                10769 non-null  object\n",
      "dtypes: object(8)\n",
      "memory usage: 673.2+ KB\n"
     ]
    }
   ],
   "source": [
    "df.info()"
   ]
  },
  {
   "cell_type": "code",
   "execution_count": 7,
   "id": "89fc5603",
   "metadata": {
    "execution": {
     "iopub.execute_input": "2023-10-27T18:20:29.936338Z",
     "iopub.status.busy": "2023-10-27T18:20:29.935380Z",
     "iopub.status.idle": "2023-10-27T18:20:29.948765Z",
     "shell.execute_reply": "2023-10-27T18:20:29.946742Z"
    },
    "papermill": {
     "duration": 0.030016,
     "end_time": "2023-10-27T18:20:29.951294",
     "exception": false,
     "start_time": "2023-10-27T18:20:29.921278",
     "status": "completed"
    },
    "tags": []
   },
   "outputs": [
    {
     "name": "stdout",
     "output_type": "stream",
     "text": [
      "\n",
      "The shape of the data: (10769, 8)\n",
      "\n",
      "The types of the data: \n",
      "CRIME_TYPE                                      object\n",
      "INCIDENT_DATE                                   object\n",
      "INCIDENT_UNIQUE_IDENTIFIER                      object\n",
      "INCIDENT_REASON                                 object\n",
      "LOCATION_DISTRICT                               object\n",
      "LOCATION_FULL_STREET_ADDRESS_OR_INTERSECTION    object\n",
      "LOCATION_CITY                                   object\n",
      "LOCATION_STATE                                  object\n",
      "dtype: object\n",
      "\n",
      "The empty row in the data: \n",
      "CRIME_TYPE                                      709\n",
      "INCIDENT_DATE                                     2\n",
      "INCIDENT_UNIQUE_IDENTIFIER                        0\n",
      "INCIDENT_REASON                                   0\n",
      "LOCATION_DISTRICT                               197\n",
      "LOCATION_FULL_STREET_ADDRESS_OR_INTERSECTION      0\n",
      "LOCATION_CITY                                     0\n",
      "LOCATION_STATE                                    0\n",
      "dtype: int64\n"
     ]
    }
   ],
   "source": [
    "print(f\"\\nThe shape of the data: {df.shape}\\n\")\n",
    "print(f\"The types of the data: \\n{df.dtypes}\\n\")\n",
    "print(f\"The empty row in the data: \\n{df.isnull().sum()}\")"
   ]
  },
  {
   "cell_type": "code",
   "execution_count": 8,
   "id": "9d2039aa",
   "metadata": {
    "execution": {
     "iopub.execute_input": "2023-10-27T18:20:29.981192Z",
     "iopub.status.busy": "2023-10-27T18:20:29.980428Z",
     "iopub.status.idle": "2023-10-27T18:20:29.993361Z",
     "shell.execute_reply": "2023-10-27T18:20:29.992032Z"
    },
    "papermill": {
     "duration": 0.029611,
     "end_time": "2023-10-27T18:20:29.995303",
     "exception": false,
     "start_time": "2023-10-27T18:20:29.965692",
     "status": "completed"
    },
    "tags": []
   },
   "outputs": [
    {
     "data": {
      "text/html": [
       "<div>\n",
       "<style scoped>\n",
       "    .dataframe tbody tr th:only-of-type {\n",
       "        vertical-align: middle;\n",
       "    }\n",
       "\n",
       "    .dataframe tbody tr th {\n",
       "        vertical-align: top;\n",
       "    }\n",
       "\n",
       "    .dataframe thead th {\n",
       "        text-align: right;\n",
       "    }\n",
       "</style>\n",
       "<table border=\"1\" class=\"dataframe\">\n",
       "  <thead>\n",
       "    <tr style=\"text-align: right;\">\n",
       "      <th></th>\n",
       "      <th>CRIME_TYPE</th>\n",
       "      <th>INCIDENT_DATE</th>\n",
       "      <th>INCIDENT_UNIQUE_IDENTIFIER</th>\n",
       "      <th>INCIDENT_REASON</th>\n",
       "      <th>LOCATION_DISTRICT</th>\n",
       "      <th>LOCATION_FULL_STREET_ADDRESS_OR_INTERSECTION</th>\n",
       "      <th>LOCATION_CITY</th>\n",
       "      <th>LOCATION_STATE</th>\n",
       "    </tr>\n",
       "  </thead>\n",
       "  <tbody>\n",
       "    <tr>\n",
       "      <th>0</th>\n",
       "      <td>DOMESTIC VIOLENCE</td>\n",
       "      <td>12/6/16 16:12</td>\n",
       "      <td>16-064496</td>\n",
       "      <td>THREAT CRIME:INT:TERRORIZE</td>\n",
       "      <td>04X</td>\n",
       "      <td>1700 MARTIN LUTHER KING JR W</td>\n",
       "      <td>Oakland</td>\n",
       "      <td>CA</td>\n",
       "    </tr>\n",
       "    <tr>\n",
       "      <th>1</th>\n",
       "      <td>STOLEN VEHICLE</td>\n",
       "      <td>12/6/16 7:20</td>\n",
       "      <td>16-064497</td>\n",
       "      <td>VEHICLE THEFT - AUTO</td>\n",
       "      <td>27X</td>\n",
       "      <td>1600 HIGH ST</td>\n",
       "      <td>Oakland</td>\n",
       "      <td>CA</td>\n",
       "    </tr>\n",
       "    <tr>\n",
       "      <th>2</th>\n",
       "      <td>FELONY ASSAULT</td>\n",
       "      <td>12/6/16 19:00</td>\n",
       "      <td>16-064499</td>\n",
       "      <td>OBSTRUCT/RESIST/ETC PUBLIC/PEACE OFFICER/EMERG...</td>\n",
       "      <td>08X</td>\n",
       "      <td>2800 TELEGRAPH AV</td>\n",
       "      <td>Oakland</td>\n",
       "      <td>CA</td>\n",
       "    </tr>\n",
       "    <tr>\n",
       "      <th>3</th>\n",
       "      <td>NARCOTICS</td>\n",
       "      <td>12/6/16 19:20</td>\n",
       "      <td>16-064501</td>\n",
       "      <td>POSSESS CONTROLLED SUBSTANCE PARAPHERNALIA</td>\n",
       "      <td>07X</td>\n",
       "      <td>34TH ST &amp; LINDEN ST</td>\n",
       "      <td>Oakland</td>\n",
       "      <td>CA</td>\n",
       "    </tr>\n",
       "    <tr>\n",
       "      <th>4</th>\n",
       "      <td>DISORDERLY CONDUCT</td>\n",
       "      <td>12/6/16 18:48</td>\n",
       "      <td>16-064505</td>\n",
       "      <td>DISORDERLY CONDUCT - ALCOHOL</td>\n",
       "      <td>04X</td>\n",
       "      <td>2100 SAN PABLO AV</td>\n",
       "      <td>Oakland</td>\n",
       "      <td>CA</td>\n",
       "    </tr>\n",
       "  </tbody>\n",
       "</table>\n",
       "</div>"
      ],
      "text/plain": [
       "           CRIME_TYPE  INCIDENT_DATE INCIDENT_UNIQUE_IDENTIFIER  \\\n",
       "0   DOMESTIC VIOLENCE  12/6/16 16:12                  16-064496   \n",
       "1      STOLEN VEHICLE   12/6/16 7:20                  16-064497   \n",
       "2      FELONY ASSAULT  12/6/16 19:00                  16-064499   \n",
       "3           NARCOTICS  12/6/16 19:20                  16-064501   \n",
       "4  DISORDERLY CONDUCT  12/6/16 18:48                  16-064505   \n",
       "\n",
       "                                     INCIDENT_REASON LOCATION_DISTRICT  \\\n",
       "0                         THREAT CRIME:INT:TERRORIZE               04X   \n",
       "1                               VEHICLE THEFT - AUTO               27X   \n",
       "2  OBSTRUCT/RESIST/ETC PUBLIC/PEACE OFFICER/EMERG...               08X   \n",
       "3         POSSESS CONTROLLED SUBSTANCE PARAPHERNALIA               07X   \n",
       "4                       DISORDERLY CONDUCT - ALCOHOL               04X   \n",
       "\n",
       "  LOCATION_FULL_STREET_ADDRESS_OR_INTERSECTION LOCATION_CITY LOCATION_STATE  \n",
       "0                 1700 MARTIN LUTHER KING JR W       Oakland             CA  \n",
       "1                                 1600 HIGH ST       Oakland             CA  \n",
       "2                            2800 TELEGRAPH AV       Oakland             CA  \n",
       "3                          34TH ST & LINDEN ST       Oakland             CA  \n",
       "4                            2100 SAN PABLO AV       Oakland             CA  "
      ]
     },
     "execution_count": 8,
     "metadata": {},
     "output_type": "execute_result"
    }
   ],
   "source": [
    "df.head()"
   ]
  },
  {
   "cell_type": "markdown",
   "id": "6b117939",
   "metadata": {
    "papermill": {
     "duration": 0.014083,
     "end_time": "2023-10-27T18:20:30.024731",
     "exception": false,
     "start_time": "2023-10-27T18:20:30.010648",
     "status": "completed"
    },
    "tags": []
   },
   "source": [
    "### Data Cleaning"
   ]
  },
  {
   "cell_type": "code",
   "execution_count": 9,
   "id": "7c6efc0e",
   "metadata": {
    "execution": {
     "iopub.execute_input": "2023-10-27T18:20:30.054750Z",
     "iopub.status.busy": "2023-10-27T18:20:30.054189Z",
     "iopub.status.idle": "2023-10-27T18:20:30.081636Z",
     "shell.execute_reply": "2023-10-27T18:20:30.080937Z"
    },
    "papermill": {
     "duration": 0.044505,
     "end_time": "2023-10-27T18:20:30.083396",
     "exception": false,
     "start_time": "2023-10-27T18:20:30.038891",
     "status": "completed"
    },
    "tags": []
   },
   "outputs": [
    {
     "data": {
      "text/plain": [
       "CRIME_TYPE                                      0\n",
       "INCIDENT_DATE                                   0\n",
       "INCIDENT_UNIQUE_IDENTIFIER                      0\n",
       "INCIDENT_REASON                                 0\n",
       "LOCATION_DISTRICT                               0\n",
       "LOCATION_FULL_STREET_ADDRESS_OR_INTERSECTION    0\n",
       "LOCATION_CITY                                   0\n",
       "LOCATION_STATE                                  0\n",
       "dtype: int64"
      ]
     },
     "execution_count": 9,
     "metadata": {},
     "output_type": "execute_result"
    }
   ],
   "source": [
    "mode_imputer = SimpleImputer(missing_values=np.nan, strategy='most_frequent')\n",
    "mode_imputer.fit(df)\n",
    "imputed_data = mode_imputer.transform(df)\n",
    "df = pd.DataFrame(data=imputed_data, columns=df.columns)\n",
    "df.isnull().sum()"
   ]
  },
  {
   "cell_type": "code",
   "execution_count": 10,
   "id": "0b955e4a",
   "metadata": {
    "execution": {
     "iopub.execute_input": "2023-10-27T18:20:30.112837Z",
     "iopub.status.busy": "2023-10-27T18:20:30.112480Z",
     "iopub.status.idle": "2023-10-27T18:20:30.133478Z",
     "shell.execute_reply": "2023-10-27T18:20:30.132371Z"
    },
    "papermill": {
     "duration": 0.038257,
     "end_time": "2023-10-27T18:20:30.135553",
     "exception": false,
     "start_time": "2023-10-27T18:20:30.097296",
     "status": "completed"
    },
    "tags": []
   },
   "outputs": [
    {
     "data": {
      "text/plain": [
       "False    10768\n",
       "True         1\n",
       "Name: count, dtype: int64"
      ]
     },
     "execution_count": 10,
     "metadata": {},
     "output_type": "execute_result"
    }
   ],
   "source": [
    "df.duplicated().value_counts()"
   ]
  },
  {
   "cell_type": "code",
   "execution_count": 11,
   "id": "2a1a376d",
   "metadata": {
    "execution": {
     "iopub.execute_input": "2023-10-27T18:20:30.165910Z",
     "iopub.status.busy": "2023-10-27T18:20:30.165214Z",
     "iopub.status.idle": "2023-10-27T18:20:30.179333Z",
     "shell.execute_reply": "2023-10-27T18:20:30.178530Z"
    },
    "papermill": {
     "duration": 0.031594,
     "end_time": "2023-10-27T18:20:30.181321",
     "exception": false,
     "start_time": "2023-10-27T18:20:30.149727",
     "status": "completed"
    },
    "tags": []
   },
   "outputs": [],
   "source": [
    "df.drop_duplicates(inplace=True)"
   ]
  },
  {
   "cell_type": "markdown",
   "id": "31862e44",
   "metadata": {
    "papermill": {
     "duration": 0.013366,
     "end_time": "2023-10-27T18:20:30.209040",
     "exception": false,
     "start_time": "2023-10-27T18:20:30.195674",
     "status": "completed"
    },
    "tags": []
   },
   "source": [
    "### Data Preprocessing"
   ]
  },
  {
   "cell_type": "code",
   "execution_count": 12,
   "id": "5175a0b9",
   "metadata": {
    "execution": {
     "iopub.execute_input": "2023-10-27T18:20:30.237956Z",
     "iopub.status.busy": "2023-10-27T18:20:30.237305Z",
     "iopub.status.idle": "2023-10-27T18:20:31.095767Z",
     "shell.execute_reply": "2023-10-27T18:20:31.094753Z"
    },
    "papermill": {
     "duration": 0.875857,
     "end_time": "2023-10-27T18:20:31.098314",
     "exception": false,
     "start_time": "2023-10-27T18:20:30.222457",
     "status": "completed"
    },
    "tags": []
   },
   "outputs": [],
   "source": [
    "# Extracting dates\n",
    "\n",
    "df['INCIDENT_DATE'] = pd.to_datetime(df['INCIDENT_DATE'], format=\"mixed\")\n",
    "df[\"INCIDENT_YEAR\"] = df[\"INCIDENT_DATE\"].dt.strftime('%Y')\n",
    "df[\"INCIDENT_MONTH\"] = df[\"INCIDENT_DATE\"].dt.strftime('%B')\n",
    "df[\"INCIDENT_TIME\"] = df[\"INCIDENT_DATE\"].dt.strftime(\"%H:%M\")\n",
    "\n",
    "df.drop(['INCIDENT_DATE'], axis=1, inplace=True)"
   ]
  },
  {
   "cell_type": "code",
   "execution_count": 13,
   "id": "77666798",
   "metadata": {
    "execution": {
     "iopub.execute_input": "2023-10-27T18:20:31.127612Z",
     "iopub.status.busy": "2023-10-27T18:20:31.127072Z",
     "iopub.status.idle": "2023-10-27T18:20:31.140033Z",
     "shell.execute_reply": "2023-10-27T18:20:31.138581Z"
    },
    "papermill": {
     "duration": 0.03002,
     "end_time": "2023-10-27T18:20:31.142272",
     "exception": false,
     "start_time": "2023-10-27T18:20:31.112252",
     "status": "completed"
    },
    "tags": []
   },
   "outputs": [
    {
     "data": {
      "text/html": [
       "<div>\n",
       "<style scoped>\n",
       "    .dataframe tbody tr th:only-of-type {\n",
       "        vertical-align: middle;\n",
       "    }\n",
       "\n",
       "    .dataframe tbody tr th {\n",
       "        vertical-align: top;\n",
       "    }\n",
       "\n",
       "    .dataframe thead th {\n",
       "        text-align: right;\n",
       "    }\n",
       "</style>\n",
       "<table border=\"1\" class=\"dataframe\">\n",
       "  <thead>\n",
       "    <tr style=\"text-align: right;\">\n",
       "      <th></th>\n",
       "      <th>CRIME_TYPE</th>\n",
       "      <th>INCIDENT_UNIQUE_IDENTIFIER</th>\n",
       "      <th>INCIDENT_REASON</th>\n",
       "      <th>LOCATION_DISTRICT</th>\n",
       "      <th>LOCATION_FULL_STREET_ADDRESS_OR_INTERSECTION</th>\n",
       "      <th>LOCATION_CITY</th>\n",
       "      <th>LOCATION_STATE</th>\n",
       "      <th>INCIDENT_YEAR</th>\n",
       "      <th>INCIDENT_MONTH</th>\n",
       "      <th>INCIDENT_TIME</th>\n",
       "    </tr>\n",
       "  </thead>\n",
       "  <tbody>\n",
       "    <tr>\n",
       "      <th>0</th>\n",
       "      <td>DOMESTIC VIOLENCE</td>\n",
       "      <td>16-064496</td>\n",
       "      <td>THREAT CRIME:INT:TERRORIZE</td>\n",
       "      <td>04X</td>\n",
       "      <td>1700 MARTIN LUTHER KING JR W</td>\n",
       "      <td>Oakland</td>\n",
       "      <td>CA</td>\n",
       "      <td>2016</td>\n",
       "      <td>December</td>\n",
       "      <td>16:12</td>\n",
       "    </tr>\n",
       "    <tr>\n",
       "      <th>1</th>\n",
       "      <td>STOLEN VEHICLE</td>\n",
       "      <td>16-064497</td>\n",
       "      <td>VEHICLE THEFT - AUTO</td>\n",
       "      <td>27X</td>\n",
       "      <td>1600 HIGH ST</td>\n",
       "      <td>Oakland</td>\n",
       "      <td>CA</td>\n",
       "      <td>2016</td>\n",
       "      <td>December</td>\n",
       "      <td>07:20</td>\n",
       "    </tr>\n",
       "    <tr>\n",
       "      <th>2</th>\n",
       "      <td>FELONY ASSAULT</td>\n",
       "      <td>16-064499</td>\n",
       "      <td>OBSTRUCT/RESIST/ETC PUBLIC/PEACE OFFICER/EMERG...</td>\n",
       "      <td>08X</td>\n",
       "      <td>2800 TELEGRAPH AV</td>\n",
       "      <td>Oakland</td>\n",
       "      <td>CA</td>\n",
       "      <td>2016</td>\n",
       "      <td>December</td>\n",
       "      <td>19:00</td>\n",
       "    </tr>\n",
       "    <tr>\n",
       "      <th>3</th>\n",
       "      <td>NARCOTICS</td>\n",
       "      <td>16-064501</td>\n",
       "      <td>POSSESS CONTROLLED SUBSTANCE PARAPHERNALIA</td>\n",
       "      <td>07X</td>\n",
       "      <td>34TH ST &amp; LINDEN ST</td>\n",
       "      <td>Oakland</td>\n",
       "      <td>CA</td>\n",
       "      <td>2016</td>\n",
       "      <td>December</td>\n",
       "      <td>19:20</td>\n",
       "    </tr>\n",
       "    <tr>\n",
       "      <th>4</th>\n",
       "      <td>DISORDERLY CONDUCT</td>\n",
       "      <td>16-064505</td>\n",
       "      <td>DISORDERLY CONDUCT - ALCOHOL</td>\n",
       "      <td>04X</td>\n",
       "      <td>2100 SAN PABLO AV</td>\n",
       "      <td>Oakland</td>\n",
       "      <td>CA</td>\n",
       "      <td>2016</td>\n",
       "      <td>December</td>\n",
       "      <td>18:48</td>\n",
       "    </tr>\n",
       "  </tbody>\n",
       "</table>\n",
       "</div>"
      ],
      "text/plain": [
       "           CRIME_TYPE INCIDENT_UNIQUE_IDENTIFIER  \\\n",
       "0   DOMESTIC VIOLENCE                  16-064496   \n",
       "1      STOLEN VEHICLE                  16-064497   \n",
       "2      FELONY ASSAULT                  16-064499   \n",
       "3           NARCOTICS                  16-064501   \n",
       "4  DISORDERLY CONDUCT                  16-064505   \n",
       "\n",
       "                                     INCIDENT_REASON LOCATION_DISTRICT  \\\n",
       "0                         THREAT CRIME:INT:TERRORIZE               04X   \n",
       "1                               VEHICLE THEFT - AUTO               27X   \n",
       "2  OBSTRUCT/RESIST/ETC PUBLIC/PEACE OFFICER/EMERG...               08X   \n",
       "3         POSSESS CONTROLLED SUBSTANCE PARAPHERNALIA               07X   \n",
       "4                       DISORDERLY CONDUCT - ALCOHOL               04X   \n",
       "\n",
       "  LOCATION_FULL_STREET_ADDRESS_OR_INTERSECTION LOCATION_CITY LOCATION_STATE  \\\n",
       "0                 1700 MARTIN LUTHER KING JR W       Oakland             CA   \n",
       "1                                 1600 HIGH ST       Oakland             CA   \n",
       "2                            2800 TELEGRAPH AV       Oakland             CA   \n",
       "3                          34TH ST & LINDEN ST       Oakland             CA   \n",
       "4                            2100 SAN PABLO AV       Oakland             CA   \n",
       "\n",
       "  INCIDENT_YEAR INCIDENT_MONTH INCIDENT_TIME  \n",
       "0          2016       December         16:12  \n",
       "1          2016       December         07:20  \n",
       "2          2016       December         19:00  \n",
       "3          2016       December         19:20  \n",
       "4          2016       December         18:48  "
      ]
     },
     "execution_count": 13,
     "metadata": {},
     "output_type": "execute_result"
    }
   ],
   "source": [
    "df.head()"
   ]
  },
  {
   "cell_type": "code",
   "execution_count": 14,
   "id": "d8a6b76f",
   "metadata": {
    "execution": {
     "iopub.execute_input": "2023-10-27T18:20:31.173911Z",
     "iopub.status.busy": "2023-10-27T18:20:31.173497Z",
     "iopub.status.idle": "2023-10-27T18:20:31.178412Z",
     "shell.execute_reply": "2023-10-27T18:20:31.177810Z"
    },
    "papermill": {
     "duration": 0.022741,
     "end_time": "2023-10-27T18:20:31.179928",
     "exception": false,
     "start_time": "2023-10-27T18:20:31.157187",
     "status": "completed"
    },
    "tags": []
   },
   "outputs": [
    {
     "data": {
      "text/plain": [
       "(10768, 10)"
      ]
     },
     "execution_count": 14,
     "metadata": {},
     "output_type": "execute_result"
    }
   ],
   "source": [
    "df.shape"
   ]
  },
  {
   "cell_type": "code",
   "execution_count": 15,
   "id": "b2f51d58",
   "metadata": {
    "execution": {
     "iopub.execute_input": "2023-10-27T18:20:31.211012Z",
     "iopub.status.busy": "2023-10-27T18:20:31.210504Z",
     "iopub.status.idle": "2023-10-27T18:20:31.224773Z",
     "shell.execute_reply": "2023-10-27T18:20:31.223916Z"
    },
    "papermill": {
     "duration": 0.032062,
     "end_time": "2023-10-27T18:20:31.227037",
     "exception": false,
     "start_time": "2023-10-27T18:20:31.194975",
     "status": "completed"
    },
    "tags": []
   },
   "outputs": [],
   "source": [
    "df['INCIDENT_YEAR'] = df['INCIDENT_YEAR'].astype(int)\n",
    "replace = df[(df['INCIDENT_YEAR'] < 2015) | (df['INCIDENT_YEAR'] > 2018)]['INCIDENT_YEAR'].tolist()\n",
    "value = round(df[(df['INCIDENT_YEAR'] >= 2015) | (df['INCIDENT_YEAR'] <= 2018)]['INCIDENT_YEAR'].mean())\n",
    "df['INCIDENT_YEAR'].replace(to_replace=replace, value=value, inplace=True)"
   ]
  },
  {
   "cell_type": "code",
   "execution_count": 16,
   "id": "d050098e",
   "metadata": {
    "execution": {
     "iopub.execute_input": "2023-10-27T18:20:31.259971Z",
     "iopub.status.busy": "2023-10-27T18:20:31.259616Z",
     "iopub.status.idle": "2023-10-27T18:20:31.268286Z",
     "shell.execute_reply": "2023-10-27T18:20:31.267299Z"
    },
    "papermill": {
     "duration": 0.027302,
     "end_time": "2023-10-27T18:20:31.270156",
     "exception": false,
     "start_time": "2023-10-27T18:20:31.242854",
     "status": "completed"
    },
    "tags": []
   },
   "outputs": [
    {
     "data": {
      "text/plain": [
       "INCIDENT_YEAR\n",
       "2016    6122\n",
       "2017    4646\n",
       "Name: count, dtype: int64"
      ]
     },
     "execution_count": 16,
     "metadata": {},
     "output_type": "execute_result"
    }
   ],
   "source": [
    "df['INCIDENT_YEAR'].value_counts()"
   ]
  },
  {
   "cell_type": "code",
   "execution_count": 17,
   "id": "6f2daa02",
   "metadata": {
    "execution": {
     "iopub.execute_input": "2023-10-27T18:20:31.303659Z",
     "iopub.status.busy": "2023-10-27T18:20:31.302705Z",
     "iopub.status.idle": "2023-10-27T18:20:31.308590Z",
     "shell.execute_reply": "2023-10-27T18:20:31.307919Z"
    },
    "papermill": {
     "duration": 0.024706,
     "end_time": "2023-10-27T18:20:31.310179",
     "exception": false,
     "start_time": "2023-10-27T18:20:31.285473",
     "status": "completed"
    },
    "tags": []
   },
   "outputs": [],
   "source": [
    "def replace_values(feature, items, dict_, df=df):\n",
    "    \"\"\"\n",
    "    This function used for replace the values in the dataframe.\n",
    "    \n",
    "    Parameters\n",
    "    ----------\n",
    "    \n",
    "        feature: This parameter specifies the name of the column in the DataFrame (df) to modify.\n",
    "    \n",
    "        items: This parameter is a list of items to search for and replace in the specified DataFrame column.\n",
    "    \n",
    "        dict_: This parameter is a dictionary that maps replacement values. The keys in this dictionary represent the values \n",
    "               to be searched for in the items, and the corresponding values are the replacements.\n",
    "           \n",
    "        df: This parameter is an optional DataFrame parameter, with a default value set to ‘df’. \n",
    "            It represents the DataFrame in which the replacements should be made. \n",
    "    \"\"\"\n",
    "    for item in items:\n",
    "        for key, values in dict_.items():            \n",
    "            if any(value in item for value in values):\n",
    "                df[feature].replace(item, value=key, inplace=True)                 \n",
    "                break "
   ]
  },
  {
   "cell_type": "code",
   "execution_count": 18,
   "id": "8dfda757",
   "metadata": {
    "execution": {
     "iopub.execute_input": "2023-10-27T18:20:31.341501Z",
     "iopub.status.busy": "2023-10-27T18:20:31.340479Z",
     "iopub.status.idle": "2023-10-27T18:20:32.277574Z",
     "shell.execute_reply": "2023-10-27T18:20:32.276314Z"
    },
    "papermill": {
     "duration": 0.954961,
     "end_time": "2023-10-27T18:20:32.279935",
     "exception": false,
     "start_time": "2023-10-27T18:20:31.324974",
     "status": "completed"
    },
    "tags": []
   },
   "outputs": [],
   "source": [
    "items = df['INCIDENT_TIME'].unique().tolist()\n",
    "\n",
    "categories = {\n",
    "    'MORNING': ['04:', '05:', '06:', '07:', '08:', '09:', '10:', '11:'],\n",
    "    'AFTERNOON': ['12:', '13:','14:', '15:', '16:', '17:'],\n",
    "    'EVENING': ['18:', '19:', '20:', '21:', '22:'],\n",
    "    'NIGHT': ['23:','00:', '01:', '02:', '03:'],\n",
    "}\n",
    "\n",
    "replace_values(feature='INCIDENT_TIME', items=items, dict_=categories, df=df)"
   ]
  },
  {
   "cell_type": "code",
   "execution_count": 19,
   "id": "9dabe24d",
   "metadata": {
    "execution": {
     "iopub.execute_input": "2023-10-27T18:20:32.309676Z",
     "iopub.status.busy": "2023-10-27T18:20:32.309363Z",
     "iopub.status.idle": "2023-10-27T18:20:32.317743Z",
     "shell.execute_reply": "2023-10-27T18:20:32.316709Z"
    },
    "papermill": {
     "duration": 0.025075,
     "end_time": "2023-10-27T18:20:32.319559",
     "exception": false,
     "start_time": "2023-10-27T18:20:32.294484",
     "status": "completed"
    },
    "tags": []
   },
   "outputs": [
    {
     "data": {
      "text/plain": [
       "INCIDENT_TIME\n",
       "EVENING      3556\n",
       "AFTERNOON    2940\n",
       "MORNING      2446\n",
       "NIGHT        1826\n",
       "Name: count, dtype: int64"
      ]
     },
     "execution_count": 19,
     "metadata": {},
     "output_type": "execute_result"
    }
   ],
   "source": [
    "df['INCIDENT_TIME'].value_counts()"
   ]
  },
  {
   "cell_type": "code",
   "execution_count": 20,
   "id": "6f744a81",
   "metadata": {
    "execution": {
     "iopub.execute_input": "2023-10-27T18:20:32.350021Z",
     "iopub.status.busy": "2023-10-27T18:20:32.348968Z",
     "iopub.status.idle": "2023-10-27T18:20:32.524630Z",
     "shell.execute_reply": "2023-10-27T18:20:32.523237Z"
    },
    "papermill": {
     "duration": 0.193224,
     "end_time": "2023-10-27T18:20:32.527129",
     "exception": false,
     "start_time": "2023-10-27T18:20:32.333905",
     "status": "completed"
    },
    "tags": []
   },
   "outputs": [],
   "source": [
    "items = df['INCIDENT_REASON'].unique().tolist()\n",
    "\n",
    "categories = {\n",
    "    'STOLEN VEHICLE': ['CARJACKING', 'STOLEN VEHICLE', 'VEH/VES/ETC', 'VEHICLE', 'AUTO'],\n",
    "    'BURGLARY': ['BURGLARY', 'BURG'],\n",
    "    'DOMESTIC VIOLENCE': ['INJURY', 'SPOUSE', 'COHABITANT', 'SP/COHAB'],\n",
    "    'ASSAULT': ['ASSAULT', 'ADW', 'INJ', 'BATTERY'],\n",
    "    'PROSTITUTION': ['PROSTITUTION'],\n",
    "    'DISORDERLY CONDUCT': ['DISORDERLY', 'CONDUCT', 'DISTURB', 'PEACE', 'PUBLIC', 'DISRUPT'],\n",
    "    'WEAPON': ['WEAPON', 'WPN', 'WPN:ILUSE'],\n",
    "    'DUI': ['DUI'],\n",
    "    'THREATS': ['THREAT', 'THRET'],\n",
    "    'NARCOTICS': ['DRUGS', 'NARCOTIC/CONTROLLED', 'MARIJUANA/HASHISH', 'SUBSTANCE'],\n",
    "    'VANDALISM': ['VANDALISM'],\n",
    "    'ROBBERY': ['ROBBERY', 'STEAL'],\n",
    "    'THEFT': ['THEFT', 'SHOPLIFTING-COMMERCIAL', 'SHOPLIFT', 'THFT'],\n",
    "    'SHOOTING': ['SHOOT'],\n",
    "    'POSSESSION': ['POSSESS'],\n",
    "    'MURDER': ['MURDER', 'HARM/DEATH:ELDER/DEP', 'ADLT:HARM/DEATH'],\n",
    "    'FIREARM': ['FIREARM'],\n",
    "    'CRUELTY': ['CRUELTY'],\n",
    "    'ARSON': ['ARSON:INHABITED', 'ARSON:', 'ARSON', 'FIRE'],\n",
    "    \"FRAUD\": ['CREDIT', \"USE ANOTHER'S PERSONAL ID\"],\n",
    "    'LOST PROPERTY': ['LOST', 'PROPERTY'],\n",
    "}\n",
    "\n",
    "replace_values(feature='INCIDENT_REASON', items=items, dict_=categories, df=df)"
   ]
  },
  {
   "cell_type": "code",
   "execution_count": 21,
   "id": "df6124df",
   "metadata": {
    "execution": {
     "iopub.execute_input": "2023-10-27T18:20:32.558025Z",
     "iopub.status.busy": "2023-10-27T18:20:32.557250Z",
     "iopub.status.idle": "2023-10-27T18:20:32.570610Z",
     "shell.execute_reply": "2023-10-27T18:20:32.569371Z"
    },
    "papermill": {
     "duration": 0.031095,
     "end_time": "2023-10-27T18:20:32.573144",
     "exception": false,
     "start_time": "2023-10-27T18:20:32.542049",
     "status": "completed"
    },
    "tags": []
   },
   "outputs": [],
   "source": [
    "# Find values with counts less than or equal to 3\n",
    "infrequent_values = df['INCIDENT_REASON'].value_counts()[df['INCIDENT_REASON'].value_counts() <= 3].index\n",
    "\n",
    "# Replace those infrequent values with 'OTHERS'\n",
    "df['INCIDENT_REASON'] = df['INCIDENT_REASON'].replace(infrequent_values, 'OTHERS')"
   ]
  },
  {
   "cell_type": "code",
   "execution_count": 22,
   "id": "267ebaa7",
   "metadata": {
    "execution": {
     "iopub.execute_input": "2023-10-27T18:20:32.604680Z",
     "iopub.status.busy": "2023-10-27T18:20:32.603397Z",
     "iopub.status.idle": "2023-10-27T18:20:32.611087Z",
     "shell.execute_reply": "2023-10-27T18:20:32.610484Z"
    },
    "papermill": {
     "duration": 0.025102,
     "end_time": "2023-10-27T18:20:32.613043",
     "exception": false,
     "start_time": "2023-10-27T18:20:32.587941",
     "status": "completed"
    },
    "tags": []
   },
   "outputs": [
    {
     "data": {
      "text/plain": [
       "INCIDENT_REASON\n",
       "STOLEN VEHICLE        4525\n",
       "THEFT                 1211\n",
       "VANDALISM             1014\n",
       "ASSAULT                739\n",
       "BURGLARY               723\n",
       "DOMESTIC VIOLENCE      614\n",
       "ROBBERY                586\n",
       "DISORDERLY CONDUCT     227\n",
       "THREATS                224\n",
       "FRAUD                  199\n",
       "NARCOTICS              178\n",
       "FIREARM                138\n",
       "WEAPON                  85\n",
       "PROSTITUTION            77\n",
       "DUI                     67\n",
       "POSSESSION              48\n",
       "LOST PROPERTY           42\n",
       "MURDER                  28\n",
       "ARSON                   22\n",
       "OTHERS                  14\n",
       "CRUELTY                  7\n",
       "Name: count, dtype: int64"
      ]
     },
     "execution_count": 22,
     "metadata": {},
     "output_type": "execute_result"
    }
   ],
   "source": [
    "df['INCIDENT_REASON'].value_counts()"
   ]
  },
  {
   "cell_type": "code",
   "execution_count": 23,
   "id": "1df922d1",
   "metadata": {
    "execution": {
     "iopub.execute_input": "2023-10-27T18:20:32.645217Z",
     "iopub.status.busy": "2023-10-27T18:20:32.644797Z",
     "iopub.status.idle": "2023-10-27T18:20:32.662786Z",
     "shell.execute_reply": "2023-10-27T18:20:32.661787Z"
    },
    "papermill": {
     "duration": 0.036503,
     "end_time": "2023-10-27T18:20:32.664813",
     "exception": false,
     "start_time": "2023-10-27T18:20:32.628310",
     "status": "completed"
    },
    "tags": []
   },
   "outputs": [],
   "source": [
    "items = df['CRIME_TYPE'].unique().tolist()\n",
    "\n",
    "categories = {\n",
    "    'BURGLARY': ['BURG'],\n",
    "    'FRAUD': ['FORGERY'],\n",
    "    'THEFT': ['THEFT'],\n",
    "    'STOLEN VEHICLE': ['VEHICLE', 'CAR', 'RECOVERED', 'STOLEN'],\n",
    "    'ASSAULT': ['ASSAULT']\n",
    "}\n",
    "\n",
    "replace_values(feature='CRIME_TYPE', items=items, dict_=categories, df=df)"
   ]
  },
  {
   "cell_type": "code",
   "execution_count": 24,
   "id": "23b23ec1",
   "metadata": {
    "execution": {
     "iopub.execute_input": "2023-10-27T18:20:32.696994Z",
     "iopub.status.busy": "2023-10-27T18:20:32.696612Z",
     "iopub.status.idle": "2023-10-27T18:20:32.707450Z",
     "shell.execute_reply": "2023-10-27T18:20:32.706385Z"
    },
    "papermill": {
     "duration": 0.02907,
     "end_time": "2023-10-27T18:20:32.709259",
     "exception": false,
     "start_time": "2023-10-27T18:20:32.680189",
     "status": "completed"
    },
    "tags": []
   },
   "outputs": [],
   "source": [
    "# Find values with counts less than or equal to 2\n",
    "infrequent_values = df['CRIME_TYPE'].value_counts()[df['CRIME_TYPE'].value_counts() <= 2].index\n",
    "\n",
    "# Replace those infrequent values with 'Others'\n",
    "df['CRIME_TYPE'] = df['CRIME_TYPE'].replace(infrequent_values, 'OTHERS')"
   ]
  },
  {
   "cell_type": "code",
   "execution_count": 25,
   "id": "fa413d3c",
   "metadata": {
    "execution": {
     "iopub.execute_input": "2023-10-27T18:20:32.740980Z",
     "iopub.status.busy": "2023-10-27T18:20:32.740535Z",
     "iopub.status.idle": "2023-10-27T18:20:32.748559Z",
     "shell.execute_reply": "2023-10-27T18:20:32.747589Z"
    },
    "papermill": {
     "duration": 0.02567,
     "end_time": "2023-10-27T18:20:32.750129",
     "exception": false,
     "start_time": "2023-10-27T18:20:32.724459",
     "status": "completed"
    },
    "tags": []
   },
   "outputs": [
    {
     "data": {
      "text/plain": [
       "CRIME_TYPE\n",
       "BURGLARY                       3419\n",
       "STOLEN VEHICLE                 1948\n",
       "THEFT                          1123\n",
       "ASSAULT                        1064\n",
       "VANDALISM                       877\n",
       "DOMESTIC VIOLENCE               673\n",
       "ROBBERY                         654\n",
       "NARCOTICS                       215\n",
       "DISORDERLY CONDUCT              164\n",
       "FRAUD                           160\n",
       "WEAPONS                          91\n",
       "PROSTITUTION                     77\n",
       "OTHER                            71\n",
       "THREATS                          70\n",
       "DUI                              62\n",
       "ARSON                            29\n",
       "HOMICIDE                         25\n",
       "DRUNKENNESS                      22\n",
       "OTHERS                           10\n",
       "MISCELLANEOUS TRAFFIC CRIME       7\n",
       "INCIDENT TYPE                     7\n",
       "Name: count, dtype: int64"
      ]
     },
     "execution_count": 25,
     "metadata": {},
     "output_type": "execute_result"
    }
   ],
   "source": [
    "df['CRIME_TYPE'].value_counts()"
   ]
  },
  {
   "cell_type": "code",
   "execution_count": 26,
   "id": "83d26e11",
   "metadata": {
    "execution": {
     "iopub.execute_input": "2023-10-27T18:20:32.782456Z",
     "iopub.status.busy": "2023-10-27T18:20:32.781547Z",
     "iopub.status.idle": "2023-10-27T18:20:35.212296Z",
     "shell.execute_reply": "2023-10-27T18:20:35.211306Z"
    },
    "papermill": {
     "duration": 2.449107,
     "end_time": "2023-10-27T18:20:35.214537",
     "exception": false,
     "start_time": "2023-10-27T18:20:32.765430",
     "status": "completed"
    },
    "tags": []
   },
   "outputs": [],
   "source": [
    "addresses = df['LOCATION_FULL_STREET_ADDRESS_OR_INTERSECTION'].unique().tolist()\n",
    "\n",
    "# A pattern to match street names without numbers\n",
    "patterns = [r'[^0-9]+ ST$', r'[^0-9]+$']  # This pattern matches words that have no numbers\n",
    "\n",
    "# An empty dictionary to map old street names to new street names\n",
    "street_name_mapping = {}\n",
    "\n",
    "# Iterate through the addresses and extract street names\n",
    "for address in addresses:\n",
    "    parts = address.split(' at ', 1)  # Split at 'at'\n",
    "    modified_address = parts[0].strip()\n",
    "    for pattern in patterns:\n",
    "        match = re.search(pattern, modified_address)\n",
    "        if match:\n",
    "            old_street_name = address\n",
    "            new_street_name = match.group(0).strip()  # Remove leading/trailing spaces\n",
    "            street_name_mapping[old_street_name] = new_street_name\n",
    "\n",
    "# Use the .replace() method to replace old street names with new names\n",
    "df['LOCATION_STREET_ADDRESS'] = df['LOCATION_FULL_STREET_ADDRESS_OR_INTERSECTION'].replace(street_name_mapping)\n",
    "\n",
    "# Find values with counts less than or equal to 2\n",
    "infrequent_values = df['LOCATION_STREET_ADDRESS'].value_counts()[df['LOCATION_STREET_ADDRESS'].value_counts() <= 2].index\n",
    "\n",
    "# Replace those infrequent values with 'Others'\n",
    "df['LOCATION_STREET_ADDRESS'] = df['LOCATION_STREET_ADDRESS'].replace(infrequent_values, 'OTHERS')"
   ]
  },
  {
   "cell_type": "code",
   "execution_count": 27,
   "id": "ef2e4672",
   "metadata": {
    "execution": {
     "iopub.execute_input": "2023-10-27T18:20:35.247970Z",
     "iopub.status.busy": "2023-10-27T18:20:35.247625Z",
     "iopub.status.idle": "2023-10-27T18:20:35.254440Z",
     "shell.execute_reply": "2023-10-27T18:20:35.253469Z"
    },
    "papermill": {
     "duration": 0.025055,
     "end_time": "2023-10-27T18:20:35.256341",
     "exception": false,
     "start_time": "2023-10-27T18:20:35.231286",
     "status": "completed"
    },
    "tags": []
   },
   "outputs": [
    {
     "data": {
      "text/plain": [
       "(10768, 11)"
      ]
     },
     "execution_count": 27,
     "metadata": {},
     "output_type": "execute_result"
    }
   ],
   "source": [
    "df.shape"
   ]
  },
  {
   "cell_type": "code",
   "execution_count": 28,
   "id": "84cf2b57",
   "metadata": {
    "execution": {
     "iopub.execute_input": "2023-10-27T18:20:35.290058Z",
     "iopub.status.busy": "2023-10-27T18:20:35.289677Z",
     "iopub.status.idle": "2023-10-27T18:20:35.298607Z",
     "shell.execute_reply": "2023-10-27T18:20:35.297812Z"
    },
    "papermill": {
     "duration": 0.027543,
     "end_time": "2023-10-27T18:20:35.300179",
     "exception": false,
     "start_time": "2023-10-27T18:20:35.272636",
     "status": "completed"
    },
    "tags": []
   },
   "outputs": [],
   "source": [
    "df['INCIDENT_YEAR'].value_counts()\n",
    "df['INCIDENT_YEAR'] = df['INCIDENT_YEAR'].astype(str)"
   ]
  },
  {
   "cell_type": "code",
   "execution_count": 29,
   "id": "275207ab",
   "metadata": {
    "execution": {
     "iopub.execute_input": "2023-10-27T18:20:35.333785Z",
     "iopub.status.busy": "2023-10-27T18:20:35.332645Z",
     "iopub.status.idle": "2023-10-27T18:20:35.344565Z",
     "shell.execute_reply": "2023-10-27T18:20:35.343128Z"
    },
    "papermill": {
     "duration": 0.032598,
     "end_time": "2023-10-27T18:20:35.348419",
     "exception": false,
     "start_time": "2023-10-27T18:20:35.315821",
     "status": "completed"
    },
    "tags": []
   },
   "outputs": [
    {
     "data": {
      "text/plain": [
       "Index(['01X', '02X', '02Y', '03X', '03Y', '04X', '05X', '05Y', '06X', '07X',\n",
       "       '08X', '09X', '10X', '10Y', '11X', '12X', '12Y', '13X', '13Y', '13Z',\n",
       "       '14X', '14Y', '15X', '16X', '16Y', '17X', '17Y', '18X', '18Y', '19X',\n",
       "       '20X', '21X', '21Y', '22X', '22Y', '23X', '24X', '24Y', '25X', '25Y',\n",
       "       '26X', '26Y', '27X', '27Y', '28X', '29X', '30X', '30Y', '31X', '31Y',\n",
       "       '31Z', '32X', '32Y', '33X', '34X', '35X', '35Y', '4X', '77X', '99X',\n",
       "       'PDT2'],\n",
       "      dtype='object', name='LOCATION_DISTRICT')"
      ]
     },
     "execution_count": 29,
     "metadata": {},
     "output_type": "execute_result"
    }
   ],
   "source": [
    "df['LOCATION_DISTRICT'].value_counts().sort_index().index"
   ]
  },
  {
   "cell_type": "code",
   "execution_count": 30,
   "id": "0d576333",
   "metadata": {
    "execution": {
     "iopub.execute_input": "2023-10-27T18:20:35.383318Z",
     "iopub.status.busy": "2023-10-27T18:20:35.382980Z",
     "iopub.status.idle": "2023-10-27T18:20:35.444800Z",
     "shell.execute_reply": "2023-10-27T18:20:35.443904Z"
    },
    "papermill": {
     "duration": 0.081185,
     "end_time": "2023-10-27T18:20:35.446977",
     "exception": false,
     "start_time": "2023-10-27T18:20:35.365792",
     "status": "completed"
    },
    "tags": []
   },
   "outputs": [],
   "source": [
    "items = df['LOCATION_DISTRICT'].unique().tolist()\n",
    "\n",
    "categories = {\n",
    "    'DISTRICT 01': ['01X'],\n",
    "    'DISTRICT 02': ['02X', '02Y'],\n",
    "    'DISTRICT 03': ['03X', '03Y'],\n",
    "    'DISTRICT 04': ['04X', '4X'],\n",
    "    'DISTRICT 05': ['05X', '05Y'],\n",
    "    'DISTRICT 06': ['06X'],\n",
    "    'DISTRICT 07': ['07X'],  \n",
    "    'DISTRICT 08': ['08X'],\n",
    "    'DISTRICT 09': ['09X', '09Y'],\n",
    "    'DISTRICT 10': ['10X', '10Y'],\n",
    "    'DISTRICT 11': ['11X', '11Y'],\n",
    "    'DISTRICT 12': ['12X', '12Y'],\n",
    "    'DISTRICT 13': ['13X', '13Y', '13Z'],\n",
    "    'DISTRICT 14': ['14X', '14Y'], \n",
    "    'DISTRICT 15': ['15X'], \n",
    "    'DISTRICT 16': ['16X', '16Y'], \n",
    "    'DISTRICT 17': ['17X', '17Y'], \n",
    "    'DISTRICT 18': ['18X', '18Y'], \n",
    "    'DISTRICT 19': ['19X'],\n",
    "    'DISTRICT 20': ['20X'], \n",
    "    'DISTRICT 21': ['21X', '21Y'], \n",
    "    'DISTRICT 22': ['22X', '22Y'], \n",
    "    'DISTRICT 23': ['23X'], \n",
    "    'DISTRICT 24': ['24X', '24Y'], \n",
    "    'DISTRICT 25': ['25X', '25Y'],\n",
    "    'DISTRICT 26': ['26X', '26Y'], \n",
    "    'DISTRICT 27': ['27X', '27Y'], \n",
    "    'DISTRICT 28': ['28X'], \n",
    "    'DISTRICT 29': ['29X'], \n",
    "    'DISTRICT 30': ['30X', '30Y'], \n",
    "    'DISTRICT 31': ['31X', '31Y', '31Z'], \n",
    "    'DISTRICT 32': ['32X', '32Y'], \n",
    "    'DISTRICT 33': ['33X'], \n",
    "    'DISTRICT 34': ['34X'], \n",
    "    'DISTRICT 35': ['35X', '35Y'], \n",
    "    'OTHERS': ['77X', '99X', 'PDT2']\n",
    "}\n",
    "\n",
    "replace_values(feature='LOCATION_DISTRICT', items=items, dict_=categories, df=df)"
   ]
  },
  {
   "cell_type": "markdown",
   "id": "24cd6f42",
   "metadata": {
    "papermill": {
     "duration": 0.016179,
     "end_time": "2023-10-27T18:20:35.479566",
     "exception": false,
     "start_time": "2023-10-27T18:20:35.463387",
     "status": "completed"
    },
    "tags": []
   },
   "source": [
    "### Data Reduction"
   ]
  },
  {
   "cell_type": "code",
   "execution_count": 31,
   "id": "8e555c45",
   "metadata": {
    "execution": {
     "iopub.execute_input": "2023-10-27T18:20:35.512885Z",
     "iopub.status.busy": "2023-10-27T18:20:35.512387Z",
     "iopub.status.idle": "2023-10-27T18:20:35.525521Z",
     "shell.execute_reply": "2023-10-27T18:20:35.524909Z"
    },
    "papermill": {
     "duration": 0.032526,
     "end_time": "2023-10-27T18:20:35.527740",
     "exception": false,
     "start_time": "2023-10-27T18:20:35.495214",
     "status": "completed"
    },
    "tags": []
   },
   "outputs": [
    {
     "data": {
      "text/html": [
       "<div>\n",
       "<style scoped>\n",
       "    .dataframe tbody tr th:only-of-type {\n",
       "        vertical-align: middle;\n",
       "    }\n",
       "\n",
       "    .dataframe tbody tr th {\n",
       "        vertical-align: top;\n",
       "    }\n",
       "\n",
       "    .dataframe thead th {\n",
       "        text-align: right;\n",
       "    }\n",
       "</style>\n",
       "<table border=\"1\" class=\"dataframe\">\n",
       "  <thead>\n",
       "    <tr style=\"text-align: right;\">\n",
       "      <th></th>\n",
       "      <th>CRIME_TYPE</th>\n",
       "      <th>INCIDENT_UNIQUE_IDENTIFIER</th>\n",
       "      <th>INCIDENT_REASON</th>\n",
       "      <th>LOCATION_DISTRICT</th>\n",
       "      <th>LOCATION_FULL_STREET_ADDRESS_OR_INTERSECTION</th>\n",
       "      <th>LOCATION_CITY</th>\n",
       "      <th>LOCATION_STATE</th>\n",
       "      <th>INCIDENT_YEAR</th>\n",
       "      <th>INCIDENT_MONTH</th>\n",
       "      <th>INCIDENT_TIME</th>\n",
       "      <th>LOCATION_STREET_ADDRESS</th>\n",
       "    </tr>\n",
       "  </thead>\n",
       "  <tbody>\n",
       "    <tr>\n",
       "      <th>0</th>\n",
       "      <td>DOMESTIC VIOLENCE</td>\n",
       "      <td>16-064496</td>\n",
       "      <td>THREATS</td>\n",
       "      <td>DISTRICT 04</td>\n",
       "      <td>1700 MARTIN LUTHER KING JR W</td>\n",
       "      <td>Oakland</td>\n",
       "      <td>CA</td>\n",
       "      <td>2016</td>\n",
       "      <td>December</td>\n",
       "      <td>AFTERNOON</td>\n",
       "      <td>MARTIN LUTHER KING JR W</td>\n",
       "    </tr>\n",
       "    <tr>\n",
       "      <th>1</th>\n",
       "      <td>STOLEN VEHICLE</td>\n",
       "      <td>16-064497</td>\n",
       "      <td>STOLEN VEHICLE</td>\n",
       "      <td>DISTRICT 27</td>\n",
       "      <td>1600 HIGH ST</td>\n",
       "      <td>Oakland</td>\n",
       "      <td>CA</td>\n",
       "      <td>2016</td>\n",
       "      <td>December</td>\n",
       "      <td>MORNING</td>\n",
       "      <td>HIGH ST</td>\n",
       "    </tr>\n",
       "    <tr>\n",
       "      <th>2</th>\n",
       "      <td>ASSAULT</td>\n",
       "      <td>16-064499</td>\n",
       "      <td>DISORDERLY CONDUCT</td>\n",
       "      <td>DISTRICT 08</td>\n",
       "      <td>2800 TELEGRAPH AV</td>\n",
       "      <td>Oakland</td>\n",
       "      <td>CA</td>\n",
       "      <td>2016</td>\n",
       "      <td>December</td>\n",
       "      <td>EVENING</td>\n",
       "      <td>TELEGRAPH AV</td>\n",
       "    </tr>\n",
       "    <tr>\n",
       "      <th>3</th>\n",
       "      <td>NARCOTICS</td>\n",
       "      <td>16-064501</td>\n",
       "      <td>NARCOTICS</td>\n",
       "      <td>DISTRICT 07</td>\n",
       "      <td>34TH ST &amp; LINDEN ST</td>\n",
       "      <td>Oakland</td>\n",
       "      <td>CA</td>\n",
       "      <td>2016</td>\n",
       "      <td>December</td>\n",
       "      <td>EVENING</td>\n",
       "      <td>OTHERS</td>\n",
       "    </tr>\n",
       "    <tr>\n",
       "      <th>4</th>\n",
       "      <td>DISORDERLY CONDUCT</td>\n",
       "      <td>16-064505</td>\n",
       "      <td>DISORDERLY CONDUCT</td>\n",
       "      <td>DISTRICT 04</td>\n",
       "      <td>2100 SAN PABLO AV</td>\n",
       "      <td>Oakland</td>\n",
       "      <td>CA</td>\n",
       "      <td>2016</td>\n",
       "      <td>December</td>\n",
       "      <td>EVENING</td>\n",
       "      <td>SAN PABLO AV</td>\n",
       "    </tr>\n",
       "  </tbody>\n",
       "</table>\n",
       "</div>"
      ],
      "text/plain": [
       "           CRIME_TYPE INCIDENT_UNIQUE_IDENTIFIER     INCIDENT_REASON  \\\n",
       "0   DOMESTIC VIOLENCE                  16-064496             THREATS   \n",
       "1      STOLEN VEHICLE                  16-064497      STOLEN VEHICLE   \n",
       "2             ASSAULT                  16-064499  DISORDERLY CONDUCT   \n",
       "3           NARCOTICS                  16-064501           NARCOTICS   \n",
       "4  DISORDERLY CONDUCT                  16-064505  DISORDERLY CONDUCT   \n",
       "\n",
       "  LOCATION_DISTRICT LOCATION_FULL_STREET_ADDRESS_OR_INTERSECTION  \\\n",
       "0       DISTRICT 04                 1700 MARTIN LUTHER KING JR W   \n",
       "1       DISTRICT 27                                 1600 HIGH ST   \n",
       "2       DISTRICT 08                            2800 TELEGRAPH AV   \n",
       "3       DISTRICT 07                          34TH ST & LINDEN ST   \n",
       "4       DISTRICT 04                            2100 SAN PABLO AV   \n",
       "\n",
       "  LOCATION_CITY LOCATION_STATE INCIDENT_YEAR INCIDENT_MONTH INCIDENT_TIME  \\\n",
       "0       Oakland             CA          2016       December     AFTERNOON   \n",
       "1       Oakland             CA          2016       December       MORNING   \n",
       "2       Oakland             CA          2016       December       EVENING   \n",
       "3       Oakland             CA          2016       December       EVENING   \n",
       "4       Oakland             CA          2016       December       EVENING   \n",
       "\n",
       "   LOCATION_STREET_ADDRESS  \n",
       "0  MARTIN LUTHER KING JR W  \n",
       "1                  HIGH ST  \n",
       "2             TELEGRAPH AV  \n",
       "3                   OTHERS  \n",
       "4             SAN PABLO AV  "
      ]
     },
     "execution_count": 31,
     "metadata": {},
     "output_type": "execute_result"
    }
   ],
   "source": [
    "df.head()"
   ]
  },
  {
   "cell_type": "code",
   "execution_count": 32,
   "id": "821a6ceb",
   "metadata": {
    "execution": {
     "iopub.execute_input": "2023-10-27T18:20:35.560767Z",
     "iopub.status.busy": "2023-10-27T18:20:35.560411Z",
     "iopub.status.idle": "2023-10-27T18:20:35.566549Z",
     "shell.execute_reply": "2023-10-27T18:20:35.565920Z"
    },
    "papermill": {
     "duration": 0.024241,
     "end_time": "2023-10-27T18:20:35.568264",
     "exception": false,
     "start_time": "2023-10-27T18:20:35.544023",
     "status": "completed"
    },
    "tags": []
   },
   "outputs": [],
   "source": [
    "df.drop(['CRIME_TYPE', 'INCIDENT_UNIQUE_IDENTIFIER', 'LOCATION_CITY', 'LOCATION_STATE', \n",
    "         'LOCATION_FULL_STREET_ADDRESS_OR_INTERSECTION'], axis=1, inplace=True)"
   ]
  },
  {
   "cell_type": "code",
   "execution_count": 33,
   "id": "ba196490",
   "metadata": {
    "execution": {
     "iopub.execute_input": "2023-10-27T18:20:35.603788Z",
     "iopub.status.busy": "2023-10-27T18:20:35.603421Z",
     "iopub.status.idle": "2023-10-27T18:20:35.614924Z",
     "shell.execute_reply": "2023-10-27T18:20:35.614263Z"
    },
    "papermill": {
     "duration": 0.031461,
     "end_time": "2023-10-27T18:20:35.616740",
     "exception": false,
     "start_time": "2023-10-27T18:20:35.585279",
     "status": "completed"
    },
    "tags": []
   },
   "outputs": [
    {
     "data": {
      "text/html": [
       "<div>\n",
       "<style scoped>\n",
       "    .dataframe tbody tr th:only-of-type {\n",
       "        vertical-align: middle;\n",
       "    }\n",
       "\n",
       "    .dataframe tbody tr th {\n",
       "        vertical-align: top;\n",
       "    }\n",
       "\n",
       "    .dataframe thead th {\n",
       "        text-align: right;\n",
       "    }\n",
       "</style>\n",
       "<table border=\"1\" class=\"dataframe\">\n",
       "  <thead>\n",
       "    <tr style=\"text-align: right;\">\n",
       "      <th></th>\n",
       "      <th>INCIDENT_REASON</th>\n",
       "      <th>LOCATION_DISTRICT</th>\n",
       "      <th>INCIDENT_YEAR</th>\n",
       "      <th>INCIDENT_MONTH</th>\n",
       "      <th>INCIDENT_TIME</th>\n",
       "      <th>LOCATION_STREET_ADDRESS</th>\n",
       "    </tr>\n",
       "  </thead>\n",
       "  <tbody>\n",
       "    <tr>\n",
       "      <th>0</th>\n",
       "      <td>THREATS</td>\n",
       "      <td>DISTRICT 04</td>\n",
       "      <td>2016</td>\n",
       "      <td>December</td>\n",
       "      <td>AFTERNOON</td>\n",
       "      <td>MARTIN LUTHER KING JR W</td>\n",
       "    </tr>\n",
       "    <tr>\n",
       "      <th>1</th>\n",
       "      <td>STOLEN VEHICLE</td>\n",
       "      <td>DISTRICT 27</td>\n",
       "      <td>2016</td>\n",
       "      <td>December</td>\n",
       "      <td>MORNING</td>\n",
       "      <td>HIGH ST</td>\n",
       "    </tr>\n",
       "    <tr>\n",
       "      <th>2</th>\n",
       "      <td>DISORDERLY CONDUCT</td>\n",
       "      <td>DISTRICT 08</td>\n",
       "      <td>2016</td>\n",
       "      <td>December</td>\n",
       "      <td>EVENING</td>\n",
       "      <td>TELEGRAPH AV</td>\n",
       "    </tr>\n",
       "    <tr>\n",
       "      <th>3</th>\n",
       "      <td>NARCOTICS</td>\n",
       "      <td>DISTRICT 07</td>\n",
       "      <td>2016</td>\n",
       "      <td>December</td>\n",
       "      <td>EVENING</td>\n",
       "      <td>OTHERS</td>\n",
       "    </tr>\n",
       "    <tr>\n",
       "      <th>4</th>\n",
       "      <td>DISORDERLY CONDUCT</td>\n",
       "      <td>DISTRICT 04</td>\n",
       "      <td>2016</td>\n",
       "      <td>December</td>\n",
       "      <td>EVENING</td>\n",
       "      <td>SAN PABLO AV</td>\n",
       "    </tr>\n",
       "  </tbody>\n",
       "</table>\n",
       "</div>"
      ],
      "text/plain": [
       "      INCIDENT_REASON LOCATION_DISTRICT INCIDENT_YEAR INCIDENT_MONTH  \\\n",
       "0             THREATS       DISTRICT 04          2016       December   \n",
       "1      STOLEN VEHICLE       DISTRICT 27          2016       December   \n",
       "2  DISORDERLY CONDUCT       DISTRICT 08          2016       December   \n",
       "3           NARCOTICS       DISTRICT 07          2016       December   \n",
       "4  DISORDERLY CONDUCT       DISTRICT 04          2016       December   \n",
       "\n",
       "  INCIDENT_TIME  LOCATION_STREET_ADDRESS  \n",
       "0     AFTERNOON  MARTIN LUTHER KING JR W  \n",
       "1       MORNING                  HIGH ST  \n",
       "2       EVENING             TELEGRAPH AV  \n",
       "3       EVENING                   OTHERS  \n",
       "4       EVENING             SAN PABLO AV  "
      ]
     },
     "execution_count": 33,
     "metadata": {},
     "output_type": "execute_result"
    }
   ],
   "source": [
    "df.head()"
   ]
  },
  {
   "cell_type": "code",
   "execution_count": 34,
   "id": "cd38e9ff",
   "metadata": {
    "execution": {
     "iopub.execute_input": "2023-10-27T18:20:35.652977Z",
     "iopub.status.busy": "2023-10-27T18:20:35.652428Z",
     "iopub.status.idle": "2023-10-27T18:20:35.658465Z",
     "shell.execute_reply": "2023-10-27T18:20:35.657525Z"
    },
    "papermill": {
     "duration": 0.026737,
     "end_time": "2023-10-27T18:20:35.660486",
     "exception": false,
     "start_time": "2023-10-27T18:20:35.633749",
     "status": "completed"
    },
    "tags": []
   },
   "outputs": [
    {
     "data": {
      "text/plain": [
       "(10768, 6)"
      ]
     },
     "execution_count": 34,
     "metadata": {},
     "output_type": "execute_result"
    }
   ],
   "source": [
    "df.shape"
   ]
  },
  {
   "cell_type": "markdown",
   "id": "a3e81909",
   "metadata": {
    "papermill": {
     "duration": 0.016349,
     "end_time": "2023-10-27T18:20:35.694280",
     "exception": false,
     "start_time": "2023-10-27T18:20:35.677931",
     "status": "completed"
    },
    "tags": []
   },
   "source": [
    "### Data Encoding"
   ]
  },
  {
   "cell_type": "code",
   "execution_count": 35,
   "id": "5f783ad1",
   "metadata": {
    "execution": {
     "iopub.execute_input": "2023-10-27T18:20:35.729822Z",
     "iopub.status.busy": "2023-10-27T18:20:35.729435Z",
     "iopub.status.idle": "2023-10-27T18:20:35.735694Z",
     "shell.execute_reply": "2023-10-27T18:20:35.735085Z"
    },
    "papermill": {
     "duration": 0.026456,
     "end_time": "2023-10-27T18:20:35.737303",
     "exception": false,
     "start_time": "2023-10-27T18:20:35.710847",
     "status": "completed"
    },
    "tags": []
   },
   "outputs": [
    {
     "data": {
      "text/plain": [
       "INCIDENT_REASON            object\n",
       "LOCATION_DISTRICT          object\n",
       "INCIDENT_YEAR              object\n",
       "INCIDENT_MONTH             object\n",
       "INCIDENT_TIME              object\n",
       "LOCATION_STREET_ADDRESS    object\n",
       "dtype: object"
      ]
     },
     "execution_count": 35,
     "metadata": {},
     "output_type": "execute_result"
    }
   ],
   "source": [
    "df.dtypes"
   ]
  },
  {
   "cell_type": "code",
   "execution_count": 36,
   "id": "a3ae8ed4",
   "metadata": {
    "execution": {
     "iopub.execute_input": "2023-10-27T18:20:35.773457Z",
     "iopub.status.busy": "2023-10-27T18:20:35.773057Z",
     "iopub.status.idle": "2023-10-27T18:20:35.802755Z",
     "shell.execute_reply": "2023-10-27T18:20:35.801857Z"
    },
    "papermill": {
     "duration": 0.050136,
     "end_time": "2023-10-27T18:20:35.804458",
     "exception": false,
     "start_time": "2023-10-27T18:20:35.754322",
     "status": "completed"
    },
    "tags": []
   },
   "outputs": [
    {
     "data": {
      "text/html": [
       "<div>\n",
       "<style scoped>\n",
       "    .dataframe tbody tr th:only-of-type {\n",
       "        vertical-align: middle;\n",
       "    }\n",
       "\n",
       "    .dataframe tbody tr th {\n",
       "        vertical-align: top;\n",
       "    }\n",
       "\n",
       "    .dataframe thead th {\n",
       "        text-align: right;\n",
       "    }\n",
       "</style>\n",
       "<table border=\"1\" class=\"dataframe\">\n",
       "  <thead>\n",
       "    <tr style=\"text-align: right;\">\n",
       "      <th></th>\n",
       "      <th>INCIDENT_REASON</th>\n",
       "      <th>LOCATION_DISTRICT</th>\n",
       "      <th>INCIDENT_YEAR</th>\n",
       "      <th>INCIDENT_MONTH</th>\n",
       "      <th>INCIDENT_TIME</th>\n",
       "      <th>LOCATION_STREET_ADDRESS</th>\n",
       "    </tr>\n",
       "  </thead>\n",
       "  <tbody>\n",
       "    <tr>\n",
       "      <th>0</th>\n",
       "      <td>18</td>\n",
       "      <td>3</td>\n",
       "      <td>0</td>\n",
       "      <td>2</td>\n",
       "      <td>0</td>\n",
       "      <td>279</td>\n",
       "    </tr>\n",
       "    <tr>\n",
       "      <th>1</th>\n",
       "      <td>16</td>\n",
       "      <td>26</td>\n",
       "      <td>0</td>\n",
       "      <td>2</td>\n",
       "      <td>2</td>\n",
       "      <td>193</td>\n",
       "    </tr>\n",
       "    <tr>\n",
       "      <th>2</th>\n",
       "      <td>4</td>\n",
       "      <td>7</td>\n",
       "      <td>0</td>\n",
       "      <td>2</td>\n",
       "      <td>1</td>\n",
       "      <td>437</td>\n",
       "    </tr>\n",
       "    <tr>\n",
       "      <th>3</th>\n",
       "      <td>11</td>\n",
       "      <td>6</td>\n",
       "      <td>0</td>\n",
       "      <td>2</td>\n",
       "      <td>1</td>\n",
       "      <td>336</td>\n",
       "    </tr>\n",
       "    <tr>\n",
       "      <th>4</th>\n",
       "      <td>4</td>\n",
       "      <td>3</td>\n",
       "      <td>0</td>\n",
       "      <td>2</td>\n",
       "      <td>1</td>\n",
       "      <td>387</td>\n",
       "    </tr>\n",
       "  </tbody>\n",
       "</table>\n",
       "</div>"
      ],
      "text/plain": [
       "   INCIDENT_REASON  LOCATION_DISTRICT  INCIDENT_YEAR  INCIDENT_MONTH  \\\n",
       "0               18                  3              0               2   \n",
       "1               16                 26              0               2   \n",
       "2                4                  7              0               2   \n",
       "3               11                  6              0               2   \n",
       "4                4                  3              0               2   \n",
       "\n",
       "   INCIDENT_TIME  LOCATION_STREET_ADDRESS  \n",
       "0              0                      279  \n",
       "1              2                      193  \n",
       "2              1                      437  \n",
       "3              1                      336  \n",
       "4              1                      387  "
      ]
     },
     "execution_count": 36,
     "metadata": {},
     "output_type": "execute_result"
    }
   ],
   "source": [
    "# Label encoding\n",
    "label_df = df.copy()\n",
    "\n",
    "le = LabelEncoder()\n",
    "for col in label_df.columns:\n",
    "    label_df[col] = le.fit_transform(df[col])\n",
    "    \n",
    "label_df.head()"
   ]
  },
  {
   "cell_type": "markdown",
   "id": "760340d6",
   "metadata": {
    "papermill": {
     "duration": 0.017458,
     "end_time": "2023-10-27T18:20:35.839302",
     "exception": false,
     "start_time": "2023-10-27T18:20:35.821844",
     "status": "completed"
    },
    "tags": []
   },
   "source": [
    "# Step 2: Exploratory Data Analysis (EDA)"
   ]
  },
  {
   "cell_type": "markdown",
   "id": "8b308175",
   "metadata": {
    "papermill": {
     "duration": 0.016583,
     "end_time": "2023-10-27T18:20:35.873708",
     "exception": false,
     "start_time": "2023-10-27T18:20:35.857125",
     "status": "completed"
    },
    "tags": []
   },
   "source": [
    "### Number of offenses distributed by YEAR and MONTH"
   ]
  },
  {
   "cell_type": "code",
   "execution_count": 37,
   "id": "5fe8f26e",
   "metadata": {
    "execution": {
     "iopub.execute_input": "2023-10-27T18:20:35.910347Z",
     "iopub.status.busy": "2023-10-27T18:20:35.909997Z",
     "iopub.status.idle": "2023-10-27T18:20:36.666469Z",
     "shell.execute_reply": "2023-10-27T18:20:36.665275Z"
    },
    "papermill": {
     "duration": 0.777192,
     "end_time": "2023-10-27T18:20:36.668144",
     "exception": false,
     "start_time": "2023-10-27T18:20:35.890952",
     "status": "completed"
    },
    "tags": []
   },
   "outputs": [
    {
     "data": {
      "image/png": "[encoded data removed]",
      "text/plain": [
       "<Figure size 1800x800 with 2 Axes>"
      ]
     },
     "metadata": {},
     "output_type": "display_data"
    }
   ],
   "source": [
    "# Pie Chart\n",
    "\n",
    "# Creating data\n",
    "data = [len(df[df['INCIDENT_YEAR'] == feature]) for feature in df['INCIDENT_YEAR'].value_counts().index[0:2]]\n",
    "labels = df['INCIDENT_YEAR'].value_counts().index[0:2]\n",
    "\n",
    "colors = ['#A0D568', '#FFCE54'] # creating color parameters\n",
    "\n",
    "# Creating autocpt arguments\n",
    "def func(pct, allvalues):\n",
    "    absolute = int(pct / 100.*np.sum(allvalues))\n",
    "    return \"{:.1f}%\\n({:d})\".format(pct, absolute)\n",
    "\n",
    "# Creating plot\n",
    "plt.figure(figsize=(18, 8))\n",
    "plt.rcParams.update({'font.size': 12})\n",
    "plt.subplot(1, 2, 1)\n",
    "plt.pie(data, labels=labels, colors=colors, autopct=lambda pct: func(pct, data), startangle=90, textprops=dict(color =\"#3F1D38\"))\n",
    "\n",
    "# Adding legend\n",
    "plt.legend(labels, fontsize=\"12\", title =\"Years\", loc ='best',)\n",
    "\n",
    "plt.title(\"Number of offenses distributed by YEAR\")\n",
    "\n",
    "# Bat chart\n",
    "color=['#B5F1CC']\n",
    "plt.subplot(1, 2, 2)\n",
    "order = df['INCIDENT_MONTH'].value_counts().sort_index().index\n",
    "ax = sns.countplot(x='INCIDENT_MONTH', data=df, order=order, palette=color)\n",
    "for label in ax.containers[0]:\n",
    "    ax.annotate(format(int(label.get_height())), \n",
    "                (label.get_x() + label.get_width() / 2., label.get_height()), \n",
    "                ha='center', va='center', xytext=(0, 9), textcoords='offset points')\n",
    "    \n",
    "plt.title('Number of offenses distributed by MONTH')\n",
    "plt.xlabel('Months')\n",
    "\n",
    "plt.tight_layout() \n",
    "plt.savefig('year_month.png')\n",
    "plt.show()"
   ]
  },
  {
   "cell_type": "markdown",
   "id": "9b17812d",
   "metadata": {
    "papermill": {
     "duration": 0.016667,
     "end_time": "2023-10-27T18:20:36.702257",
     "exception": false,
     "start_time": "2023-10-27T18:20:36.685590",
     "status": "completed"
    },
    "tags": []
   },
   "source": [
    "### Number of offenses distributed by DATES, WEEKDAYS and TIME"
   ]
  },
  {
   "cell_type": "code",
   "execution_count": 38,
   "id": "7dd87050",
   "metadata": {
    "execution": {
     "iopub.execute_input": "2023-10-27T18:20:36.737319Z",
     "iopub.status.busy": "2023-10-27T18:20:36.736951Z",
     "iopub.status.idle": "2023-10-27T18:20:36.944849Z",
     "shell.execute_reply": "2023-10-27T18:20:36.944058Z"
    },
    "papermill": {
     "duration": 0.227633,
     "end_time": "2023-10-27T18:20:36.946560",
     "exception": false,
     "start_time": "2023-10-27T18:20:36.718927",
     "status": "completed"
    },
    "tags": []
   },
   "outputs": [
    {
     "data": {
      "image/png": "[encoded data removed]",
      "text/plain": [
       "<Figure size 800x550 with 1 Axes>"
      ]
     },
     "metadata": {},
     "output_type": "display_data"
    }
   ],
   "source": [
    "# Plot the count of offenses by time\n",
    "order = df['INCIDENT_TIME'].value_counts().index\n",
    "ax = sns.countplot(x='INCIDENT_TIME', data=df, color='#64CCC5', order=order)\n",
    "\n",
    "for label in ax.containers[0]:\n",
    "    ax.annotate(format(int(label.get_height())), \n",
    "                (label.get_x() + label.get_width() / 2., label.get_height()), \n",
    "                ha='center', va='center', xytext=(0, 9), textcoords='offset points')\n",
    "\n",
    "plt.title('Number of Offenses Distributed by Time')\n",
    "plt.xlabel('Time')\n",
    "plt.ylabel('Count')\n",
    "\n",
    "plt.xticks(rotation=45)  # Rotate x-axis labels for better readability\n",
    "\n",
    "# plt.savefig('weekday_time.png')\n",
    "plt.show()"
   ]
  },
  {
   "cell_type": "markdown",
   "id": "6fba7cb7",
   "metadata": {
    "papermill": {
     "duration": 0.01664,
     "end_time": "2023-10-27T18:20:36.980823",
     "exception": false,
     "start_time": "2023-10-27T18:20:36.964183",
     "status": "completed"
    },
    "tags": []
   },
   "source": [
    "### Number of offenses distributed by INCIDENT_REASON"
   ]
  },
  {
   "cell_type": "code",
   "execution_count": 39,
   "id": "4f8e8066",
   "metadata": {
    "execution": {
     "iopub.execute_input": "2023-10-27T18:20:37.021857Z",
     "iopub.status.busy": "2023-10-27T18:20:37.021518Z",
     "iopub.status.idle": "2023-10-27T18:20:37.405565Z",
     "shell.execute_reply": "2023-10-27T18:20:37.404432Z"
    },
    "papermill": {
     "duration": 0.406081,
     "end_time": "2023-10-27T18:20:37.407464",
     "exception": false,
     "start_time": "2023-10-27T18:20:37.001383",
     "status": "completed"
    },
    "tags": []
   },
   "outputs": [
    {
     "data": {
      "image/png": "[encoded data removed]",
      "text/plain": [
       "<Figure size 2000x800 with 1 Axes>"
      ]
     },
     "metadata": {},
     "output_type": "display_data"
    }
   ],
   "source": [
    "plt.figure(figsize=(20, 8))\n",
    "order = df['INCIDENT_REASON'].value_counts().index\n",
    "ax = sns.countplot(y=df['INCIDENT_REASON'], order=order, color='#6499E9')\n",
    "\n",
    "for label in ax.containers:\n",
    "    ax.bar_label(label)\n",
    "\n",
    "plt.ylabel('Location District')\n",
    "\n",
    "# plt.savefig('INCIDENT_REASON.png')\n",
    "plt.show()"
   ]
  },
  {
   "cell_type": "markdown",
   "id": "eddb7fab",
   "metadata": {
    "papermill": {
     "duration": 0.018043,
     "end_time": "2023-10-27T18:20:37.444381",
     "exception": false,
     "start_time": "2023-10-27T18:20:37.426338",
     "status": "completed"
    },
    "tags": []
   },
   "source": [
    "### Number of offenses distributed by Location District"
   ]
  },
  {
   "cell_type": "code",
   "execution_count": 40,
   "id": "e601b1dc",
   "metadata": {
    "execution": {
     "iopub.execute_input": "2023-10-27T18:20:37.482752Z",
     "iopub.status.busy": "2023-10-27T18:20:37.482444Z",
     "iopub.status.idle": "2023-10-27T18:20:38.092175Z",
     "shell.execute_reply": "2023-10-27T18:20:38.090955Z"
    },
    "papermill": {
     "duration": 0.631261,
     "end_time": "2023-10-27T18:20:38.094234",
     "exception": false,
     "start_time": "2023-10-27T18:20:37.462973",
     "status": "completed"
    },
    "tags": []
   },
   "outputs": [
    {
     "data": {
      "image/png": "[encoded data removed]",
      "text/plain": [
       "<Figure size 2500x1500 with 1 Axes>"
      ]
     },
     "metadata": {},
     "output_type": "display_data"
    }
   ],
   "source": [
    "# Bar chart: Location district\n",
    "plt.figure(figsize=(25, 15))\n",
    "order = df['LOCATION_DISTRICT'].value_counts().sort_index().index\n",
    "ax = sns.countplot(y=df['LOCATION_DISTRICT'], order=order, color='#FFB000')\n",
    "\n",
    "for label in ax.containers:\n",
    "    ax.bar_label(label)\n",
    "\n",
    "plt.ylabel('Location District')\n",
    "\n",
    "# plt.savefig('LOCATION_DISTRICT.png')\n",
    "plt.show()"
   ]
  },
  {
   "cell_type": "code",
   "execution_count": 41,
   "id": "4c9979b3",
   "metadata": {
    "execution": {
     "iopub.execute_input": "2023-10-27T18:20:38.137710Z",
     "iopub.status.busy": "2023-10-27T18:20:38.137249Z",
     "iopub.status.idle": "2023-10-27T18:20:38.144638Z",
     "shell.execute_reply": "2023-10-27T18:20:38.143304Z"
    },
    "papermill": {
     "duration": 0.031986,
     "end_time": "2023-10-27T18:20:38.146587",
     "exception": false,
     "start_time": "2023-10-27T18:20:38.114601",
     "status": "completed"
    },
    "tags": []
   },
   "outputs": [],
   "source": [
    "df['INCIDENT_YEAR'] = df['INCIDENT_YEAR'].astype(str)"
   ]
  },
  {
   "cell_type": "markdown",
   "id": "7aac9861",
   "metadata": {
    "papermill": {
     "duration": 0.019456,
     "end_time": "2023-10-27T18:20:38.186693",
     "exception": false,
     "start_time": "2023-10-27T18:20:38.167237",
     "status": "completed"
    },
    "tags": []
   },
   "source": [
    "# Step 3: Dimensionality Reduction"
   ]
  },
  {
   "cell_type": "code",
   "execution_count": 42,
   "id": "646b2439",
   "metadata": {
    "execution": {
     "iopub.execute_input": "2023-10-27T18:20:38.228993Z",
     "iopub.status.busy": "2023-10-27T18:20:38.228655Z",
     "iopub.status.idle": "2023-10-27T18:20:41.092936Z",
     "shell.execute_reply": "2023-10-27T18:20:41.092049Z"
    },
    "papermill": {
     "duration": 2.888253,
     "end_time": "2023-10-27T18:20:41.095465",
     "exception": false,
     "start_time": "2023-10-27T18:20:38.207212",
     "status": "completed"
    },
    "tags": []
   },
   "outputs": [],
   "source": [
    "mca = MCA(n_components=515, n_iter=3, copy=True, check_input=True, random_state=42, one_hot=True)\n",
    "mca = mca.fit(label_df)"
   ]
  },
  {
   "cell_type": "code",
   "execution_count": 43,
   "id": "5e34195e",
   "metadata": {
    "execution": {
     "iopub.execute_input": "2023-10-27T18:20:41.143260Z",
     "iopub.status.busy": "2023-10-27T18:20:41.142848Z",
     "iopub.status.idle": "2023-10-27T18:20:41.158505Z",
     "shell.execute_reply": "2023-10-27T18:20:41.157429Z"
    },
    "papermill": {
     "duration": 0.041442,
     "end_time": "2023-10-27T18:20:41.160650",
     "exception": false,
     "start_time": "2023-10-27T18:20:41.119208",
     "status": "completed"
    },
    "tags": []
   },
   "outputs": [
    {
     "data": {
      "text/html": [
       "<div>\n",
       "<style scoped>\n",
       "    .dataframe tbody tr th:only-of-type {\n",
       "        vertical-align: middle;\n",
       "    }\n",
       "\n",
       "    .dataframe tbody tr th {\n",
       "        vertical-align: top;\n",
       "    }\n",
       "\n",
       "    .dataframe thead th {\n",
       "        text-align: right;\n",
       "    }\n",
       "</style>\n",
       "<table border=\"1\" class=\"dataframe\">\n",
       "  <thead>\n",
       "    <tr style=\"text-align: right;\">\n",
       "      <th></th>\n",
       "      <th>eigenvalue</th>\n",
       "      <th>% of variance</th>\n",
       "      <th>% of variance (cumulative)</th>\n",
       "    </tr>\n",
       "    <tr>\n",
       "      <th>component</th>\n",
       "      <th></th>\n",
       "      <th></th>\n",
       "      <th></th>\n",
       "    </tr>\n",
       "  </thead>\n",
       "  <tbody>\n",
       "    <tr>\n",
       "      <th>0</th>\n",
       "      <td>0.364</td>\n",
       "      <td>0.37%</td>\n",
       "      <td>0.37%</td>\n",
       "    </tr>\n",
       "    <tr>\n",
       "      <th>1</th>\n",
       "      <td>0.321</td>\n",
       "      <td>0.33%</td>\n",
       "      <td>0.70%</td>\n",
       "    </tr>\n",
       "    <tr>\n",
       "      <th>2</th>\n",
       "      <td>0.313</td>\n",
       "      <td>0.32%</td>\n",
       "      <td>1.03%</td>\n",
       "    </tr>\n",
       "    <tr>\n",
       "      <th>3</th>\n",
       "      <td>0.306</td>\n",
       "      <td>0.31%</td>\n",
       "      <td>1.34%</td>\n",
       "    </tr>\n",
       "    <tr>\n",
       "      <th>4</th>\n",
       "      <td>0.301</td>\n",
       "      <td>0.31%</td>\n",
       "      <td>1.65%</td>\n",
       "    </tr>\n",
       "    <tr>\n",
       "      <th>...</th>\n",
       "      <td>...</td>\n",
       "      <td>...</td>\n",
       "      <td>...</td>\n",
       "    </tr>\n",
       "    <tr>\n",
       "      <th>510</th>\n",
       "      <td>0.134</td>\n",
       "      <td>0.14%</td>\n",
       "      <td>91.56%</td>\n",
       "    </tr>\n",
       "    <tr>\n",
       "      <th>511</th>\n",
       "      <td>0.131</td>\n",
       "      <td>0.14%</td>\n",
       "      <td>91.69%</td>\n",
       "    </tr>\n",
       "    <tr>\n",
       "      <th>512</th>\n",
       "      <td>0.130</td>\n",
       "      <td>0.13%</td>\n",
       "      <td>91.82%</td>\n",
       "    </tr>\n",
       "    <tr>\n",
       "      <th>513</th>\n",
       "      <td>0.129</td>\n",
       "      <td>0.13%</td>\n",
       "      <td>91.96%</td>\n",
       "    </tr>\n",
       "    <tr>\n",
       "      <th>514</th>\n",
       "      <td>0.128</td>\n",
       "      <td>0.13%</td>\n",
       "      <td>92.09%</td>\n",
       "    </tr>\n",
       "  </tbody>\n",
       "</table>\n",
       "<p>515 rows × 3 columns</p>\n",
       "</div>"
      ],
      "text/plain": [
       "          eigenvalue % of variance % of variance (cumulative)\n",
       "component                                                    \n",
       "0              0.364         0.37%                      0.37%\n",
       "1              0.321         0.33%                      0.70%\n",
       "2              0.313         0.32%                      1.03%\n",
       "3              0.306         0.31%                      1.34%\n",
       "4              0.301         0.31%                      1.65%\n",
       "...              ...           ...                        ...\n",
       "510            0.134         0.14%                     91.56%\n",
       "511            0.131         0.14%                     91.69%\n",
       "512            0.130         0.13%                     91.82%\n",
       "513            0.129         0.13%                     91.96%\n",
       "514            0.128         0.13%                     92.09%\n",
       "\n",
       "[515 rows x 3 columns]"
      ]
     },
     "execution_count": 43,
     "metadata": {},
     "output_type": "execute_result"
    }
   ],
   "source": [
    "mca.eigenvalues_summary"
   ]
  },
  {
   "cell_type": "code",
   "execution_count": 44,
   "id": "34da3ae0",
   "metadata": {
    "execution": {
     "iopub.execute_input": "2023-10-27T18:20:41.201754Z",
     "iopub.status.busy": "2023-10-27T18:20:41.201450Z",
     "iopub.status.idle": "2023-10-27T18:20:41.208381Z",
     "shell.execute_reply": "2023-10-27T18:20:41.207220Z"
    },
    "papermill": {
     "duration": 0.03003,
     "end_time": "2023-10-27T18:20:41.210627",
     "exception": false,
     "start_time": "2023-10-27T18:20:41.180597",
     "status": "completed"
    },
    "tags": []
   },
   "outputs": [],
   "source": [
    "features = mca.column_contributions_.sum(axis=1).sort_values(ascending=False)[:515].keys()"
   ]
  },
  {
   "cell_type": "code",
   "execution_count": 45,
   "id": "fc2ad680",
   "metadata": {
    "execution": {
     "iopub.execute_input": "2023-10-27T18:20:41.253518Z",
     "iopub.status.busy": "2023-10-27T18:20:41.253187Z",
     "iopub.status.idle": "2023-10-27T18:20:41.263804Z",
     "shell.execute_reply": "2023-10-27T18:20:41.262882Z"
    },
    "papermill": {
     "duration": 0.034278,
     "end_time": "2023-10-27T18:20:41.265565",
     "exception": false,
     "start_time": "2023-10-27T18:20:41.231287",
     "status": "completed"
    },
    "tags": []
   },
   "outputs": [
    {
     "data": {
      "text/plain": [
       "['LOCATION_STREET_ADDRESS', 'INCIDENT_REASON', 'INCIDENT_MONTH']"
      ]
     },
     "execution_count": 45,
     "metadata": {},
     "output_type": "execute_result"
    }
   ],
   "source": [
    "selected_features = []\n",
    "\n",
    "for feature in features:\n",
    "    for i in range(len(df.columns)):\n",
    "        if df.columns[i] in feature:\n",
    "            selected_features.append(df.columns[i])\n",
    "            \n",
    "selected_features = list(set(selected_features))\n",
    "selected_features"
   ]
  },
  {
   "cell_type": "code",
   "execution_count": 46,
   "id": "b1f17700",
   "metadata": {
    "execution": {
     "iopub.execute_input": "2023-10-27T18:20:41.307311Z",
     "iopub.status.busy": "2023-10-27T18:20:41.306972Z",
     "iopub.status.idle": "2023-10-27T18:20:41.571189Z",
     "shell.execute_reply": "2023-10-27T18:20:41.570225Z"
    },
    "papermill": {
     "duration": 0.286906,
     "end_time": "2023-10-27T18:20:41.572982",
     "exception": false,
     "start_time": "2023-10-27T18:20:41.286076",
     "status": "completed"
    },
    "tags": []
   },
   "outputs": [
    {
     "data": {
      "text/html": [
       "<div>\n",
       "<style scoped>\n",
       "    .dataframe tbody tr th:only-of-type {\n",
       "        vertical-align: middle;\n",
       "    }\n",
       "\n",
       "    .dataframe tbody tr th {\n",
       "        vertical-align: top;\n",
       "    }\n",
       "\n",
       "    .dataframe thead th {\n",
       "        text-align: right;\n",
       "    }\n",
       "</style>\n",
       "<table border=\"1\" class=\"dataframe\">\n",
       "  <thead>\n",
       "    <tr style=\"text-align: right;\">\n",
       "      <th></th>\n",
       "      <th>0</th>\n",
       "      <th>1</th>\n",
       "      <th>2</th>\n",
       "      <th>3</th>\n",
       "      <th>4</th>\n",
       "      <th>5</th>\n",
       "      <th>6</th>\n",
       "      <th>7</th>\n",
       "      <th>8</th>\n",
       "      <th>9</th>\n",
       "      <th>...</th>\n",
       "      <th>505</th>\n",
       "      <th>506</th>\n",
       "      <th>507</th>\n",
       "      <th>508</th>\n",
       "      <th>509</th>\n",
       "      <th>510</th>\n",
       "      <th>511</th>\n",
       "      <th>512</th>\n",
       "      <th>513</th>\n",
       "      <th>514</th>\n",
       "    </tr>\n",
       "  </thead>\n",
       "  <tbody>\n",
       "    <tr>\n",
       "      <th>0</th>\n",
       "      <td>-0.427593</td>\n",
       "      <td>0.067613</td>\n",
       "      <td>0.436086</td>\n",
       "      <td>0.000554</td>\n",
       "      <td>0.130473</td>\n",
       "      <td>-0.062945</td>\n",
       "      <td>-0.188561</td>\n",
       "      <td>0.404694</td>\n",
       "      <td>-0.312041</td>\n",
       "      <td>-0.269160</td>\n",
       "      <td>...</td>\n",
       "      <td>0.394902</td>\n",
       "      <td>-0.128787</td>\n",
       "      <td>-0.118243</td>\n",
       "      <td>-0.533308</td>\n",
       "      <td>0.107389</td>\n",
       "      <td>-0.080387</td>\n",
       "      <td>0.131461</td>\n",
       "      <td>-0.075837</td>\n",
       "      <td>0.598487</td>\n",
       "      <td>0.177712</td>\n",
       "    </tr>\n",
       "    <tr>\n",
       "      <th>1</th>\n",
       "      <td>-0.710299</td>\n",
       "      <td>-0.436959</td>\n",
       "      <td>-0.110018</td>\n",
       "      <td>-0.201249</td>\n",
       "      <td>-0.392096</td>\n",
       "      <td>0.041722</td>\n",
       "      <td>0.651143</td>\n",
       "      <td>0.906498</td>\n",
       "      <td>1.022299</td>\n",
       "      <td>-0.083192</td>\n",
       "      <td>...</td>\n",
       "      <td>0.138822</td>\n",
       "      <td>0.188419</td>\n",
       "      <td>0.453182</td>\n",
       "      <td>0.079028</td>\n",
       "      <td>0.277799</td>\n",
       "      <td>-0.062541</td>\n",
       "      <td>0.196113</td>\n",
       "      <td>0.063078</td>\n",
       "      <td>-0.009122</td>\n",
       "      <td>0.164741</td>\n",
       "    </tr>\n",
       "    <tr>\n",
       "      <th>2</th>\n",
       "      <td>-0.303421</td>\n",
       "      <td>0.915652</td>\n",
       "      <td>-0.077452</td>\n",
       "      <td>0.129956</td>\n",
       "      <td>-0.349694</td>\n",
       "      <td>-0.325215</td>\n",
       "      <td>0.178776</td>\n",
       "      <td>-0.121548</td>\n",
       "      <td>0.210833</td>\n",
       "      <td>0.037275</td>\n",
       "      <td>...</td>\n",
       "      <td>-0.228401</td>\n",
       "      <td>0.403078</td>\n",
       "      <td>0.428784</td>\n",
       "      <td>0.013808</td>\n",
       "      <td>0.026737</td>\n",
       "      <td>-0.649597</td>\n",
       "      <td>-0.432116</td>\n",
       "      <td>-0.342860</td>\n",
       "      <td>0.215080</td>\n",
       "      <td>0.778864</td>\n",
       "    </tr>\n",
       "    <tr>\n",
       "      <th>3</th>\n",
       "      <td>-0.424310</td>\n",
       "      <td>-0.102816</td>\n",
       "      <td>1.055152</td>\n",
       "      <td>0.415355</td>\n",
       "      <td>1.342953</td>\n",
       "      <td>0.181632</td>\n",
       "      <td>0.200935</td>\n",
       "      <td>0.110320</td>\n",
       "      <td>0.118836</td>\n",
       "      <td>0.493162</td>\n",
       "      <td>...</td>\n",
       "      <td>-0.307463</td>\n",
       "      <td>0.091415</td>\n",
       "      <td>-0.030218</td>\n",
       "      <td>-0.141239</td>\n",
       "      <td>0.018751</td>\n",
       "      <td>-0.293275</td>\n",
       "      <td>-0.295317</td>\n",
       "      <td>0.113599</td>\n",
       "      <td>-0.113563</td>\n",
       "      <td>-0.395513</td>\n",
       "    </tr>\n",
       "    <tr>\n",
       "      <th>4</th>\n",
       "      <td>-0.628991</td>\n",
       "      <td>0.170906</td>\n",
       "      <td>0.509891</td>\n",
       "      <td>0.268438</td>\n",
       "      <td>0.166243</td>\n",
       "      <td>0.078683</td>\n",
       "      <td>-0.071938</td>\n",
       "      <td>0.358508</td>\n",
       "      <td>-0.203277</td>\n",
       "      <td>-0.162909</td>\n",
       "      <td>...</td>\n",
       "      <td>0.225332</td>\n",
       "      <td>0.133800</td>\n",
       "      <td>0.780300</td>\n",
       "      <td>0.353348</td>\n",
       "      <td>-0.288666</td>\n",
       "      <td>-0.579190</td>\n",
       "      <td>-0.415552</td>\n",
       "      <td>-0.517841</td>\n",
       "      <td>0.308213</td>\n",
       "      <td>0.661062</td>\n",
       "    </tr>\n",
       "    <tr>\n",
       "      <th>...</th>\n",
       "      <td>...</td>\n",
       "      <td>...</td>\n",
       "      <td>...</td>\n",
       "      <td>...</td>\n",
       "      <td>...</td>\n",
       "      <td>...</td>\n",
       "      <td>...</td>\n",
       "      <td>...</td>\n",
       "      <td>...</td>\n",
       "      <td>...</td>\n",
       "      <td>...</td>\n",
       "      <td>...</td>\n",
       "      <td>...</td>\n",
       "      <td>...</td>\n",
       "      <td>...</td>\n",
       "      <td>...</td>\n",
       "      <td>...</td>\n",
       "      <td>...</td>\n",
       "      <td>...</td>\n",
       "      <td>...</td>\n",
       "      <td>...</td>\n",
       "    </tr>\n",
       "    <tr>\n",
       "      <th>10764</th>\n",
       "      <td>0.694440</td>\n",
       "      <td>0.190704</td>\n",
       "      <td>0.447548</td>\n",
       "      <td>0.237986</td>\n",
       "      <td>-0.055926</td>\n",
       "      <td>0.008026</td>\n",
       "      <td>-0.090887</td>\n",
       "      <td>0.329426</td>\n",
       "      <td>-0.268239</td>\n",
       "      <td>-0.252632</td>\n",
       "      <td>...</td>\n",
       "      <td>0.424551</td>\n",
       "      <td>0.099342</td>\n",
       "      <td>-0.003013</td>\n",
       "      <td>-0.358531</td>\n",
       "      <td>-0.280020</td>\n",
       "      <td>-0.005928</td>\n",
       "      <td>0.166454</td>\n",
       "      <td>-0.267389</td>\n",
       "      <td>0.087967</td>\n",
       "      <td>-0.112210</td>\n",
       "    </tr>\n",
       "    <tr>\n",
       "      <th>10765</th>\n",
       "      <td>-0.052298</td>\n",
       "      <td>0.532768</td>\n",
       "      <td>-0.013713</td>\n",
       "      <td>-0.122037</td>\n",
       "      <td>0.145730</td>\n",
       "      <td>0.082990</td>\n",
       "      <td>0.113664</td>\n",
       "      <td>0.122011</td>\n",
       "      <td>-0.324715</td>\n",
       "      <td>-0.185177</td>\n",
       "      <td>...</td>\n",
       "      <td>0.142428</td>\n",
       "      <td>0.174535</td>\n",
       "      <td>0.109663</td>\n",
       "      <td>0.042508</td>\n",
       "      <td>0.136745</td>\n",
       "      <td>0.304277</td>\n",
       "      <td>0.112323</td>\n",
       "      <td>-0.306773</td>\n",
       "      <td>0.242253</td>\n",
       "      <td>0.245088</td>\n",
       "    </tr>\n",
       "    <tr>\n",
       "      <th>10766</th>\n",
       "      <td>0.441862</td>\n",
       "      <td>-0.442960</td>\n",
       "      <td>0.126400</td>\n",
       "      <td>0.092788</td>\n",
       "      <td>-0.431356</td>\n",
       "      <td>0.085316</td>\n",
       "      <td>-0.023187</td>\n",
       "      <td>0.008982</td>\n",
       "      <td>-0.243377</td>\n",
       "      <td>0.279944</td>\n",
       "      <td>...</td>\n",
       "      <td>-0.185495</td>\n",
       "      <td>0.067069</td>\n",
       "      <td>-0.389721</td>\n",
       "      <td>0.411019</td>\n",
       "      <td>0.745027</td>\n",
       "      <td>0.421261</td>\n",
       "      <td>0.351897</td>\n",
       "      <td>0.389007</td>\n",
       "      <td>-0.246943</td>\n",
       "      <td>-0.499548</td>\n",
       "    </tr>\n",
       "    <tr>\n",
       "      <th>10767</th>\n",
       "      <td>0.727282</td>\n",
       "      <td>-0.480010</td>\n",
       "      <td>0.993863</td>\n",
       "      <td>0.548663</td>\n",
       "      <td>1.695591</td>\n",
       "      <td>0.182427</td>\n",
       "      <td>0.378807</td>\n",
       "      <td>-0.027035</td>\n",
       "      <td>0.241798</td>\n",
       "      <td>0.274910</td>\n",
       "      <td>...</td>\n",
       "      <td>-0.125466</td>\n",
       "      <td>0.413899</td>\n",
       "      <td>-0.416767</td>\n",
       "      <td>0.371563</td>\n",
       "      <td>-0.260826</td>\n",
       "      <td>-0.468423</td>\n",
       "      <td>0.300992</td>\n",
       "      <td>-0.108731</td>\n",
       "      <td>0.044888</td>\n",
       "      <td>-0.171457</td>\n",
       "    </tr>\n",
       "    <tr>\n",
       "      <th>10768</th>\n",
       "      <td>0.658429</td>\n",
       "      <td>0.263422</td>\n",
       "      <td>0.322717</td>\n",
       "      <td>0.164366</td>\n",
       "      <td>-0.102077</td>\n",
       "      <td>-0.096681</td>\n",
       "      <td>-0.034502</td>\n",
       "      <td>0.061128</td>\n",
       "      <td>-0.200983</td>\n",
       "      <td>-0.266412</td>\n",
       "      <td>...</td>\n",
       "      <td>0.091350</td>\n",
       "      <td>0.223103</td>\n",
       "      <td>0.103911</td>\n",
       "      <td>-0.032657</td>\n",
       "      <td>-0.034151</td>\n",
       "      <td>-0.075403</td>\n",
       "      <td>0.036630</td>\n",
       "      <td>0.099791</td>\n",
       "      <td>-0.074728</td>\n",
       "      <td>0.026911</td>\n",
       "    </tr>\n",
       "  </tbody>\n",
       "</table>\n",
       "<p>10768 rows × 515 columns</p>\n",
       "</div>"
      ],
      "text/plain": [
       "            0         1         2         3         4         5         6    \\\n",
       "0     -0.427593  0.067613  0.436086  0.000554  0.130473 -0.062945 -0.188561   \n",
       "1     -0.710299 -0.436959 -0.110018 -0.201249 -0.392096  0.041722  0.651143   \n",
       "2     -0.303421  0.915652 -0.077452  0.129956 -0.349694 -0.325215  0.178776   \n",
       "3     -0.424310 -0.102816  1.055152  0.415355  1.342953  0.181632  0.200935   \n",
       "4     -0.628991  0.170906  0.509891  0.268438  0.166243  0.078683 -0.071938   \n",
       "...         ...       ...       ...       ...       ...       ...       ...   \n",
       "10764  0.694440  0.190704  0.447548  0.237986 -0.055926  0.008026 -0.090887   \n",
       "10765 -0.052298  0.532768 -0.013713 -0.122037  0.145730  0.082990  0.113664   \n",
       "10766  0.441862 -0.442960  0.126400  0.092788 -0.431356  0.085316 -0.023187   \n",
       "10767  0.727282 -0.480010  0.993863  0.548663  1.695591  0.182427  0.378807   \n",
       "10768  0.658429  0.263422  0.322717  0.164366 -0.102077 -0.096681 -0.034502   \n",
       "\n",
       "            7         8         9    ...       505       506       507  \\\n",
       "0      0.404694 -0.312041 -0.269160  ...  0.394902 -0.128787 -0.118243   \n",
       "1      0.906498  1.022299 -0.083192  ...  0.138822  0.188419  0.453182   \n",
       "2     -0.121548  0.210833  0.037275  ... -0.228401  0.403078  0.428784   \n",
       "3      0.110320  0.118836  0.493162  ... -0.307463  0.091415 -0.030218   \n",
       "4      0.358508 -0.203277 -0.162909  ...  0.225332  0.133800  0.780300   \n",
       "...         ...       ...       ...  ...       ...       ...       ...   \n",
       "10764  0.329426 -0.268239 -0.252632  ...  0.424551  0.099342 -0.003013   \n",
       "10765  0.122011 -0.324715 -0.185177  ...  0.142428  0.174535  0.109663   \n",
       "10766  0.008982 -0.243377  0.279944  ... -0.185495  0.067069 -0.389721   \n",
       "10767 -0.027035  0.241798  0.274910  ... -0.125466  0.413899 -0.416767   \n",
       "10768  0.061128 -0.200983 -0.266412  ...  0.091350  0.223103  0.103911   \n",
       "\n",
       "            508       509       510       511       512       513       514  \n",
       "0     -0.533308  0.107389 -0.080387  0.131461 -0.075837  0.598487  0.177712  \n",
       "1      0.079028  0.277799 -0.062541  0.196113  0.063078 -0.009122  0.164741  \n",
       "2      0.013808  0.026737 -0.649597 -0.432116 -0.342860  0.215080  0.778864  \n",
       "3     -0.141239  0.018751 -0.293275 -0.295317  0.113599 -0.113563 -0.395513  \n",
       "4      0.353348 -0.288666 -0.579190 -0.415552 -0.517841  0.308213  0.661062  \n",
       "...         ...       ...       ...       ...       ...       ...       ...  \n",
       "10764 -0.358531 -0.280020 -0.005928  0.166454 -0.267389  0.087967 -0.112210  \n",
       "10765  0.042508  0.136745  0.304277  0.112323 -0.306773  0.242253  0.245088  \n",
       "10766  0.411019  0.745027  0.421261  0.351897  0.389007 -0.246943 -0.499548  \n",
       "10767  0.371563 -0.260826 -0.468423  0.300992 -0.108731  0.044888 -0.171457  \n",
       "10768 -0.032657 -0.034151 -0.075403  0.036630  0.099791 -0.074728  0.026911  \n",
       "\n",
       "[10768 rows x 515 columns]"
      ]
     },
     "execution_count": 46,
     "metadata": {},
     "output_type": "execute_result"
    }
   ],
   "source": [
    "mca_coordinates = mca.transform(label_df)\n",
    "mca_coordinates"
   ]
  },
  {
   "cell_type": "code",
   "execution_count": 47,
   "id": "9c651b13",
   "metadata": {
    "execution": {
     "iopub.execute_input": "2023-10-27T18:20:41.630614Z",
     "iopub.status.busy": "2023-10-27T18:20:41.629438Z",
     "iopub.status.idle": "2023-10-27T18:20:41.635591Z",
     "shell.execute_reply": "2023-10-27T18:20:41.634988Z"
    },
    "papermill": {
     "duration": 0.036734,
     "end_time": "2023-10-27T18:20:41.637431",
     "exception": false,
     "start_time": "2023-10-27T18:20:41.600697",
     "status": "completed"
    },
    "tags": []
   },
   "outputs": [],
   "source": [
    "reduced_df = pd.DataFrame(label_df[selected_features], columns=selected_features)"
   ]
  },
  {
   "cell_type": "code",
   "execution_count": 48,
   "id": "4aa4cfb6",
   "metadata": {
    "execution": {
     "iopub.execute_input": "2023-10-27T18:20:41.687001Z",
     "iopub.status.busy": "2023-10-27T18:20:41.686564Z",
     "iopub.status.idle": "2023-10-27T18:20:41.695658Z",
     "shell.execute_reply": "2023-10-27T18:20:41.694814Z"
    },
    "papermill": {
     "duration": 0.032486,
     "end_time": "2023-10-27T18:20:41.697268",
     "exception": false,
     "start_time": "2023-10-27T18:20:41.664782",
     "status": "completed"
    },
    "tags": []
   },
   "outputs": [
    {
     "data": {
      "text/html": [
       "<div>\n",
       "<style scoped>\n",
       "    .dataframe tbody tr th:only-of-type {\n",
       "        vertical-align: middle;\n",
       "    }\n",
       "\n",
       "    .dataframe tbody tr th {\n",
       "        vertical-align: top;\n",
       "    }\n",
       "\n",
       "    .dataframe thead th {\n",
       "        text-align: right;\n",
       "    }\n",
       "</style>\n",
       "<table border=\"1\" class=\"dataframe\">\n",
       "  <thead>\n",
       "    <tr style=\"text-align: right;\">\n",
       "      <th></th>\n",
       "      <th>LOCATION_STREET_ADDRESS</th>\n",
       "      <th>INCIDENT_REASON</th>\n",
       "      <th>INCIDENT_MONTH</th>\n",
       "    </tr>\n",
       "  </thead>\n",
       "  <tbody>\n",
       "    <tr>\n",
       "      <th>0</th>\n",
       "      <td>279</td>\n",
       "      <td>18</td>\n",
       "      <td>2</td>\n",
       "    </tr>\n",
       "    <tr>\n",
       "      <th>1</th>\n",
       "      <td>193</td>\n",
       "      <td>16</td>\n",
       "      <td>2</td>\n",
       "    </tr>\n",
       "    <tr>\n",
       "      <th>2</th>\n",
       "      <td>437</td>\n",
       "      <td>4</td>\n",
       "      <td>2</td>\n",
       "    </tr>\n",
       "    <tr>\n",
       "      <th>3</th>\n",
       "      <td>336</td>\n",
       "      <td>11</td>\n",
       "      <td>2</td>\n",
       "    </tr>\n",
       "    <tr>\n",
       "      <th>4</th>\n",
       "      <td>387</td>\n",
       "      <td>4</td>\n",
       "      <td>2</td>\n",
       "    </tr>\n",
       "  </tbody>\n",
       "</table>\n",
       "</div>"
      ],
      "text/plain": [
       "   LOCATION_STREET_ADDRESS  INCIDENT_REASON  INCIDENT_MONTH\n",
       "0                      279               18               2\n",
       "1                      193               16               2\n",
       "2                      437                4               2\n",
       "3                      336               11               2\n",
       "4                      387                4               2"
      ]
     },
     "execution_count": 48,
     "metadata": {},
     "output_type": "execute_result"
    }
   ],
   "source": [
    "reduced_df.head()"
   ]
  },
  {
   "cell_type": "markdown",
   "id": "00242f9d",
   "metadata": {
    "papermill": {
     "duration": 0.02036,
     "end_time": "2023-10-27T18:20:41.738403",
     "exception": false,
     "start_time": "2023-10-27T18:20:41.718043",
     "status": "completed"
    },
    "tags": []
   },
   "source": [
    "# Step 4: Clustering"
   ]
  },
  {
   "cell_type": "markdown",
   "id": "266365a2",
   "metadata": {
    "papermill": {
     "duration": 0.020772,
     "end_time": "2023-10-27T18:20:41.780003",
     "exception": false,
     "start_time": "2023-10-27T18:20:41.759231",
     "status": "completed"
    },
    "tags": []
   },
   "source": [
    "### Choosing the Number of Clusters k"
   ]
  },
  {
   "cell_type": "code",
   "execution_count": 49,
   "id": "3eddd81a",
   "metadata": {
    "execution": {
     "iopub.execute_input": "2023-10-27T18:20:41.825633Z",
     "iopub.status.busy": "2023-10-27T18:20:41.824719Z",
     "iopub.status.idle": "2023-10-27T18:20:56.070340Z",
     "shell.execute_reply": "2023-10-27T18:20:56.069267Z"
    },
    "papermill": {
     "duration": 14.271509,
     "end_time": "2023-10-27T18:20:56.072449",
     "exception": false,
     "start_time": "2023-10-27T18:20:41.800940",
     "status": "completed"
    },
    "tags": []
   },
   "outputs": [
    {
     "data": {
      "image/png": "[encoded data removed]",
      "text/plain": [
       "<Figure size 800x550 with 1 Axes>"
      ]
     },
     "metadata": {},
     "output_type": "display_data"
    },
    {
     "data": {
      "text/plain": [
       "<Axes: title={'center': 'Distortion Score Elbow for KMeans Clustering'}, xlabel='k', ylabel='distortion score'>"
      ]
     },
     "execution_count": 49,
     "metadata": {},
     "output_type": "execute_result"
    }
   ],
   "source": [
    "# create a k-Means model an Elbow-Visualizer\n",
    "model = KMeans(init=\"k-means++\", max_iter=200)\n",
    "visualizer = KElbowVisualizer(model, k=(1, 15), timings=False)\n",
    " \n",
    "# fit the visualizer and show the plot\n",
    "visualizer.fit(reduced_df)\n",
    "visualizer.show()"
   ]
  },
  {
   "cell_type": "markdown",
   "id": "10c6590e",
   "metadata": {
    "papermill": {
     "duration": 0.020963,
     "end_time": "2023-10-27T18:20:56.114796",
     "exception": false,
     "start_time": "2023-10-27T18:20:56.093833",
     "status": "completed"
    },
    "tags": []
   },
   "source": [
    "### K-Means clustering"
   ]
  },
  {
   "cell_type": "code",
   "execution_count": 50,
   "id": "f401bfd8",
   "metadata": {
    "execution": {
     "iopub.execute_input": "2023-10-27T18:20:56.158344Z",
     "iopub.status.busy": "2023-10-27T18:20:56.158004Z",
     "iopub.status.idle": "2023-10-27T18:20:57.344850Z",
     "shell.execute_reply": "2023-10-27T18:20:57.343855Z"
    },
    "papermill": {
     "duration": 1.211308,
     "end_time": "2023-10-27T18:20:57.347046",
     "exception": false,
     "start_time": "2023-10-27T18:20:56.135738",
     "status": "completed"
    },
    "tags": []
   },
   "outputs": [],
   "source": [
    "# clustering\n",
    "n_clusters = 6\n",
    "kmeans = KMeans(n_clusters=n_clusters, random_state=42, max_iter=100).fit(reduced_df)\n",
    " \n",
    "# extract centroids of clusters into a dataframe\n",
    "centers = kmeans.cluster_centers_\n",
    "\n",
    "# extract cluster labels\n",
    "labels = kmeans.labels_ "
   ]
  },
  {
   "cell_type": "code",
   "execution_count": 51,
   "id": "ebddd31a",
   "metadata": {
    "execution": {
     "iopub.execute_input": "2023-10-27T18:20:57.392247Z",
     "iopub.status.busy": "2023-10-27T18:20:57.391735Z",
     "iopub.status.idle": "2023-10-27T18:20:57.404123Z",
     "shell.execute_reply": "2023-10-27T18:20:57.403288Z"
    },
    "papermill": {
     "duration": 0.03689,
     "end_time": "2023-10-27T18:20:57.405753",
     "exception": false,
     "start_time": "2023-10-27T18:20:57.368863",
     "status": "completed"
    },
    "tags": []
   },
   "outputs": [
    {
     "data": {
      "text/html": [
       "<div>\n",
       "<style scoped>\n",
       "    .dataframe tbody tr th:only-of-type {\n",
       "        vertical-align: middle;\n",
       "    }\n",
       "\n",
       "    .dataframe tbody tr th {\n",
       "        vertical-align: top;\n",
       "    }\n",
       "\n",
       "    .dataframe thead th {\n",
       "        text-align: right;\n",
       "    }\n",
       "</style>\n",
       "<table border=\"1\" class=\"dataframe\">\n",
       "  <thead>\n",
       "    <tr style=\"text-align: right;\">\n",
       "      <th></th>\n",
       "      <th>LOCATION_STREET_ADDRESS</th>\n",
       "      <th>INCIDENT_REASON</th>\n",
       "      <th>INCIDENT_MONTH</th>\n",
       "      <th>CLUSTERS</th>\n",
       "    </tr>\n",
       "  </thead>\n",
       "  <tbody>\n",
       "    <tr>\n",
       "      <th>0</th>\n",
       "      <td>279</td>\n",
       "      <td>18</td>\n",
       "      <td>2</td>\n",
       "      <td>4</td>\n",
       "    </tr>\n",
       "    <tr>\n",
       "      <th>1</th>\n",
       "      <td>193</td>\n",
       "      <td>16</td>\n",
       "      <td>2</td>\n",
       "      <td>0</td>\n",
       "    </tr>\n",
       "    <tr>\n",
       "      <th>2</th>\n",
       "      <td>437</td>\n",
       "      <td>4</td>\n",
       "      <td>2</td>\n",
       "      <td>1</td>\n",
       "    </tr>\n",
       "    <tr>\n",
       "      <th>3</th>\n",
       "      <td>336</td>\n",
       "      <td>11</td>\n",
       "      <td>2</td>\n",
       "      <td>2</td>\n",
       "    </tr>\n",
       "    <tr>\n",
       "      <th>4</th>\n",
       "      <td>387</td>\n",
       "      <td>4</td>\n",
       "      <td>2</td>\n",
       "      <td>2</td>\n",
       "    </tr>\n",
       "  </tbody>\n",
       "</table>\n",
       "</div>"
      ],
      "text/plain": [
       "   LOCATION_STREET_ADDRESS  INCIDENT_REASON  INCIDENT_MONTH CLUSTERS\n",
       "0                      279               18               2        4\n",
       "1                      193               16               2        0\n",
       "2                      437                4               2        1\n",
       "3                      336               11               2        2\n",
       "4                      387                4               2        2"
      ]
     },
     "execution_count": 51,
     "metadata": {},
     "output_type": "execute_result"
    }
   ],
   "source": [
    "# creating dataframe for reduced data \n",
    "reduced_df['CLUSTERS'] = labels\n",
    "reduced_df['CLUSTERS'] = reduced_df['CLUSTERS'].astype(str)\n",
    "reduced_df.head()"
   ]
  },
  {
   "cell_type": "markdown",
   "id": "3822c6d0",
   "metadata": {
    "papermill": {
     "duration": 0.02095,
     "end_time": "2023-10-27T18:20:57.448105",
     "exception": false,
     "start_time": "2023-10-27T18:20:57.427155",
     "status": "completed"
    },
    "tags": []
   },
   "source": [
    "# Step 5: Cluster Analysis"
   ]
  },
  {
   "cell_type": "code",
   "execution_count": 52,
   "id": "4526004e",
   "metadata": {
    "execution": {
     "iopub.execute_input": "2023-10-27T18:20:57.493975Z",
     "iopub.status.busy": "2023-10-27T18:20:57.493589Z",
     "iopub.status.idle": "2023-10-27T18:20:57.510832Z",
     "shell.execute_reply": "2023-10-27T18:20:57.509750Z"
    },
    "papermill": {
     "duration": 0.041757,
     "end_time": "2023-10-27T18:20:57.512653",
     "exception": false,
     "start_time": "2023-10-27T18:20:57.470896",
     "status": "completed"
    },
    "tags": []
   },
   "outputs": [
    {
     "data": {
      "text/plain": [
       "[{'Cluster': 0, 'Size': 1286, 'Avg Distance': 22.475894622150182},\n",
       " {'Cluster': 1, 'Size': 3676, 'Avg Distance': 13.334573408043608},\n",
       " {'Cluster': 2, 'Size': 2688, 'Avg Distance': 17.059729981704912},\n",
       " {'Cluster': 3, 'Size': 1214, 'Avg Distance': 25.850477139364408},\n",
       " {'Cluster': 4, 'Size': 1306, 'Avg Distance': 26.32635171139016},\n",
       " {'Cluster': 5, 'Size': 598, 'Avg Distance': 13.432935796300157}]"
      ]
     },
     "execution_count": 52,
     "metadata": {},
     "output_type": "execute_result"
    }
   ],
   "source": [
    "# Analyzing cluster characteristics\n",
    "cluster_characteristics = []\n",
    "for i in range(n_clusters):    \n",
    "    cluster_data = label_df[selected_features][labels == i]\n",
    "    cluster_size = len(cluster_data)    \n",
    "    cluster_center = centers[i]\n",
    "    avg_distance = np.mean(np.linalg.norm(cluster_data - cluster_center, axis=1))    \n",
    "    cluster_characteristics.append({\n",
    "        \"Cluster\": i,        \n",
    "        \"Size\": cluster_size,\n",
    "        \"Avg Distance\": avg_distance,    \n",
    "    })\n",
    "    \n",
    "cluster_characteristics"
   ]
  },
  {
   "cell_type": "code",
   "execution_count": 53,
   "id": "3b27239e",
   "metadata": {
    "execution": {
     "iopub.execute_input": "2023-10-27T18:20:57.559171Z",
     "iopub.status.busy": "2023-10-27T18:20:57.558807Z",
     "iopub.status.idle": "2023-10-27T18:20:57.577424Z",
     "shell.execute_reply": "2023-10-27T18:20:57.576075Z"
    },
    "papermill": {
     "duration": 0.044355,
     "end_time": "2023-10-27T18:20:57.579692",
     "exception": false,
     "start_time": "2023-10-27T18:20:57.535337",
     "status": "completed"
    },
    "tags": []
   },
   "outputs": [
    {
     "name": "stdout",
     "output_type": "stream",
     "text": [
      "Cluster Means:\n",
      "          LOCATION_STREET_ADDRESS  INCIDENT_REASON  INCIDENT_MONTH\n",
      "CLUSTERS                                                          \n",
      "0                      155.283048        12.968896        3.685848\n",
      "1                      445.107454        13.114527        3.686072\n",
      "2                      340.284226        13.148810        3.594866\n",
      "3                       46.551895        12.808896        3.748764\n",
      "4                      240.668453        12.734303        3.657734\n",
      "5                      498.595318        13.366221        3.615385\n",
      "\n",
      "Cluster Medians:\n",
      "          LOCATION_STREET_ADDRESS  INCIDENT_REASON  INCIDENT_MONTH\n",
      "CLUSTERS                                                          \n",
      "0                           151.0             16.0             4.0\n",
      "1                           443.0             16.0             4.0\n",
      "2                           336.0             16.0             4.0\n",
      "3                            45.0             16.0             4.0\n",
      "4                           244.0             16.0             4.0\n",
      "5                           503.0             16.0             4.0\n"
     ]
    }
   ],
   "source": [
    "# Calculate mean and median for each cluster\n",
    "cluster_means = reduced_df.groupby('CLUSTERS').mean()\n",
    "cluster_medians = reduced_df.groupby('CLUSTERS').median()\n",
    "\n",
    "# Print the results\n",
    "print(\"Cluster Means:\")\n",
    "print(cluster_means)\n",
    "\n",
    "print(\"\\nCluster Medians:\")\n",
    "print(cluster_medians)"
   ]
  },
  {
   "cell_type": "code",
   "execution_count": 54,
   "id": "02a26f0a",
   "metadata": {
    "execution": {
     "iopub.execute_input": "2023-10-27T18:20:57.625629Z",
     "iopub.status.busy": "2023-10-27T18:20:57.625294Z",
     "iopub.status.idle": "2023-10-27T18:20:57.630068Z",
     "shell.execute_reply": "2023-10-27T18:20:57.629180Z"
    },
    "papermill": {
     "duration": 0.030042,
     "end_time": "2023-10-27T18:20:57.632154",
     "exception": false,
     "start_time": "2023-10-27T18:20:57.602112",
     "status": "completed"
    },
    "tags": []
   },
   "outputs": [
    {
     "name": "stdout",
     "output_type": "stream",
     "text": [
      "Cluster Centroids:\n",
      "[[155.28304821  12.9688958    3.68584759]\n",
      " [445.10745375  13.11452666   3.68607182]\n",
      " [340.28422619  13.14880952   3.59486607]\n",
      " [ 46.55189456  12.80889621   3.74876442]\n",
      " [240.66845329  12.73430322   3.65773354]\n",
      " [498.59531773  13.36622074   3.61538462]]\n"
     ]
    }
   ],
   "source": [
    "# Print the cluster centroids\n",
    "print(\"Cluster Centroids:\")\n",
    "print(centers)"
   ]
  },
  {
   "cell_type": "markdown",
   "id": "5221bb93",
   "metadata": {
    "papermill": {
     "duration": 0.023506,
     "end_time": "2023-10-27T18:20:57.677730",
     "exception": false,
     "start_time": "2023-10-27T18:20:57.654224",
     "status": "completed"
    },
    "tags": []
   },
   "source": [
    "### Silhouette Score & Davies-Bouldin Index & Variance Ratio Criterion & Within-Cluster Sum of Squares (WCSS)"
   ]
  },
  {
   "cell_type": "code",
   "execution_count": 55,
   "id": "6a8ffb2a",
   "metadata": {
    "execution": {
     "iopub.execute_input": "2023-10-27T18:20:57.724993Z",
     "iopub.status.busy": "2023-10-27T18:20:57.724654Z",
     "iopub.status.idle": "2023-10-27T18:20:58.875741Z",
     "shell.execute_reply": "2023-10-27T18:20:58.875044Z"
    },
    "papermill": {
     "duration": 1.177749,
     "end_time": "2023-10-27T18:20:58.877631",
     "exception": false,
     "start_time": "2023-10-27T18:20:57.699882",
     "status": "completed"
    },
    "tags": []
   },
   "outputs": [
    {
     "name": "stdout",
     "output_type": "stream",
     "text": [
      "Silhouette Score 0.6187823591264894\n",
      "Davies-Bouldin Index: 0.5039929444659211\n",
      "Calinski-Harabasz Index (Variance Ratio Criterion): 83351.33017849961\n",
      "Within-Cluster Sum of Squares (WCSS): 5462619.933265427\n"
     ]
    }
   ],
   "source": [
    "silhouette_avg = silhouette_score(label_df[selected_features], kmeans.labels_)\n",
    "print('Silhouette Score', silhouette_avg)\n",
    "\n",
    "db_index = davies_bouldin_score(label_df[selected_features], kmeans.labels_)\n",
    "print('Davies-Bouldin Index:', db_index)\n",
    "\n",
    "ch_score = calinski_harabasz_score(label_df[selected_features], kmeans.labels_)\n",
    "print('Calinski-Harabasz Index (Variance Ratio Criterion):', ch_score)\n",
    "\n",
    "wcss = kmeans.inertia_\n",
    "print('Within-Cluster Sum of Squares (WCSS):', wcss)"
   ]
  },
  {
   "cell_type": "markdown",
   "id": "a6bc3132",
   "metadata": {
    "papermill": {
     "duration": 0.028575,
     "end_time": "2023-10-27T18:20:58.937386",
     "exception": false,
     "start_time": "2023-10-27T18:20:58.908811",
     "status": "completed"
    },
    "tags": []
   },
   "source": [
    "# Step 6: Visualization of Clusters"
   ]
  },
  {
   "cell_type": "code",
   "execution_count": 56,
   "id": "58e3ebf7",
   "metadata": {
    "execution": {
     "iopub.execute_input": "2023-10-27T18:20:58.993104Z",
     "iopub.status.busy": "2023-10-27T18:20:58.992789Z",
     "iopub.status.idle": "2023-10-27T18:21:37.833386Z",
     "shell.execute_reply": "2023-10-27T18:21:37.832560Z"
    },
    "papermill": {
     "duration": 38.891951,
     "end_time": "2023-10-27T18:21:37.858401",
     "exception": false,
     "start_time": "2023-10-27T18:20:58.966450",
     "status": "completed"
    },
    "tags": []
   },
   "outputs": [
    {
     "data": {
      "image/png": "[encoded data removed]",
      "text/plain": [
       "<Figure size 800x600 with 1 Axes>"
      ]
     },
     "metadata": {},
     "output_type": "display_data"
    }
   ],
   "source": [
    "# Visualization of kmeans with TSNE\n",
    "\n",
    "tsne = TSNE(n_components=2, random_state=0)\n",
    "projections = tsne.fit_transform(label_df)\n",
    "\n",
    "plt.figure(figsize=(8, 6))\n",
    "for i in range(n_clusters):\n",
    "    plt.scatter(projections[labels == i][:, 0], \n",
    "                projections[labels == i][:, 1], label=f'Cluster {i + 1}')\n",
    "    \n",
    "plt.xlabel('t-SNE Component 1')\n",
    "plt.ylabel('t-SNE Component 2')\n",
    "plt.title('K-means Clustering with t-SNE')\n",
    "plt.legend(loc ='best')\n",
    "plt.show()"
   ]
  },
  {
   "cell_type": "code",
   "execution_count": 57,
   "id": "f4018659",
   "metadata": {
    "execution": {
     "iopub.execute_input": "2023-10-27T18:21:37.907136Z",
     "iopub.status.busy": "2023-10-27T18:21:37.906301Z",
     "iopub.status.idle": "2023-10-27T18:21:37.913060Z",
     "shell.execute_reply": "2023-10-27T18:21:37.910825Z"
    },
    "papermill": {
     "duration": 0.0352,
     "end_time": "2023-10-27T18:21:37.916851",
     "exception": false,
     "start_time": "2023-10-27T18:21:37.881651",
     "status": "completed"
    },
    "tags": []
   },
   "outputs": [],
   "source": [
    "# data = [len(reduced_df[reduced_df['CLUSTERS'] == feature]) for feature in reduced_df['CLUSTERS'].value_counts().index]\n",
    "# labels = ['CLUSTER 1', 'CLUSTER 2', 'CLUSTER 3', 'CLUSTER 4']\n",
    "\n",
    "# colors = ['#BEADFA', '#FFF3DA', '#96B6C5', '#C8E4B2']\n",
    "# explode = (0.01, 0.01, 0.01, 0.01)\n",
    "\n",
    "# # Creating autocpt arguments\n",
    "# def func(pct, allvalues):\n",
    "#     absolute = int(pct / 100. * np.sum(allvalues))\n",
    "#     return \"{:.1f}%\\n({:d})\".format(pct, absolute)\n",
    "\n",
    "# # Creating the pie chart\n",
    "# plt.figure(figsize=(20, 8))\n",
    "# plt.pie(data, labels=labels, explode=explode, colors=colors, \n",
    "#         autopct=lambda pct: func(pct, data), startangle=90, textprops=dict(color=\"#3F1D38\"))\n",
    "\n",
    "# plt.legend(labels, title='Clusters')\n",
    "# plt.title('Cluster Visualization')\n",
    "# plt.show()"
   ]
  },
  {
   "cell_type": "code",
   "execution_count": 58,
   "id": "0fff4a4b",
   "metadata": {
    "execution": {
     "iopub.execute_input": "2023-10-27T18:21:37.965375Z",
     "iopub.status.busy": "2023-10-27T18:21:37.965069Z",
     "iopub.status.idle": "2023-10-27T18:21:37.970039Z",
     "shell.execute_reply": "2023-10-27T18:21:37.969125Z"
    },
    "papermill": {
     "duration": 0.03099,
     "end_time": "2023-10-27T18:21:37.971718",
     "exception": false,
     "start_time": "2023-10-27T18:21:37.940728",
     "status": "completed"
    },
    "tags": []
   },
   "outputs": [],
   "source": [
    "df['CLUSTERS'] = reduced_df['CLUSTERS']"
   ]
  },
  {
   "cell_type": "code",
   "execution_count": 59,
   "id": "187c4d7d",
   "metadata": {
    "execution": {
     "iopub.execute_input": "2023-10-27T18:21:38.020490Z",
     "iopub.status.busy": "2023-10-27T18:21:38.020220Z",
     "iopub.status.idle": "2023-10-27T18:21:38.024814Z",
     "shell.execute_reply": "2023-10-27T18:21:38.023887Z"
    },
    "papermill": {
     "duration": 0.031284,
     "end_time": "2023-10-27T18:21:38.026423",
     "exception": false,
     "start_time": "2023-10-27T18:21:37.995139",
     "status": "completed"
    },
    "tags": []
   },
   "outputs": [],
   "source": [
    "def cluster_profile(df):\n",
    "    profiles = {}\n",
    "    \n",
    "    for column in df.columns:\n",
    "        if column != 'CLUSTERS':\n",
    "            profiles[f'{column}'] = df[column].value_counts().keys()[0]\n",
    "    \n",
    "    return profiles"
   ]
  },
  {
   "cell_type": "code",
   "execution_count": 60,
   "id": "451e937e",
   "metadata": {
    "execution": {
     "iopub.execute_input": "2023-10-27T18:21:38.074762Z",
     "iopub.status.busy": "2023-10-27T18:21:38.074124Z",
     "iopub.status.idle": "2023-10-27T18:21:38.099441Z",
     "shell.execute_reply": "2023-10-27T18:21:38.097969Z"
    },
    "papermill": {
     "duration": 0.051533,
     "end_time": "2023-10-27T18:21:38.101421",
     "exception": false,
     "start_time": "2023-10-27T18:21:38.049888",
     "status": "completed"
    },
    "tags": []
   },
   "outputs": [],
   "source": [
    "cluster_profile = df.groupby('CLUSTERS').apply(cluster_profile)\n",
    "cluster_profile_df = pd.DataFrame(cluster_profile.tolist(), index=cluster_profile.index)"
   ]
  },
  {
   "cell_type": "code",
   "execution_count": 61,
   "id": "1d99447d",
   "metadata": {
    "execution": {
     "iopub.execute_input": "2023-10-27T18:21:38.149808Z",
     "iopub.status.busy": "2023-10-27T18:21:38.148864Z",
     "iopub.status.idle": "2023-10-27T18:21:38.160612Z",
     "shell.execute_reply": "2023-10-27T18:21:38.159655Z"
    },
    "papermill": {
     "duration": 0.037468,
     "end_time": "2023-10-27T18:21:38.162329",
     "exception": false,
     "start_time": "2023-10-27T18:21:38.124861",
     "status": "completed"
    },
    "tags": []
   },
   "outputs": [
    {
     "data": {
      "text/html": [
       "<div>\n",
       "<style scoped>\n",
       "    .dataframe tbody tr th:only-of-type {\n",
       "        vertical-align: middle;\n",
       "    }\n",
       "\n",
       "    .dataframe tbody tr th {\n",
       "        vertical-align: top;\n",
       "    }\n",
       "\n",
       "    .dataframe thead th {\n",
       "        text-align: right;\n",
       "    }\n",
       "</style>\n",
       "<table border=\"1\" class=\"dataframe\">\n",
       "  <thead>\n",
       "    <tr style=\"text-align: right;\">\n",
       "      <th></th>\n",
       "      <th>INCIDENT_REASON</th>\n",
       "      <th>LOCATION_DISTRICT</th>\n",
       "      <th>INCIDENT_YEAR</th>\n",
       "      <th>INCIDENT_MONTH</th>\n",
       "      <th>INCIDENT_TIME</th>\n",
       "      <th>LOCATION_STREET_ADDRESS</th>\n",
       "    </tr>\n",
       "    <tr>\n",
       "      <th>CLUSTERS</th>\n",
       "      <th></th>\n",
       "      <th></th>\n",
       "      <th></th>\n",
       "      <th></th>\n",
       "      <th></th>\n",
       "      <th></th>\n",
       "    </tr>\n",
       "  </thead>\n",
       "  <tbody>\n",
       "    <tr>\n",
       "      <th>0</th>\n",
       "      <td>STOLEN VEHICLE</td>\n",
       "      <td>DISTRICT 31</td>\n",
       "      <td>2016</td>\n",
       "      <td>December</td>\n",
       "      <td>EVENING</td>\n",
       "      <td>FOOTHILL BLVD</td>\n",
       "    </tr>\n",
       "    <tr>\n",
       "      <th>1</th>\n",
       "      <td>STOLEN VEHICLE</td>\n",
       "      <td>DISTRICT 04</td>\n",
       "      <td>2016</td>\n",
       "      <td>December</td>\n",
       "      <td>EVENING</td>\n",
       "      <td>TH ST</td>\n",
       "    </tr>\n",
       "    <tr>\n",
       "      <th>2</th>\n",
       "      <td>STOLEN VEHICLE</td>\n",
       "      <td>DISTRICT 08</td>\n",
       "      <td>2016</td>\n",
       "      <td>January</td>\n",
       "      <td>EVENING</td>\n",
       "      <td>OTHERS</td>\n",
       "    </tr>\n",
       "    <tr>\n",
       "      <th>3</th>\n",
       "      <td>STOLEN VEHICLE</td>\n",
       "      <td>DISTRICT 04</td>\n",
       "      <td>2016</td>\n",
       "      <td>January</td>\n",
       "      <td>EVENING</td>\n",
       "      <td>BROADWAY</td>\n",
       "    </tr>\n",
       "    <tr>\n",
       "      <th>4</th>\n",
       "      <td>STOLEN VEHICLE</td>\n",
       "      <td>DISTRICT 04</td>\n",
       "      <td>2016</td>\n",
       "      <td>December</td>\n",
       "      <td>AFTERNOON</td>\n",
       "      <td>INTERNATIONAL BLVD</td>\n",
       "    </tr>\n",
       "    <tr>\n",
       "      <th>5</th>\n",
       "      <td>STOLEN VEHICLE</td>\n",
       "      <td>DISTRICT 08</td>\n",
       "      <td>2016</td>\n",
       "      <td>December</td>\n",
       "      <td>EVENING</td>\n",
       "      <td>WEBSTER ST</td>\n",
       "    </tr>\n",
       "  </tbody>\n",
       "</table>\n",
       "</div>"
      ],
      "text/plain": [
       "         INCIDENT_REASON LOCATION_DISTRICT INCIDENT_YEAR INCIDENT_MONTH  \\\n",
       "CLUSTERS                                                                  \n",
       "0         STOLEN VEHICLE       DISTRICT 31          2016       December   \n",
       "1         STOLEN VEHICLE       DISTRICT 04          2016       December   \n",
       "2         STOLEN VEHICLE       DISTRICT 08          2016        January   \n",
       "3         STOLEN VEHICLE       DISTRICT 04          2016        January   \n",
       "4         STOLEN VEHICLE       DISTRICT 04          2016       December   \n",
       "5         STOLEN VEHICLE       DISTRICT 08          2016       December   \n",
       "\n",
       "         INCIDENT_TIME LOCATION_STREET_ADDRESS  \n",
       "CLUSTERS                                        \n",
       "0              EVENING           FOOTHILL BLVD  \n",
       "1              EVENING                   TH ST  \n",
       "2              EVENING                  OTHERS  \n",
       "3              EVENING                BROADWAY  \n",
       "4            AFTERNOON      INTERNATIONAL BLVD  \n",
       "5              EVENING              WEBSTER ST  "
      ]
     },
     "execution_count": 61,
     "metadata": {},
     "output_type": "execute_result"
    }
   ],
   "source": [
    "cluster_profile_df"
   ]
  },
  {
   "cell_type": "code",
   "execution_count": null,
   "id": "5d30dc22",
   "metadata": {
    "papermill": {
     "duration": 0.023591,
     "end_time": "2023-10-27T18:21:38.209233",
     "exception": false,
     "start_time": "2023-10-27T18:21:38.185642",
     "status": "completed"
    },
    "tags": []
   },
   "outputs": [],
   "source": []
  }
 ],
 "metadata": {
  "kernelspec": {
   "display_name": "Python 3",
   "language": "python",
   "name": "python3"
  },
  "language_info": {
   "codemirror_mode": {
    "name": "ipython",
    "version": 3
   },
   "file_extension": ".py",
   "mimetype": "text/x-python",
   "name": "python",
   "nbconvert_exporter": "python",
   "pygments_lexer": "ipython3",
   "version": "3.10.12"
  },
  "papermill": {
   "default_parameters": {},
   "duration": 118.131833,
   "end_time": "2023-10-27T18:21:40.727996",
   "environment_variables": {},
   "exception": null,
   "input_path": "__notebook__.ipynb",
   "output_path": "__notebook__.ipynb",
   "parameters": {},
   "start_time": "2023-10-27T18:19:42.596163",
   "version": "2.4.0"
  }
 },
 "nbformat": 4,
 "nbformat_minor": 5
}
