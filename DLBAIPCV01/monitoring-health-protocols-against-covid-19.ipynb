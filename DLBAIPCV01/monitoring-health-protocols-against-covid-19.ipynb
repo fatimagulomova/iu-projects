{
 "cells": [
  {
   "cell_type": "markdown",
   "id": "793d6525",
   "metadata": {
    "papermill": {
     "duration": 0.003849,
     "end_time": "2023-09-01T02:55:42.453588",
     "exception": false,
     "start_time": "2023-09-01T02:55:42.449739",
     "status": "completed"
    },
    "tags": []
   },
   "source": [
    "# Notebook Imports"
   ]
  },
  {
   "cell_type": "code",
   "execution_count": 1,
   "id": "3c416cae",
   "metadata": {
    "execution": {
     "iopub.execute_input": "2023-09-01T02:55:42.462909Z",
     "iopub.status.busy": "2023-09-01T02:55:42.461825Z",
     "iopub.status.idle": "2023-09-01T02:55:42.684613Z",
     "shell.execute_reply": "2023-09-01T02:55:42.683664Z"
    },
    "papermill": {
     "duration": 0.229761,
     "end_time": "2023-09-01T02:55:42.687056",
     "exception": false,
     "start_time": "2023-09-01T02:55:42.457295",
     "status": "completed"
    },
    "tags": []
   },
   "outputs": [],
   "source": [
    "import cv2 as cv"
   ]
  },
  {
   "cell_type": "code",
   "execution_count": null,
   "id": "7d2893d2",
   "metadata": {
    "papermill": {
     "duration": 0.002461,
     "end_time": "2023-09-01T02:55:42.692405",
     "exception": false,
     "start_time": "2023-09-01T02:55:42.689944",
     "status": "completed"
    },
    "tags": []
   },
   "outputs": [],
   "source": []
  }
 ],
 "kernelspec": {
  "display_name": "Python 3",
  "language": "python",
  "name": "python3"
 },
 "language_info": {
  "codemirror_mode": {
   "name": "ipython",
   "version": 3
  },
  "file_extension": ".py",
  "mimetype": "text/x-python",
  "name": "python",
  "nbconvert_exporter": "python",
  "pygments_lexer": "ipython3",
  "version": "3.6.4"
 },
 "metadata": {
  "kernelspec": {
   "display_name": "Python 3",
   "language": "python",
   "name": "python3"
  },
  "language_info": {
   "codemirror_mode": {
    "name": "ipython",
    "version": 3
   },
   "file_extension": ".py",
   "mimetype": "text/x-python",
   "name": "python",
   "nbconvert_exporter": "python",
   "pygments_lexer": "ipython3",
   "version": "3.10.12"
  },
  "papermill": {
   "default_parameters": {},
   "duration": 3.825417,
   "end_time": "2023-09-01T02:55:43.113489",
   "environment_variables": {},
   "exception": null,
   "input_path": "__notebook__.ipynb",
   "output_path": "__notebook__.ipynb",
   "parameters": {},
   "start_time": "2023-09-01T02:55:39.288072",
   "version": "2.4.0"
  }
 },
 "nbformat": 4,
 "nbformat_minor": 5
}
